{
 "cells": [
  {
   "cell_type": "markdown",
   "metadata": {},
   "source": [
    "# Main questions to be addressed\n",
    "**What are the main factors that drive employee churn? Do they make sense? Explain your findings.**\n",
    "The main factors appear to be the salary.\n",
    "\n",
    "**What might you be able to do for the company to address employee Churn, what would be follow-up actions?**\n",
    "\n",
    "\n",
    "**If you could add to this data set just one variable that could help explain employee churn, what would that be?**\n",
    "Employee satisfaction regarding the job (if possible, obtained via survey) will greatly help improving the performance of the model.\n",
    "\n",
    "Your output should be in the form a a jupyter notebook and pdf output of a jupyter notebook in which you specify your results and how you got them.\n",
    "\n",
    "## data\n",
    "The table is:\n",
    "\n",
    "\"employee_retention\" - comprehensive information about employees. Columns:\n",
    "\n",
    "employee_id : id of the employee. Unique by employee per company\n",
    "\n",
    "company_id : company id.\n",
    "\n",
    "dept : employee department\n",
    "\n",
    "seniority : number of yrs of work experience when hired\n",
    "\n",
    "salary: average yearly salary of the employee during her tenure within the company\n",
    "\n",
    "join_date: when the employee joined the company, it can only be between 2011/01/24 and 2015/12/13\n",
    "\n",
    "quit_date: when the employee left her job (if she is still employed as of 2015/12/13, this field is NA)\n",
    "\n",
    "# Design\n",
    "I implement supervised learning using numeric (salary, seniority, duration of work = leaving date - join date), join_date) and categorical features (company, department) to predict the quit date of an employee using train-test split of the given data. To address the colinearity of numeric features, I calculate the correlation matrix to see if any of the two variables are strongly correlated.  "
   ]
  },
  {
   "cell_type": "code",
   "execution_count": 1,
   "metadata": {
    "collapsed": true
   },
   "outputs": [],
   "source": [
    "import pandas as pd\n",
    "import numpy as np\n",
    "import seaborn as sns"
   ]
  },
  {
   "cell_type": "code",
   "execution_count": 2,
   "metadata": {
    "collapsed": true
   },
   "outputs": [],
   "source": [
    "import matplotlib.pyplot as plt"
   ]
  },
  {
   "cell_type": "code",
   "execution_count": 3,
   "metadata": {
    "collapsed": true
   },
   "outputs": [],
   "source": [
    "from dateutil.parser import parse"
   ]
  },
  {
   "cell_type": "code",
   "execution_count": 4,
   "metadata": {
    "collapsed": false
   },
   "outputs": [
    {
     "data": {
      "text/html": [
       "<div>\n",
       "<style scoped>\n",
       "    .dataframe tbody tr th:only-of-type {\n",
       "        vertical-align: middle;\n",
       "    }\n",
       "\n",
       "    .dataframe tbody tr th {\n",
       "        vertical-align: top;\n",
       "    }\n",
       "\n",
       "    .dataframe thead th {\n",
       "        text-align: right;\n",
       "    }\n",
       "</style>\n",
       "<table border=\"1\" class=\"dataframe\">\n",
       "  <thead>\n",
       "    <tr style=\"text-align: right;\">\n",
       "      <th></th>\n",
       "      <th>employee_id</th>\n",
       "      <th>company_id</th>\n",
       "      <th>dept</th>\n",
       "      <th>seniority</th>\n",
       "      <th>salary</th>\n",
       "      <th>join_date</th>\n",
       "      <th>quit_date</th>\n",
       "    </tr>\n",
       "  </thead>\n",
       "  <tbody>\n",
       "    <tr>\n",
       "      <th>0</th>\n",
       "      <td>1001444.0</td>\n",
       "      <td>8</td>\n",
       "      <td>temp_contractor</td>\n",
       "      <td>0</td>\n",
       "      <td>5850.0</td>\n",
       "      <td>2008-01-26</td>\n",
       "      <td>2008-04-25</td>\n",
       "    </tr>\n",
       "    <tr>\n",
       "      <th>1</th>\n",
       "      <td>388804.0</td>\n",
       "      <td>8</td>\n",
       "      <td>design</td>\n",
       "      <td>21</td>\n",
       "      <td>191000.0</td>\n",
       "      <td>05.17.2011</td>\n",
       "      <td>2012-03-16</td>\n",
       "    </tr>\n",
       "    <tr>\n",
       "      <th>2</th>\n",
       "      <td>407990.0</td>\n",
       "      <td>3</td>\n",
       "      <td>design</td>\n",
       "      <td>9</td>\n",
       "      <td>90000.0</td>\n",
       "      <td>2012-03-26</td>\n",
       "      <td>2015-04-10</td>\n",
       "    </tr>\n",
       "    <tr>\n",
       "      <th>3</th>\n",
       "      <td>120657.0</td>\n",
       "      <td>2</td>\n",
       "      <td>engineer</td>\n",
       "      <td>20</td>\n",
       "      <td>298000.0</td>\n",
       "      <td>2013-04-08</td>\n",
       "      <td>2015-01-30</td>\n",
       "    </tr>\n",
       "    <tr>\n",
       "      <th>4</th>\n",
       "      <td>1006393.0</td>\n",
       "      <td>1</td>\n",
       "      <td>temp_contractor</td>\n",
       "      <td>0</td>\n",
       "      <td>8509.0</td>\n",
       "      <td>2008-07-20</td>\n",
       "      <td>2008-10-18</td>\n",
       "    </tr>\n",
       "    <tr>\n",
       "      <th>5</th>\n",
       "      <td>287530.0</td>\n",
       "      <td>5</td>\n",
       "      <td>marketing</td>\n",
       "      <td>20</td>\n",
       "      <td>180000.0</td>\n",
       "      <td>2014-06-30</td>\n",
       "      <td>NaN</td>\n",
       "    </tr>\n",
       "    <tr>\n",
       "      <th>6</th>\n",
       "      <td>561043.0</td>\n",
       "      <td>3</td>\n",
       "      <td>customer_service</td>\n",
       "      <td>18</td>\n",
       "      <td>119000.0</td>\n",
       "      <td>2012-07-02</td>\n",
       "      <td>2014-03-28</td>\n",
       "    </tr>\n",
       "    <tr>\n",
       "      <th>7</th>\n",
       "      <td>702479.0</td>\n",
       "      <td>7</td>\n",
       "      <td>data_science</td>\n",
       "      <td>7</td>\n",
       "      <td>140000.0</td>\n",
       "      <td>12.27.2011</td>\n",
       "      <td>2013-08-30</td>\n",
       "    </tr>\n",
       "    <tr>\n",
       "      <th>8</th>\n",
       "      <td>545690.0</td>\n",
       "      <td>10</td>\n",
       "      <td>data_science</td>\n",
       "      <td>16</td>\n",
       "      <td>238000.0</td>\n",
       "      <td>12.23.2013</td>\n",
       "      <td>NaN</td>\n",
       "    </tr>\n",
       "    <tr>\n",
       "      <th>9</th>\n",
       "      <td>622587.0</td>\n",
       "      <td>5</td>\n",
       "      <td>sales</td>\n",
       "      <td>28</td>\n",
       "      <td>166000.0</td>\n",
       "      <td>2015-07-01</td>\n",
       "      <td>NaN</td>\n",
       "    </tr>\n",
       "    <tr>\n",
       "      <th>10</th>\n",
       "      <td>430126.0</td>\n",
       "      <td>2</td>\n",
       "      <td>data_science</td>\n",
       "      <td>3</td>\n",
       "      <td>77000.0</td>\n",
       "      <td>2015-08-03</td>\n",
       "      <td>NaN</td>\n",
       "    </tr>\n",
       "    <tr>\n",
       "      <th>11</th>\n",
       "      <td>838072.0</td>\n",
       "      <td>3</td>\n",
       "      <td>data_science</td>\n",
       "      <td>13</td>\n",
       "      <td>162000.0</td>\n",
       "      <td>2011-10-03</td>\n",
       "      <td>2012-08-10</td>\n",
       "    </tr>\n",
       "    <tr>\n",
       "      <th>12</th>\n",
       "      <td>205557.0</td>\n",
       "      <td>8</td>\n",
       "      <td>customer_service</td>\n",
       "      <td>17</td>\n",
       "      <td>109000.0</td>\n",
       "      <td>2013-07-22</td>\n",
       "      <td>2014-07-18</td>\n",
       "    </tr>\n",
       "    <tr>\n",
       "      <th>13</th>\n",
       "      <td>554514.0</td>\n",
       "      <td>1</td>\n",
       "      <td>customer_service</td>\n",
       "      <td>4</td>\n",
       "      <td>33000.0</td>\n",
       "      <td>2013-04-15</td>\n",
       "      <td>2015-04-24</td>\n",
       "    </tr>\n",
       "    <tr>\n",
       "      <th>14</th>\n",
       "      <td>14751.0</td>\n",
       "      <td>7</td>\n",
       "      <td>design</td>\n",
       "      <td>18</td>\n",
       "      <td>162000.0</td>\n",
       "      <td>2012-04-30</td>\n",
       "      <td>2014-02-14</td>\n",
       "    </tr>\n",
       "    <tr>\n",
       "      <th>15</th>\n",
       "      <td>602443.0</td>\n",
       "      <td>3</td>\n",
       "      <td>sales</td>\n",
       "      <td>16</td>\n",
       "      <td>150000.0</td>\n",
       "      <td>2011-09-12</td>\n",
       "      <td>2013-07-19</td>\n",
       "    </tr>\n",
       "    <tr>\n",
       "      <th>16</th>\n",
       "      <td>488083.0</td>\n",
       "      <td>1</td>\n",
       "      <td>engineer</td>\n",
       "      <td>8</td>\n",
       "      <td>NaN</td>\n",
       "      <td>2011-06-13</td>\n",
       "      <td>2013-06-07</td>\n",
       "    </tr>\n",
       "    <tr>\n",
       "      <th>17</th>\n",
       "      <td>1007464.0</td>\n",
       "      <td>7</td>\n",
       "      <td>temp_contractor</td>\n",
       "      <td>0</td>\n",
       "      <td>7748.0</td>\n",
       "      <td>2009-11-14</td>\n",
       "      <td>2010-02-12</td>\n",
       "    </tr>\n",
       "    <tr>\n",
       "      <th>18</th>\n",
       "      <td>1002775.0</td>\n",
       "      <td>3</td>\n",
       "      <td>temp_contractor</td>\n",
       "      <td>0</td>\n",
       "      <td>7424.0</td>\n",
       "      <td>2008-01-14</td>\n",
       "      <td>2008-04-13</td>\n",
       "    </tr>\n",
       "    <tr>\n",
       "      <th>19</th>\n",
       "      <td>581423.0</td>\n",
       "      <td>6</td>\n",
       "      <td>marketing</td>\n",
       "      <td>1</td>\n",
       "      <td>35000.0</td>\n",
       "      <td>2012-01-09</td>\n",
       "      <td>2015-06-12</td>\n",
       "    </tr>\n",
       "    <tr>\n",
       "      <th>20</th>\n",
       "      <td>1000103.0</td>\n",
       "      <td>5</td>\n",
       "      <td>temp_contractor</td>\n",
       "      <td>0</td>\n",
       "      <td>9684.0</td>\n",
       "      <td>2008-05-18</td>\n",
       "      <td>2008-08-16</td>\n",
       "    </tr>\n",
       "    <tr>\n",
       "      <th>21</th>\n",
       "      <td>34604.0</td>\n",
       "      <td>2</td>\n",
       "      <td>design</td>\n",
       "      <td>29</td>\n",
       "      <td>224000.0</td>\n",
       "      <td>2015-09-08</td>\n",
       "      <td>NaN</td>\n",
       "    </tr>\n",
       "    <tr>\n",
       "      <th>22</th>\n",
       "      <td>1008116.0</td>\n",
       "      <td>4</td>\n",
       "      <td>temp_contractor</td>\n",
       "      <td>0</td>\n",
       "      <td>9865.0</td>\n",
       "      <td>2010-10-03</td>\n",
       "      <td>2011-01-01</td>\n",
       "    </tr>\n",
       "    <tr>\n",
       "      <th>23</th>\n",
       "      <td>182278.0</td>\n",
       "      <td>1</td>\n",
       "      <td>sales</td>\n",
       "      <td>19</td>\n",
       "      <td>179000.0</td>\n",
       "      <td>09.19.2011</td>\n",
       "      <td>2012-11-02</td>\n",
       "    </tr>\n",
       "    <tr>\n",
       "      <th>24</th>\n",
       "      <td>1003092.0</td>\n",
       "      <td>2</td>\n",
       "      <td>temp_contractor</td>\n",
       "      <td>0</td>\n",
       "      <td>5459.0</td>\n",
       "      <td>2009-09-23</td>\n",
       "      <td>2009-12-22</td>\n",
       "    </tr>\n",
       "    <tr>\n",
       "      <th>25</th>\n",
       "      <td>296069.0</td>\n",
       "      <td>2</td>\n",
       "      <td>engineer</td>\n",
       "      <td>16</td>\n",
       "      <td>308000.0</td>\n",
       "      <td>2012-01-03</td>\n",
       "      <td>NaN</td>\n",
       "    </tr>\n",
       "    <tr>\n",
       "      <th>26</th>\n",
       "      <td>1007778.0</td>\n",
       "      <td>7</td>\n",
       "      <td>temp_contractor</td>\n",
       "      <td>0</td>\n",
       "      <td>6749.0</td>\n",
       "      <td>2007-02-14</td>\n",
       "      <td>2007-05-15</td>\n",
       "    </tr>\n",
       "    <tr>\n",
       "      <th>27</th>\n",
       "      <td>612255.0</td>\n",
       "      <td>7</td>\n",
       "      <td>customer_service</td>\n",
       "      <td>6</td>\n",
       "      <td>66000.0</td>\n",
       "      <td>2015-03-23</td>\n",
       "      <td>NaN</td>\n",
       "    </tr>\n",
       "    <tr>\n",
       "      <th>28</th>\n",
       "      <td>28269.0</td>\n",
       "      <td>2</td>\n",
       "      <td>sales</td>\n",
       "      <td>9</td>\n",
       "      <td>153000.0</td>\n",
       "      <td>2011-08-29</td>\n",
       "      <td>2012-08-03</td>\n",
       "    </tr>\n",
       "    <tr>\n",
       "      <th>29</th>\n",
       "      <td>904543.0</td>\n",
       "      <td>2</td>\n",
       "      <td>data_science</td>\n",
       "      <td>17</td>\n",
       "      <td>314000.0</td>\n",
       "      <td>2013-11-25</td>\n",
       "      <td>NaN</td>\n",
       "    </tr>\n",
       "    <tr>\n",
       "      <th>...</th>\n",
       "      <td>...</td>\n",
       "      <td>...</td>\n",
       "      <td>...</td>\n",
       "      <td>...</td>\n",
       "      <td>...</td>\n",
       "      <td>...</td>\n",
       "      <td>...</td>\n",
       "    </tr>\n",
       "    <tr>\n",
       "      <th>70</th>\n",
       "      <td>893950.0</td>\n",
       "      <td>5</td>\n",
       "      <td>sales</td>\n",
       "      <td>24</td>\n",
       "      <td>171000.0</td>\n",
       "      <td>2015-06-01</td>\n",
       "      <td>NaN</td>\n",
       "    </tr>\n",
       "    <tr>\n",
       "      <th>71</th>\n",
       "      <td>586308.0</td>\n",
       "      <td>3</td>\n",
       "      <td>data_science</td>\n",
       "      <td>7</td>\n",
       "      <td>180000.0</td>\n",
       "      <td>2015-10-19</td>\n",
       "      <td>NaN</td>\n",
       "    </tr>\n",
       "    <tr>\n",
       "      <th>72</th>\n",
       "      <td>362702.0</td>\n",
       "      <td>1</td>\n",
       "      <td>engineer</td>\n",
       "      <td>8</td>\n",
       "      <td>176000.0</td>\n",
       "      <td>2015-12-07</td>\n",
       "      <td>NaN</td>\n",
       "    </tr>\n",
       "    <tr>\n",
       "      <th>73</th>\n",
       "      <td>1005714.0</td>\n",
       "      <td>2</td>\n",
       "      <td>temp_contractor</td>\n",
       "      <td>0</td>\n",
       "      <td>7589.0</td>\n",
       "      <td>2007-06-28</td>\n",
       "      <td>2007-09-26</td>\n",
       "    </tr>\n",
       "    <tr>\n",
       "      <th>74</th>\n",
       "      <td>1004725.0</td>\n",
       "      <td>7</td>\n",
       "      <td>temp_contractor</td>\n",
       "      <td>0</td>\n",
       "      <td>7578.0</td>\n",
       "      <td>2007-10-12</td>\n",
       "      <td>2008-01-10</td>\n",
       "    </tr>\n",
       "    <tr>\n",
       "      <th>75</th>\n",
       "      <td>1009499.0</td>\n",
       "      <td>4</td>\n",
       "      <td>temp_contractor</td>\n",
       "      <td>0</td>\n",
       "      <td>8795.0</td>\n",
       "      <td>2010-02-28</td>\n",
       "      <td>2010-05-29</td>\n",
       "    </tr>\n",
       "    <tr>\n",
       "      <th>76</th>\n",
       "      <td>1006018.0</td>\n",
       "      <td>2</td>\n",
       "      <td>temp_contractor</td>\n",
       "      <td>0</td>\n",
       "      <td>5015.0</td>\n",
       "      <td>2008-06-23</td>\n",
       "      <td>2008-09-21</td>\n",
       "    </tr>\n",
       "    <tr>\n",
       "      <th>77</th>\n",
       "      <td>813105.0</td>\n",
       "      <td>1</td>\n",
       "      <td>customer_service</td>\n",
       "      <td>18</td>\n",
       "      <td>116000.0</td>\n",
       "      <td>11.26.2012</td>\n",
       "      <td>2013-09-13</td>\n",
       "    </tr>\n",
       "    <tr>\n",
       "      <th>78</th>\n",
       "      <td>521684.0</td>\n",
       "      <td>1</td>\n",
       "      <td>engineer</td>\n",
       "      <td>27</td>\n",
       "      <td>311000.0</td>\n",
       "      <td>2011-05-23</td>\n",
       "      <td>2013-06-14</td>\n",
       "    </tr>\n",
       "    <tr>\n",
       "      <th>79</th>\n",
       "      <td>484300.0</td>\n",
       "      <td>1</td>\n",
       "      <td>data_science</td>\n",
       "      <td>8</td>\n",
       "      <td>224000.0</td>\n",
       "      <td>2012-01-03</td>\n",
       "      <td>2013-12-20</td>\n",
       "    </tr>\n",
       "    <tr>\n",
       "      <th>80</th>\n",
       "      <td>435466.0</td>\n",
       "      <td>4</td>\n",
       "      <td>customer_service</td>\n",
       "      <td>4</td>\n",
       "      <td>21000.0</td>\n",
       "      <td>12.30.2013</td>\n",
       "      <td>NaN</td>\n",
       "    </tr>\n",
       "    <tr>\n",
       "      <th>81</th>\n",
       "      <td>1007354.0</td>\n",
       "      <td>8</td>\n",
       "      <td>temp_contractor</td>\n",
       "      <td>0</td>\n",
       "      <td>5766.0</td>\n",
       "      <td>2008-12-04</td>\n",
       "      <td>2009-03-04</td>\n",
       "    </tr>\n",
       "    <tr>\n",
       "      <th>82</th>\n",
       "      <td>344517.0</td>\n",
       "      <td>2</td>\n",
       "      <td>customer_service</td>\n",
       "      <td>23</td>\n",
       "      <td>131000.0</td>\n",
       "      <td>2013-08-05</td>\n",
       "      <td>2014-07-25</td>\n",
       "    </tr>\n",
       "    <tr>\n",
       "      <th>83</th>\n",
       "      <td>69924.0</td>\n",
       "      <td>1</td>\n",
       "      <td>sales</td>\n",
       "      <td>15</td>\n",
       "      <td>241000.0</td>\n",
       "      <td>05.31.2011</td>\n",
       "      <td>2014-03-28</td>\n",
       "    </tr>\n",
       "    <tr>\n",
       "      <th>84</th>\n",
       "      <td>948118.0</td>\n",
       "      <td>8</td>\n",
       "      <td>design</td>\n",
       "      <td>20</td>\n",
       "      <td>139000.0</td>\n",
       "      <td>08.28.2014</td>\n",
       "      <td>2015-09-04</td>\n",
       "    </tr>\n",
       "    <tr>\n",
       "      <th>85</th>\n",
       "      <td>379085.0</td>\n",
       "      <td>7</td>\n",
       "      <td>data_science</td>\n",
       "      <td>15</td>\n",
       "      <td>202000.0</td>\n",
       "      <td>2015-04-07</td>\n",
       "      <td>NaN</td>\n",
       "    </tr>\n",
       "    <tr>\n",
       "      <th>86</th>\n",
       "      <td>251016.0</td>\n",
       "      <td>5</td>\n",
       "      <td>data_science</td>\n",
       "      <td>26</td>\n",
       "      <td>240000.0</td>\n",
       "      <td>06.24.2013</td>\n",
       "      <td>NaN</td>\n",
       "    </tr>\n",
       "    <tr>\n",
       "      <th>87</th>\n",
       "      <td>688985.0</td>\n",
       "      <td>4</td>\n",
       "      <td>customer_service</td>\n",
       "      <td>26</td>\n",
       "      <td>90000.0</td>\n",
       "      <td>2011-06-27</td>\n",
       "      <td>2012-06-22</td>\n",
       "    </tr>\n",
       "    <tr>\n",
       "      <th>88</th>\n",
       "      <td>823737.0</td>\n",
       "      <td>3</td>\n",
       "      <td>customer_service</td>\n",
       "      <td>13</td>\n",
       "      <td>67000.0</td>\n",
       "      <td>2014-03-24</td>\n",
       "      <td>NaN</td>\n",
       "    </tr>\n",
       "    <tr>\n",
       "      <th>89</th>\n",
       "      <td>1003589.0</td>\n",
       "      <td>5</td>\n",
       "      <td>temp_contractor</td>\n",
       "      <td>0</td>\n",
       "      <td>5130.0</td>\n",
       "      <td>2009-05-03</td>\n",
       "      <td>2009-08-01</td>\n",
       "    </tr>\n",
       "    <tr>\n",
       "      <th>90</th>\n",
       "      <td>1005568.0</td>\n",
       "      <td>9</td>\n",
       "      <td>temp_contractor</td>\n",
       "      <td>0</td>\n",
       "      <td>5902.0</td>\n",
       "      <td>2008-04-08</td>\n",
       "      <td>2008-07-07</td>\n",
       "    </tr>\n",
       "    <tr>\n",
       "      <th>91</th>\n",
       "      <td>101549.0</td>\n",
       "      <td>9</td>\n",
       "      <td>customer_service</td>\n",
       "      <td>9</td>\n",
       "      <td>49000.0</td>\n",
       "      <td>05.04.2015</td>\n",
       "      <td>NaN</td>\n",
       "    </tr>\n",
       "    <tr>\n",
       "      <th>92</th>\n",
       "      <td>452432.0</td>\n",
       "      <td>1</td>\n",
       "      <td>sales</td>\n",
       "      <td>19</td>\n",
       "      <td>196000.0</td>\n",
       "      <td>2012-12-24</td>\n",
       "      <td>2015-01-02</td>\n",
       "    </tr>\n",
       "    <tr>\n",
       "      <th>93</th>\n",
       "      <td>205973.0</td>\n",
       "      <td>1</td>\n",
       "      <td>marketing</td>\n",
       "      <td>9</td>\n",
       "      <td>116000.0</td>\n",
       "      <td>2015-03-23</td>\n",
       "      <td>NaN</td>\n",
       "    </tr>\n",
       "    <tr>\n",
       "      <th>94</th>\n",
       "      <td>359450.0</td>\n",
       "      <td>1</td>\n",
       "      <td>engineer</td>\n",
       "      <td>21</td>\n",
       "      <td>279000.0</td>\n",
       "      <td>2015-09-14</td>\n",
       "      <td>NaN</td>\n",
       "    </tr>\n",
       "    <tr>\n",
       "      <th>95</th>\n",
       "      <td>402859.0</td>\n",
       "      <td>1</td>\n",
       "      <td>marketing</td>\n",
       "      <td>28</td>\n",
       "      <td>219000.0</td>\n",
       "      <td>2014-07-14</td>\n",
       "      <td>NaN</td>\n",
       "    </tr>\n",
       "    <tr>\n",
       "      <th>96</th>\n",
       "      <td>807138.0</td>\n",
       "      <td>2</td>\n",
       "      <td>customer_service</td>\n",
       "      <td>7</td>\n",
       "      <td>76000.0</td>\n",
       "      <td>2012-03-05</td>\n",
       "      <td>2013-02-01</td>\n",
       "    </tr>\n",
       "    <tr>\n",
       "      <th>97</th>\n",
       "      <td>122238.0</td>\n",
       "      <td>7</td>\n",
       "      <td>design</td>\n",
       "      <td>10</td>\n",
       "      <td>96000.0</td>\n",
       "      <td>03.10.2014</td>\n",
       "      <td>2014-12-12</td>\n",
       "    </tr>\n",
       "    <tr>\n",
       "      <th>98</th>\n",
       "      <td>1005531.0</td>\n",
       "      <td>6</td>\n",
       "      <td>temp_contractor</td>\n",
       "      <td>0</td>\n",
       "      <td>9235.0</td>\n",
       "      <td>2009-10-24</td>\n",
       "      <td>2010-01-22</td>\n",
       "    </tr>\n",
       "    <tr>\n",
       "      <th>99</th>\n",
       "      <td>634259.0</td>\n",
       "      <td>2</td>\n",
       "      <td>engineer</td>\n",
       "      <td>9</td>\n",
       "      <td>181000.0</td>\n",
       "      <td>2014-09-15</td>\n",
       "      <td>NaN</td>\n",
       "    </tr>\n",
       "  </tbody>\n",
       "</table>\n",
       "<p>100 rows × 7 columns</p>\n",
       "</div>"
      ],
      "text/plain": [
       "    employee_id  company_id              dept  seniority    salary  \\\n",
       "0     1001444.0           8   temp_contractor          0    5850.0   \n",
       "1      388804.0           8            design         21  191000.0   \n",
       "2      407990.0           3            design          9   90000.0   \n",
       "3      120657.0           2          engineer         20  298000.0   \n",
       "4     1006393.0           1   temp_contractor          0    8509.0   \n",
       "5      287530.0           5         marketing         20  180000.0   \n",
       "6      561043.0           3  customer_service         18  119000.0   \n",
       "7      702479.0           7      data_science          7  140000.0   \n",
       "8      545690.0          10      data_science         16  238000.0   \n",
       "9      622587.0           5             sales         28  166000.0   \n",
       "10     430126.0           2      data_science          3   77000.0   \n",
       "11     838072.0           3      data_science         13  162000.0   \n",
       "12     205557.0           8  customer_service         17  109000.0   \n",
       "13     554514.0           1  customer_service          4   33000.0   \n",
       "14      14751.0           7            design         18  162000.0   \n",
       "15     602443.0           3             sales         16  150000.0   \n",
       "16     488083.0           1          engineer          8       NaN   \n",
       "17    1007464.0           7   temp_contractor          0    7748.0   \n",
       "18    1002775.0           3   temp_contractor          0    7424.0   \n",
       "19     581423.0           6         marketing          1   35000.0   \n",
       "20    1000103.0           5   temp_contractor          0    9684.0   \n",
       "21      34604.0           2            design         29  224000.0   \n",
       "22    1008116.0           4   temp_contractor          0    9865.0   \n",
       "23     182278.0           1             sales         19  179000.0   \n",
       "24    1003092.0           2   temp_contractor          0    5459.0   \n",
       "25     296069.0           2          engineer         16  308000.0   \n",
       "26    1007778.0           7   temp_contractor          0    6749.0   \n",
       "27     612255.0           7  customer_service          6   66000.0   \n",
       "28      28269.0           2             sales          9  153000.0   \n",
       "29     904543.0           2      data_science         17  314000.0   \n",
       "..          ...         ...               ...        ...       ...   \n",
       "70     893950.0           5             sales         24  171000.0   \n",
       "71     586308.0           3      data_science          7  180000.0   \n",
       "72     362702.0           1          engineer          8  176000.0   \n",
       "73    1005714.0           2   temp_contractor          0    7589.0   \n",
       "74    1004725.0           7   temp_contractor          0    7578.0   \n",
       "75    1009499.0           4   temp_contractor          0    8795.0   \n",
       "76    1006018.0           2   temp_contractor          0    5015.0   \n",
       "77     813105.0           1  customer_service         18  116000.0   \n",
       "78     521684.0           1          engineer         27  311000.0   \n",
       "79     484300.0           1      data_science          8  224000.0   \n",
       "80     435466.0           4  customer_service          4   21000.0   \n",
       "81    1007354.0           8   temp_contractor          0    5766.0   \n",
       "82     344517.0           2  customer_service         23  131000.0   \n",
       "83      69924.0           1             sales         15  241000.0   \n",
       "84     948118.0           8            design         20  139000.0   \n",
       "85     379085.0           7      data_science         15  202000.0   \n",
       "86     251016.0           5      data_science         26  240000.0   \n",
       "87     688985.0           4  customer_service         26   90000.0   \n",
       "88     823737.0           3  customer_service         13   67000.0   \n",
       "89    1003589.0           5   temp_contractor          0    5130.0   \n",
       "90    1005568.0           9   temp_contractor          0    5902.0   \n",
       "91     101549.0           9  customer_service          9   49000.0   \n",
       "92     452432.0           1             sales         19  196000.0   \n",
       "93     205973.0           1         marketing          9  116000.0   \n",
       "94     359450.0           1          engineer         21  279000.0   \n",
       "95     402859.0           1         marketing         28  219000.0   \n",
       "96     807138.0           2  customer_service          7   76000.0   \n",
       "97     122238.0           7            design         10   96000.0   \n",
       "98    1005531.0           6   temp_contractor          0    9235.0   \n",
       "99     634259.0           2          engineer          9  181000.0   \n",
       "\n",
       "     join_date   quit_date  \n",
       "0   2008-01-26  2008-04-25  \n",
       "1   05.17.2011  2012-03-16  \n",
       "2   2012-03-26  2015-04-10  \n",
       "3   2013-04-08  2015-01-30  \n",
       "4   2008-07-20  2008-10-18  \n",
       "5   2014-06-30         NaN  \n",
       "6   2012-07-02  2014-03-28  \n",
       "7   12.27.2011  2013-08-30  \n",
       "8   12.23.2013         NaN  \n",
       "9   2015-07-01         NaN  \n",
       "10  2015-08-03         NaN  \n",
       "11  2011-10-03  2012-08-10  \n",
       "12  2013-07-22  2014-07-18  \n",
       "13  2013-04-15  2015-04-24  \n",
       "14  2012-04-30  2014-02-14  \n",
       "15  2011-09-12  2013-07-19  \n",
       "16  2011-06-13  2013-06-07  \n",
       "17  2009-11-14  2010-02-12  \n",
       "18  2008-01-14  2008-04-13  \n",
       "19  2012-01-09  2015-06-12  \n",
       "20  2008-05-18  2008-08-16  \n",
       "21  2015-09-08         NaN  \n",
       "22  2010-10-03  2011-01-01  \n",
       "23  09.19.2011  2012-11-02  \n",
       "24  2009-09-23  2009-12-22  \n",
       "25  2012-01-03         NaN  \n",
       "26  2007-02-14  2007-05-15  \n",
       "27  2015-03-23         NaN  \n",
       "28  2011-08-29  2012-08-03  \n",
       "29  2013-11-25         NaN  \n",
       "..         ...         ...  \n",
       "70  2015-06-01         NaN  \n",
       "71  2015-10-19         NaN  \n",
       "72  2015-12-07         NaN  \n",
       "73  2007-06-28  2007-09-26  \n",
       "74  2007-10-12  2008-01-10  \n",
       "75  2010-02-28  2010-05-29  \n",
       "76  2008-06-23  2008-09-21  \n",
       "77  11.26.2012  2013-09-13  \n",
       "78  2011-05-23  2013-06-14  \n",
       "79  2012-01-03  2013-12-20  \n",
       "80  12.30.2013         NaN  \n",
       "81  2008-12-04  2009-03-04  \n",
       "82  2013-08-05  2014-07-25  \n",
       "83  05.31.2011  2014-03-28  \n",
       "84  08.28.2014  2015-09-04  \n",
       "85  2015-04-07         NaN  \n",
       "86  06.24.2013         NaN  \n",
       "87  2011-06-27  2012-06-22  \n",
       "88  2014-03-24         NaN  \n",
       "89  2009-05-03  2009-08-01  \n",
       "90  2008-04-08  2008-07-07  \n",
       "91  05.04.2015         NaN  \n",
       "92  2012-12-24  2015-01-02  \n",
       "93  2015-03-23         NaN  \n",
       "94  2015-09-14         NaN  \n",
       "95  2014-07-14         NaN  \n",
       "96  2012-03-05  2013-02-01  \n",
       "97  03.10.2014  2014-12-12  \n",
       "98  2009-10-24  2010-01-22  \n",
       "99  2014-09-15         NaN  \n",
       "\n",
       "[100 rows x 7 columns]"
      ]
     },
     "execution_count": 4,
     "metadata": {},
     "output_type": "execute_result"
    }
   ],
   "source": [
    "emp = pd.read_csv('../employee_retention.csv',index_col = 0)\n",
    "emp.head(100)"
   ]
  },
  {
   "cell_type": "code",
   "execution_count": 5,
   "metadata": {
    "collapsed": false
   },
   "outputs": [
    {
     "name": "stdout",
     "output_type": "stream",
     "text": [
      "<class 'pandas.core.frame.DataFrame'>\n",
      "Int64Index: 34702 entries, 0 to 34701\n",
      "Data columns (total 7 columns):\n",
      "employee_id    34702 non-null float64\n",
      "company_id     34702 non-null int64\n",
      "dept           34702 non-null object\n",
      "seniority      34702 non-null int64\n",
      "salary         34463 non-null float64\n",
      "join_date      34702 non-null object\n",
      "quit_date      23510 non-null object\n",
      "dtypes: float64(2), int64(2), object(3)\n",
      "memory usage: 2.1+ MB\n"
     ]
    }
   ],
   "source": [
    "emp.info()"
   ]
  },
  {
   "cell_type": "code",
   "execution_count": 6,
   "metadata": {
    "collapsed": true
   },
   "outputs": [],
   "source": [
    "#emp_quit = emp.dropna(subset=['quit_date'])"
   ]
  },
  {
   "cell_type": "code",
   "execution_count": 7,
   "metadata": {
    "collapsed": true
   },
   "outputs": [],
   "source": [
    "#emp_quit['join_date']  = pd.to_datetime(emp_quit['join_date'])\n",
    "#emp_quit['quit_date']  = pd.to_datetime(emp_quit['quit_date'])"
   ]
  },
  {
   "cell_type": "code",
   "execution_count": 8,
   "metadata": {
    "collapsed": true
   },
   "outputs": [],
   "source": [
    "emp['join_date']  = pd.to_datetime(emp['join_date'])\n",
    "emp['quit_date']  = pd.to_datetime(emp['quit_date'])"
   ]
  },
  {
   "cell_type": "code",
   "execution_count": 9,
   "metadata": {
    "collapsed": false
   },
   "outputs": [
    {
     "data": {
      "text/plain": [
       "0        0.0\n",
       "1        0.0\n",
       "2        0.0\n",
       "3        0.0\n",
       "4        0.0\n",
       "5        1.0\n",
       "6        0.0\n",
       "7        0.0\n",
       "8        1.0\n",
       "9        1.0\n",
       "10       1.0\n",
       "11       0.0\n",
       "12       0.0\n",
       "13       0.0\n",
       "14       0.0\n",
       "15       0.0\n",
       "16       0.0\n",
       "17       0.0\n",
       "18       0.0\n",
       "19       0.0\n",
       "20       0.0\n",
       "21       1.0\n",
       "22       0.0\n",
       "23       0.0\n",
       "24       0.0\n",
       "25       1.0\n",
       "26       0.0\n",
       "27       1.0\n",
       "28       0.0\n",
       "29       1.0\n",
       "        ... \n",
       "34672    1.0\n",
       "34673    1.0\n",
       "34674    0.0\n",
       "34675    1.0\n",
       "34676    0.0\n",
       "34677    0.0\n",
       "34678    0.0\n",
       "34679    1.0\n",
       "34680    0.0\n",
       "34681    0.0\n",
       "34682    1.0\n",
       "34683    0.0\n",
       "34684    1.0\n",
       "34685    1.0\n",
       "34686    0.0\n",
       "34687    0.0\n",
       "34688    0.0\n",
       "34689    0.0\n",
       "34690    0.0\n",
       "34691    1.0\n",
       "34692    0.0\n",
       "34693    0.0\n",
       "34694    1.0\n",
       "34695    0.0\n",
       "34696    1.0\n",
       "34697    0.0\n",
       "34698    0.0\n",
       "34699    0.0\n",
       "34700    0.0\n",
       "34701    0.0\n",
       "Name: cont, Length: 34702, dtype: float64"
      ]
     },
     "execution_count": 9,
     "metadata": {},
     "output_type": "execute_result"
    }
   ],
   "source": [
    "emp.loc[emp['quit_date'].isnull(),'cont'] = 1\n",
    "emp.loc[emp['quit_date'].notnull(),'cont']=0\n",
    "emp['cont']"
   ]
  },
  {
   "cell_type": "code",
   "execution_count": 10,
   "metadata": {
    "collapsed": true
   },
   "outputs": [],
   "source": [
    "emp['quit_date'] = emp['quit_date'].fillna(pd.Timestamp('20151213'))"
   ]
  },
  {
   "cell_type": "markdown",
   "metadata": {},
   "source": [
    "Although the NaN values in quit_date means that the people indicates that they are still working for the company, for our purpose (predicting the quit time) the data is not very useful and only hurts the statistics of the prediction, thus I remove them from the sample (=emp_quit)"
   ]
  },
  {
   "cell_type": "code",
   "execution_count": 11,
   "metadata": {
    "collapsed": true
   },
   "outputs": [],
   "source": [
    "#emp_quit['quit_date']"
   ]
  },
  {
   "cell_type": "code",
   "execution_count": 12,
   "metadata": {
    "collapsed": true
   },
   "outputs": [],
   "source": [
    "#emp_quit['duration'] = (emp_quit['quit_date'] - emp_quit['join_date']).dt.days"
   ]
  },
  {
   "cell_type": "code",
   "execution_count": 13,
   "metadata": {
    "collapsed": true
   },
   "outputs": [],
   "source": [
    "emp['duration'] = (emp['quit_date'] - emp['join_date']).dt.days"
   ]
  },
  {
   "cell_type": "code",
   "execution_count": 14,
   "metadata": {
    "collapsed": true
   },
   "outputs": [],
   "source": [
    "#emp['duration'].loc[emp['cont']==0]"
   ]
  },
  {
   "cell_type": "code",
   "execution_count": 15,
   "metadata": {
    "collapsed": false
   },
   "outputs": [
    {
     "name": "stderr",
     "output_type": "stream",
     "text": [
      "/home/ijee/anaconda3/envs/insight/lib/python3.6/site-packages/scipy/stats/stats.py:1713: FutureWarning: Using a non-tuple sequence for multidimensional indexing is deprecated; use `arr[tuple(seq)]` instead of `arr[seq]`. In the future this will be interpreted as an array index, `arr[np.array(seq)]`, which will result either in an error or a different result.\n",
      "  return np.add.reduce(sorted[indexer] * weights, axis=axis) / sumval\n"
     ]
    },
    {
     "data": {
      "text/plain": [
       "<matplotlib.axes._subplots.AxesSubplot at 0x7fb5ce2394e0>"
      ]
     },
     "execution_count": 15,
     "metadata": {},
     "output_type": "execute_result"
    },
    {
     "data": {
      "image/png": "[encoded data removed]",
      "text/plain": [
       "<Figure size 432x288 with 1 Axes>"
      ]
     },
     "metadata": {
      "needs_background": "light"
     },
     "output_type": "display_data"
    }
   ],
   "source": [
    "sns.distplot(emp['duration'].loc[(emp['dept']!='temp_contractor') & (emp['cont']==0)])\n",
    "# For people who quit, the distribution of duration can be modeled as 4 gaussians: \n",
    "# a year, two years, three and four. Very pretty!"
   ]
  },
  {
   "cell_type": "code",
   "execution_count": 16,
   "metadata": {
    "collapsed": false
   },
   "outputs": [
    {
     "name": "stderr",
     "output_type": "stream",
     "text": [
      "/home/ijee/anaconda3/envs/insight/lib/python3.6/site-packages/scipy/stats/stats.py:1713: FutureWarning: Using a non-tuple sequence for multidimensional indexing is deprecated; use `arr[tuple(seq)]` instead of `arr[seq]`. In the future this will be interpreted as an array index, `arr[np.array(seq)]`, which will result either in an error or a different result.\n",
      "  return np.add.reduce(sorted[indexer] * weights, axis=axis) / sumval\n"
     ]
    },
    {
     "data": {
      "text/plain": [
       "<matplotlib.axes._subplots.AxesSubplot at 0x7fb5cde94208>"
      ]
     },
     "execution_count": 16,
     "metadata": {},
     "output_type": "execute_result"
    },
    {
     "data": {
      "image/png": "[encoded data removed]",
      "text/plain": [
       "<Figure size 432x288 with 1 Axes>"
      ]
     },
     "metadata": {
      "needs_background": "light"
     },
     "output_type": "display_data"
    }
   ],
   "source": [
    "sns.distplot(emp['duration'].loc[(emp['dept']!='temp_contractor') & (emp['cont']==1)])\n",
    "# For people who are continuing to working at the company, it's hard to model since \"they have not quit\". \n",
    "# we can see what is the difference in population here maybe."
   ]
  },
  {
   "cell_type": "code",
   "execution_count": 17,
   "metadata": {
    "collapsed": false
   },
   "outputs": [
    {
     "name": "stderr",
     "output_type": "stream",
     "text": [
      "/home/ijee/anaconda3/envs/insight/lib/python3.6/site-packages/scipy/stats/stats.py:1713: FutureWarning: Using a non-tuple sequence for multidimensional indexing is deprecated; use `arr[tuple(seq)]` instead of `arr[seq]`. In the future this will be interpreted as an array index, `arr[np.array(seq)]`, which will result either in an error or a different result.\n",
      "  return np.add.reduce(sorted[indexer] * weights, axis=axis) / sumval\n"
     ]
    },
    {
     "data": {
      "text/plain": [
       "<matplotlib.axes._subplots.AxesSubplot at 0x7fb5cdd99710>"
      ]
     },
     "execution_count": 17,
     "metadata": {},
     "output_type": "execute_result"
    },
    {
     "data": {
      "image/png": "[encoded data removed]",
      "text/plain": [
       "<Figure size 432x288 with 1 Axes>"
      ]
     },
     "metadata": {
      "needs_background": "light"
     },
     "output_type": "display_data"
    }
   ],
   "source": [
    "fig, ax = plt.subplots()\n",
    "sns.distplot(emp['duration'].loc[(emp['dept']!='temp_contractor') & (emp['cont']==0)],ax=ax)\n",
    "sns.distplot(emp['duration'].loc[(emp['dept']!='temp_contractor') & (emp['cont']==1)], ax=ax)"
   ]
  },
  {
   "cell_type": "code",
   "execution_count": 18,
   "metadata": {
    "collapsed": false
   },
   "outputs": [
    {
     "data": {
      "text/html": [
       "<div>\n",
       "<style scoped>\n",
       "    .dataframe tbody tr th:only-of-type {\n",
       "        vertical-align: middle;\n",
       "    }\n",
       "\n",
       "    .dataframe tbody tr th {\n",
       "        vertical-align: top;\n",
       "    }\n",
       "\n",
       "    .dataframe thead th {\n",
       "        text-align: right;\n",
       "    }\n",
       "</style>\n",
       "<table border=\"1\" class=\"dataframe\">\n",
       "  <thead>\n",
       "    <tr style=\"text-align: right;\">\n",
       "      <th></th>\n",
       "      <th>employee_id</th>\n",
       "      <th>company_id</th>\n",
       "      <th>seniority</th>\n",
       "      <th>salary</th>\n",
       "      <th>cont</th>\n",
       "      <th>duration</th>\n",
       "    </tr>\n",
       "  </thead>\n",
       "  <tbody>\n",
       "    <tr>\n",
       "      <th>count</th>\n",
       "      <td>3.470200e+04</td>\n",
       "      <td>34702.000000</td>\n",
       "      <td>34702.000000</td>\n",
       "      <td>34463.000000</td>\n",
       "      <td>34702.000000</td>\n",
       "      <td>34702.000000</td>\n",
       "    </tr>\n",
       "    <tr>\n",
       "      <th>mean</th>\n",
       "      <td>6.466667e+05</td>\n",
       "      <td>4.023370</td>\n",
       "      <td>10.056625</td>\n",
       "      <td>100280.585004</td>\n",
       "      <td>0.322517</td>\n",
       "      <td>434.753905</td>\n",
       "    </tr>\n",
       "    <tr>\n",
       "      <th>std</th>\n",
       "      <td>3.337653e+05</td>\n",
       "      <td>2.911201</td>\n",
       "      <td>9.355505</td>\n",
       "      <td>87322.502536</td>\n",
       "      <td>0.467447</td>\n",
       "      <td>375.749013</td>\n",
       "    </tr>\n",
       "    <tr>\n",
       "      <th>min</th>\n",
       "      <td>3.600000e+01</td>\n",
       "      <td>1.000000</td>\n",
       "      <td>0.000000</td>\n",
       "      <td>5000.000000</td>\n",
       "      <td>0.000000</td>\n",
       "      <td>3.000000</td>\n",
       "    </tr>\n",
       "    <tr>\n",
       "      <th>25%</th>\n",
       "      <td>3.529228e+05</td>\n",
       "      <td>1.000000</td>\n",
       "      <td>0.000000</td>\n",
       "      <td>9302.000000</td>\n",
       "      <td>0.000000</td>\n",
       "      <td>90.000000</td>\n",
       "    </tr>\n",
       "    <tr>\n",
       "      <th>50%</th>\n",
       "      <td>7.063230e+05</td>\n",
       "      <td>3.000000</td>\n",
       "      <td>8.000000</td>\n",
       "      <td>88000.000000</td>\n",
       "      <td>0.000000</td>\n",
       "      <td>349.000000</td>\n",
       "    </tr>\n",
       "    <tr>\n",
       "      <th>75%</th>\n",
       "      <td>1.001324e+06</td>\n",
       "      <td>6.000000</td>\n",
       "      <td>18.000000</td>\n",
       "      <td>158000.000000</td>\n",
       "      <td>1.000000</td>\n",
       "      <td>676.000000</td>\n",
       "    </tr>\n",
       "    <tr>\n",
       "      <th>max</th>\n",
       "      <td>1.009999e+06</td>\n",
       "      <td>12.000000</td>\n",
       "      <td>99.000000</td>\n",
       "      <td>408000.000000</td>\n",
       "      <td>1.000000</td>\n",
       "      <td>1777.000000</td>\n",
       "    </tr>\n",
       "  </tbody>\n",
       "</table>\n",
       "</div>"
      ],
      "text/plain": [
       "        employee_id    company_id     seniority         salary          cont  \\\n",
       "count  3.470200e+04  34702.000000  34702.000000   34463.000000  34702.000000   \n",
       "mean   6.466667e+05      4.023370     10.056625  100280.585004      0.322517   \n",
       "std    3.337653e+05      2.911201      9.355505   87322.502536      0.467447   \n",
       "min    3.600000e+01      1.000000      0.000000    5000.000000      0.000000   \n",
       "25%    3.529228e+05      1.000000      0.000000    9302.000000      0.000000   \n",
       "50%    7.063230e+05      3.000000      8.000000   88000.000000      0.000000   \n",
       "75%    1.001324e+06      6.000000     18.000000  158000.000000      1.000000   \n",
       "max    1.009999e+06     12.000000     99.000000  408000.000000      1.000000   \n",
       "\n",
       "           duration  \n",
       "count  34702.000000  \n",
       "mean     434.753905  \n",
       "std      375.749013  \n",
       "min        3.000000  \n",
       "25%       90.000000  \n",
       "50%      349.000000  \n",
       "75%      676.000000  \n",
       "max     1777.000000  "
      ]
     },
     "execution_count": 18,
     "metadata": {},
     "output_type": "execute_result"
    }
   ],
   "source": [
    "emp.describe()\n",
    "# There are 35k employee information in the data \n",
    "# Where 24k are ones who quit, 11k are continuing to work\n",
    "# we need to see what makes the population difference"
   ]
  },
  {
   "cell_type": "code",
   "execution_count": 19,
   "metadata": {
    "collapsed": false
   },
   "outputs": [
    {
     "data": {
      "text/plain": [
       "array([ 8,  3,  2,  1,  5,  7, 10,  6,  4,  9, 12, 11])"
      ]
     },
     "execution_count": 19,
     "metadata": {},
     "output_type": "execute_result"
    }
   ],
   "source": [
    "emp['company_id'].unique()\n",
    "# no missing company info, 12 companies"
   ]
  },
  {
   "cell_type": "code",
   "execution_count": 20,
   "metadata": {
    "collapsed": false
   },
   "outputs": [
    {
     "data": {
      "text/plain": [
       "0"
      ]
     },
     "execution_count": 20,
     "metadata": {},
     "output_type": "execute_result"
    }
   ],
   "source": [
    "emp['quit_date'].loc[emp['dept']=='sales'].isnull().sum()\n",
    "#len(emp.loc[emp['dept']=='design'])\n",
    "# 11192, a lot of quit date is missing: about 30% of the data\n",
    "# 602/1380 design\n",
    "# 2251/4613 engineer\n",
    "# 1384/3167 marketing\n",
    "# 4086/9180 customer service\n",
    "# 1508/3190 DS\n",
    "# 1361/3172 sales"
   ]
  },
  {
   "cell_type": "code",
   "execution_count": 21,
   "metadata": {
    "collapsed": false
   },
   "outputs": [
    {
     "data": {
      "text/plain": [
       "array(['temp_contractor', 'design', 'engineer', 'marketing',\n",
       "       'customer_service', 'data_science', 'sales'], dtype=object)"
      ]
     },
     "execution_count": 21,
     "metadata": {},
     "output_type": "execute_result"
    }
   ],
   "source": [
    "emp['dept'].unique()\n",
    "# by definition, temp_contractor will be temporary and thus should be removed from the data"
   ]
  },
  {
   "cell_type": "code",
   "execution_count": 22,
   "metadata": {
    "collapsed": true
   },
   "outputs": [],
   "source": [
    "emp['seniority'].unique()\n",
    "emp = emp.loc[emp['seniority']<50]\n",
    "# Former work experiences (in years): are 98 & 99 reasonable values? no. Let's take a look at those datapoints\n",
    "# there are only two, and it does not make sense to include those datapoints in the analysis, thus we decide\n",
    "# to drop them"
   ]
  },
  {
   "cell_type": "code",
   "execution_count": 23,
   "metadata": {
    "collapsed": false
   },
   "outputs": [
    {
     "data": {
      "text/plain": [
       "239"
      ]
     },
     "execution_count": 23,
     "metadata": {},
     "output_type": "execute_result"
    }
   ],
   "source": [
    "emp['salary'].isnull().sum()"
   ]
  },
  {
   "cell_type": "code",
   "execution_count": 24,
   "metadata": {
    "collapsed": false
   },
   "outputs": [
    {
     "name": "stderr",
     "output_type": "stream",
     "text": [
      "/home/ijee/anaconda3/envs/insight/lib/python3.6/site-packages/scipy/stats/stats.py:1713: FutureWarning: Using a non-tuple sequence for multidimensional indexing is deprecated; use `arr[tuple(seq)]` instead of `arr[seq]`. In the future this will be interpreted as an array index, `arr[np.array(seq)]`, which will result either in an error or a different result.\n",
      "  return np.add.reduce(sorted[indexer] * weights, axis=axis) / sumval\n"
     ]
    },
    {
     "data": {
      "text/plain": [
       "<matplotlib.axes._subplots.AxesSubplot at 0x7fb5ccde0588>"
      ]
     },
     "execution_count": 24,
     "metadata": {},
     "output_type": "execute_result"
    },
    {
     "data": {
      "image/png": "[encoded data removed]",
      "text/plain": [
       "<Figure size 432x288 with 1 Axes>"
      ]
     },
     "metadata": {
      "needs_background": "light"
     },
     "output_type": "display_data"
    }
   ],
   "source": [
    "#empnan=emp[~np.isnan(emp)]\n",
    "sns.distplot(emp.salary.dropna().loc[(emp['dept']=='engineer') & (emp['seniority']>5) & (emp['seniority']<7)])\n",
    "# The salary seems to be distributed with largely three groups within a company. The seniority seems to be strongly correlated to it."
   ]
  },
  {
   "cell_type": "code",
   "execution_count": 25,
   "metadata": {
    "collapsed": false
   },
   "outputs": [
    {
     "data": {
      "text/plain": [
       "<matplotlib.axes._subplots.AxesSubplot at 0x7fb5ccdc6780>"
      ]
     },
     "execution_count": 25,
     "metadata": {},
     "output_type": "execute_result"
    },
    {
     "data": {
      "image/png": "[encoded data removed]",
      "text/plain": [
       "<Figure size 432x288 with 2 Axes>"
      ]
     },
     "metadata": {
      "needs_background": "light"
     },
     "output_type": "display_data"
    }
   ],
   "source": [
    "sns.heatmap(pd.crosstab(emp.company_id, emp.dept,normalize='index'))\n",
    "# this shows that from company 10 to 1, they rely less on temporary contract. for example, company 10 is\n",
    "# largely operated based on temporary contractors.\n",
    "# There are so few design ppl..."
   ]
  },
  {
   "cell_type": "code",
   "execution_count": 26,
   "metadata": {
    "collapsed": false
   },
   "outputs": [
    {
     "data": {
      "text/plain": [
       "<matplotlib.axes._subplots.AxesSubplot at 0x7fb5ccd130f0>"
      ]
     },
     "execution_count": 26,
     "metadata": {},
     "output_type": "execute_result"
    },
    {
     "data": {
      "image/png": "[encoded data removed]",
      "text/plain": [
       "<Figure size 432x288 with 2 Axes>"
      ]
     },
     "metadata": {
      "needs_background": "light"
     },
     "output_type": "display_data"
    }
   ],
   "source": [
    "sns.heatmap(pd.crosstab(emp.company_id, emp.dept))\n",
    "# this not-normalized crosstab shows that company size decreases as company_id gets higher: company1 is the largest company.\n",
    "# except for 11 and 12: they are tiny companies."
   ]
  },
  {
   "cell_type": "code",
   "execution_count": 27,
   "metadata": {
    "collapsed": false
   },
   "outputs": [
    {
     "data": {
      "text/plain": [
       "24"
      ]
     },
     "execution_count": 27,
     "metadata": {},
     "output_type": "execute_result"
    }
   ],
   "source": [
    "len(emp.loc[emp['company_id']==12])"
   ]
  },
  {
   "cell_type": "code",
   "execution_count": 28,
   "metadata": {
    "collapsed": false
   },
   "outputs": [
    {
     "data": {
      "text/plain": [
       "<matplotlib.axes._subplots.AxesSubplot at 0x7fb5ccc24ac8>"
      ]
     },
     "execution_count": 28,
     "metadata": {},
     "output_type": "execute_result"
    },
    {
     "data": {
      "image/png": "[encoded data removed]",
      "text/plain": [
       "<Figure size 432x288 with 2 Axes>"
      ]
     },
     "metadata": {
      "needs_background": "light"
     },
     "output_type": "display_data"
    }
   ],
   "source": [
    "corr = emp.corr()\n",
    "sns.heatmap(corr, \n",
    "            xticklabels=corr.columns.values,\n",
    "            yticklabels=corr.columns.values)\n",
    "#plt.show()"
   ]
  },
  {
   "cell_type": "code",
   "execution_count": 29,
   "metadata": {
    "collapsed": false
   },
   "outputs": [
    {
     "name": "stderr",
     "output_type": "stream",
     "text": [
      "/home/ijee/anaconda3/envs/insight/lib/python3.6/site-packages/scipy/stats/stats.py:1713: FutureWarning: Using a non-tuple sequence for multidimensional indexing is deprecated; use `arr[tuple(seq)]` instead of `arr[seq]`. In the future this will be interpreted as an array index, `arr[np.array(seq)]`, which will result either in an error or a different result.\n",
      "  return np.add.reduce(sorted[indexer] * weights, axis=axis) / sumval\n"
     ]
    },
    {
     "data": {
      "text/plain": [
       "<seaborn.axisgrid.FacetGrid at 0x7fb5ccbb0320>"
      ]
     },
     "execution_count": 29,
     "metadata": {},
     "output_type": "execute_result"
    },
    {
     "data": {
      "image/png": "[encoded data removed]",
      "text/plain": [
       "<Figure size 360x360 with 1 Axes>"
      ]
     },
     "metadata": {
      "needs_background": "light"
     },
     "output_type": "display_data"
    }
   ],
   "source": [
    "sns.catplot(x=\"company_id\", y=\"cont\", kind=\"bar\", data=emp.loc[emp['dept']!='temp_contractor'])\n",
    "# before we proceed, we check if different companies show different retention rate, and it appears that\n",
    "# it is not the quite the case overall (except for companies 11 and 12 which are very small to provide \n",
    "# statistical significance, \n",
    "# and company 2 is marginally inside the error bar but it appears that they are more or less identical\n",
    "# in terms of staying rate."
   ]
  },
  {
   "cell_type": "code",
   "execution_count": 30,
   "metadata": {
    "collapsed": false
   },
   "outputs": [
    {
     "name": "stderr",
     "output_type": "stream",
     "text": [
      "/home/ijee/anaconda3/envs/insight/lib/python3.6/site-packages/seaborn/categorical.py:3692: UserWarning: The `size` paramter has been renamed to `height`; please update your code.\n",
      "  warnings.warn(msg, UserWarning)\n",
      "/home/ijee/anaconda3/envs/insight/lib/python3.6/site-packages/scipy/stats/stats.py:1713: FutureWarning: Using a non-tuple sequence for multidimensional indexing is deprecated; use `arr[tuple(seq)]` instead of `arr[seq]`. In the future this will be interpreted as an array index, `arr[np.array(seq)]`, which will result either in an error or a different result.\n",
      "  return np.add.reduce(sorted[indexer] * weights, axis=axis) / sumval\n"
     ]
    },
    {
     "data": {
      "text/plain": [
       "<seaborn.axisgrid.FacetGrid at 0x7fb5cc382940>"
      ]
     },
     "execution_count": 30,
     "metadata": {},
     "output_type": "execute_result"
    },
    {
     "data": {
      "image/png": "[encoded data removed]",
      "text/plain": [
       "<Figure size 504x504 with 1 Axes>"
      ]
     },
     "metadata": {
      "needs_background": "light"
     },
     "output_type": "display_data"
    }
   ],
   "source": [
    "sns.catplot(x=\"dept\", y=\"cont\", kind=\"bar\", data=emp.loc[emp['dept']!='temp_contractor'],size=7,aspect=1)\n",
    "# depending on where the employee is working, there seems to be small tendency in continuation of job:\n",
    "# for example, engineer/data science people tend to stay longer than sales, although the significance is\n",
    "# marginal. we can one-hot encode the dept colum and keep it for prediction"
   ]
  },
  {
   "cell_type": "code",
   "execution_count": 31,
   "metadata": {
    "collapsed": false
   },
   "outputs": [
    {
     "name": "stderr",
     "output_type": "stream",
     "text": [
      "/home/ijee/anaconda3/envs/insight/lib/python3.6/site-packages/seaborn/categorical.py:3692: UserWarning: The `size` paramter has been renamed to `height`; please update your code.\n",
      "  warnings.warn(msg, UserWarning)\n"
     ]
    },
    {
     "data": {
      "text/plain": [
       "<seaborn.axisgrid.FacetGrid at 0x7fb5ccaad518>"
      ]
     },
     "execution_count": 31,
     "metadata": {},
     "output_type": "execute_result"
    },
    {
     "data": {
      "image/png": "[encoded data removed]",
      "text/plain": [
       "<Figure size 576x576 with 1 Axes>"
      ]
     },
     "metadata": {
      "needs_background": "light"
     },
     "output_type": "display_data"
    }
   ],
   "source": [
    "sns.catplot(x=\"dept\", y=\"salary\", kind=\"box\", data=emp.loc[emp['dept']!='temp_contractor'],size=8,aspect=1)"
   ]
  },
  {
   "cell_type": "code",
   "execution_count": 32,
   "metadata": {
    "collapsed": false
   },
   "outputs": [
    {
     "name": "stderr",
     "output_type": "stream",
     "text": [
      "/home/ijee/anaconda3/envs/insight/lib/python3.6/site-packages/seaborn/categorical.py:3692: UserWarning: The `size` paramter has been renamed to `height`; please update your code.\n",
      "  warnings.warn(msg, UserWarning)\n"
     ]
    },
    {
     "data": {
      "text/plain": [
       "<seaborn.axisgrid.FacetGrid at 0x7fb5cca23470>"
      ]
     },
     "execution_count": 32,
     "metadata": {},
     "output_type": "execute_result"
    },
    {
     "data": {
      "image/png": "[encoded data removed]",
      "text/plain": [
       "<Figure size 576x576 with 1 Axes>"
      ]
     },
     "metadata": {
      "needs_background": "light"
     },
     "output_type": "display_data"
    }
   ],
   "source": [
    "sns.catplot(x=\"company_id\", y=\"salary\", kind=\"box\", data=emp.loc[emp['dept']=='data_science'],size=8,aspect=1)"
   ]
  },
  {
   "cell_type": "code",
   "execution_count": 33,
   "metadata": {
    "collapsed": true
   },
   "outputs": [],
   "source": [
    "df = emp.copy()\n",
    "df.loc[df['seniority']<5,'seniority_cat']=1\n",
    "df.loc[(5<=df['seniority'])&(df['seniority']<15),'seniority_cat']=2\n",
    "df.loc[(15<=df['seniority']),'seniority_cat']=3"
   ]
  },
  {
   "cell_type": "code",
   "execution_count": 34,
   "metadata": {
    "collapsed": true
   },
   "outputs": [],
   "source": [
    "#df[\"seniority\"] = df[\"seniority\"].astype('category')\n",
    "df[\"company_id\"] = df[\"company_id\"].astype('category')"
   ]
  },
  {
   "cell_type": "code",
   "execution_count": 35,
   "metadata": {
    "collapsed": false
   },
   "outputs": [
    {
     "name": "stderr",
     "output_type": "stream",
     "text": [
      "/home/ijee/anaconda3/envs/insight/lib/python3.6/site-packages/seaborn/categorical.py:3692: UserWarning: The `size` paramter has been renamed to `height`; please update your code.\n",
      "  warnings.warn(msg, UserWarning)\n",
      "/home/ijee/anaconda3/envs/insight/lib/python3.6/site-packages/scipy/stats/stats.py:1713: FutureWarning: Using a non-tuple sequence for multidimensional indexing is deprecated; use `arr[tuple(seq)]` instead of `arr[seq]`. In the future this will be interpreted as an array index, `arr[np.array(seq)]`, which will result either in an error or a different result.\n",
      "  return np.add.reduce(sorted[indexer] * weights, axis=axis) / sumval\n"
     ]
    },
    {
     "data": {
      "text/plain": [
       "<seaborn.axisgrid.FacetGrid at 0x7fb5cc922710>"
      ]
     },
     "execution_count": 35,
     "metadata": {},
     "output_type": "execute_result"
    },
    {
     "data": {
      "image/png": "[encoded data removed]",
      "text/plain": [
       "<Figure size 360x360 with 1 Axes>"
      ]
     },
     "metadata": {
      "needs_background": "light"
     },
     "output_type": "display_data"
    }
   ],
   "source": [
    "sns.catplot(x=\"seniority_cat\", y=\"cont\", kind=\"bar\", data=df.loc[df['dept']!='temp_contractor'],size=5,aspect=1)"
   ]
  },
  {
   "cell_type": "code",
   "execution_count": 36,
   "metadata": {
    "collapsed": false
   },
   "outputs": [
    {
     "data": {
      "text/plain": [
       "<matplotlib.axes._subplots.AxesSubplot at 0x7fb5cca73470>"
      ]
     },
     "execution_count": 36,
     "metadata": {},
     "output_type": "execute_result"
    },
    {
     "data": {
      "image/png": "[encoded data removed]",
      "text/plain": [
       "<Figure size 432x288 with 1 Axes>"
      ]
     },
     "metadata": {
      "needs_background": "light"
     },
     "output_type": "display_data"
    }
   ],
   "source": [
    "# Hypothesis: jobs display more correlation between salary-seniority than others\n",
    "sns.scatterplot(x='seniority',y='salary',data=emp.loc[emp['dept']=='engineer'])\n",
    "# observation: all jobs are indeed like that, and that the cuts are 5 / 15 / 30 years prior to current work.\n",
    "# once seniority is in a category (1,2,3), the salary does not vary significantly.\n",
    "# thus we can encode seniority as categorical features, and use the average salary given job\n",
    "# to fill in the missing salary value (although not many)\n"
   ]
  },
  {
   "cell_type": "code",
   "execution_count": 37,
   "metadata": {
    "collapsed": false
   },
   "outputs": [
    {
     "data": {
      "text/plain": [
       "<seaborn.axisgrid.FacetGrid at 0x7fb5cc882d30>"
      ]
     },
     "execution_count": 37,
     "metadata": {},
     "output_type": "execute_result"
    },
    {
     "data": {
      "image/png": "[encoded data removed]",
      "text/plain": [
       "<Figure size 360x360 with 1 Axes>"
      ]
     },
     "metadata": {
      "needs_background": "light"
     },
     "output_type": "display_data"
    }
   ],
   "source": [
    "sns.catplot(x='seniority_cat',y='salary',kind='box',data=df.loc[df['dept']=='engineer'])\n",
    "# categorizing seniority into three instead of previous experiences in years make the data cleaner"
   ]
  },
  {
   "cell_type": "code",
   "execution_count": 38,
   "metadata": {
    "collapsed": false
   },
   "outputs": [
    {
     "name": "stderr",
     "output_type": "stream",
     "text": [
      "/home/ijee/anaconda3/envs/insight/lib/python3.6/site-packages/seaborn/categorical.py:3692: UserWarning: The `size` paramter has been renamed to `height`; please update your code.\n",
      "  warnings.warn(msg, UserWarning)\n",
      "/home/ijee/anaconda3/envs/insight/lib/python3.6/site-packages/scipy/stats/stats.py:1713: FutureWarning: Using a non-tuple sequence for multidimensional indexing is deprecated; use `arr[tuple(seq)]` instead of `arr[seq]`. In the future this will be interpreted as an array index, `arr[np.array(seq)]`, which will result either in an error or a different result.\n",
      "  return np.add.reduce(sorted[indexer] * weights, axis=axis) / sumval\n"
     ]
    },
    {
     "data": {
      "text/plain": [
       "<seaborn.axisgrid.FacetGrid at 0x7fb5cc8827b8>"
      ]
     },
     "execution_count": 38,
     "metadata": {},
     "output_type": "execute_result"
    },
    {
     "data": {
      "image/png": "[encoded data removed]",
      "text/plain": [
       "<Figure size 644x576 with 1 Axes>"
      ]
     },
     "metadata": {
      "needs_background": "light"
     },
     "output_type": "display_data"
    }
   ],
   "source": [
    "sns.catplot(x=\"seniority_cat\", y=\"cont\", kind=\"bar\",hue='company_id', data=df.loc[df['dept']!='temp_contractor'],size=8,aspect=1)\n",
    "# more senior people tend to stay at larger firm with higher salaries, while for the midium-sized firms\n",
    "# they exhibit similar behavior"
   ]
  },
  {
   "cell_type": "code",
   "execution_count": 39,
   "metadata": {
    "collapsed": false
   },
   "outputs": [
    {
     "name": "stderr",
     "output_type": "stream",
     "text": [
      "/home/ijee/anaconda3/envs/insight/lib/python3.6/site-packages/seaborn/categorical.py:3692: UserWarning: The `size` paramter has been renamed to `height`; please update your code.\n",
      "  warnings.warn(msg, UserWarning)\n",
      "/home/ijee/anaconda3/envs/insight/lib/python3.6/site-packages/scipy/stats/stats.py:1713: FutureWarning: Using a non-tuple sequence for multidimensional indexing is deprecated; use `arr[tuple(seq)]` instead of `arr[seq]`. In the future this will be interpreted as an array index, `arr[np.array(seq)]`, which will result either in an error or a different result.\n",
      "  return np.add.reduce(sorted[indexer] * weights, axis=axis) / sumval\n"
     ]
    },
    {
     "data": {
      "text/plain": [
       "<seaborn.axisgrid.FacetGrid at 0x7fb5cc882c18>"
      ]
     },
     "execution_count": 39,
     "metadata": {},
     "output_type": "execute_result"
    },
    {
     "data": {
      "image/png": "[encoded data removed]",
      "text/plain": [
       "<Figure size 644x576 with 1 Axes>"
      ]
     },
     "metadata": {
      "needs_background": "light"
     },
     "output_type": "display_data"
    }
   ],
   "source": [
    "sns.catplot(x=\"dept\", y=\"cont\", kind=\"bar\",hue='company_id', data=df.loc[df['dept']!='temp_contractor'],size=8,aspect=1)"
   ]
  },
  {
   "cell_type": "code",
   "execution_count": 40,
   "metadata": {
    "collapsed": true
   },
   "outputs": [],
   "source": [
    "# drop temp_contractor\n",
    "df = df.loc[df['dept'] != 'temp_contractor']\n",
    "df = df.drop(['employee_id'],axis=1)"
   ]
  },
  {
   "cell_type": "code",
   "execution_count": 41,
   "metadata": {
    "collapsed": true
   },
   "outputs": [],
   "source": [
    "df = df.dropna(subset=['salary'])"
   ]
  },
  {
   "cell_type": "code",
   "execution_count": 42,
   "metadata": {
    "collapsed": false
   },
   "outputs": [
    {
     "data": {
      "text/html": [
       "<div>\n",
       "<style scoped>\n",
       "    .dataframe tbody tr th:only-of-type {\n",
       "        vertical-align: middle;\n",
       "    }\n",
       "\n",
       "    .dataframe tbody tr th {\n",
       "        vertical-align: top;\n",
       "    }\n",
       "\n",
       "    .dataframe thead th {\n",
       "        text-align: right;\n",
       "    }\n",
       "</style>\n",
       "<table border=\"1\" class=\"dataframe\">\n",
       "  <thead>\n",
       "    <tr style=\"text-align: right;\">\n",
       "      <th></th>\n",
       "      <th>company_id</th>\n",
       "      <th>dept</th>\n",
       "      <th>seniority</th>\n",
       "      <th>salary</th>\n",
       "      <th>join_date</th>\n",
       "      <th>quit_date</th>\n",
       "      <th>cont</th>\n",
       "      <th>duration</th>\n",
       "      <th>seniority_cat</th>\n",
       "    </tr>\n",
       "  </thead>\n",
       "  <tbody>\n",
       "    <tr>\n",
       "      <th>1</th>\n",
       "      <td>8</td>\n",
       "      <td>design</td>\n",
       "      <td>21</td>\n",
       "      <td>191000.0</td>\n",
       "      <td>2011-05-17</td>\n",
       "      <td>2012-03-16</td>\n",
       "      <td>0.0</td>\n",
       "      <td>304</td>\n",
       "      <td>3.0</td>\n",
       "    </tr>\n",
       "    <tr>\n",
       "      <th>2</th>\n",
       "      <td>3</td>\n",
       "      <td>design</td>\n",
       "      <td>9</td>\n",
       "      <td>90000.0</td>\n",
       "      <td>2012-03-26</td>\n",
       "      <td>2015-04-10</td>\n",
       "      <td>0.0</td>\n",
       "      <td>1110</td>\n",
       "      <td>2.0</td>\n",
       "    </tr>\n",
       "    <tr>\n",
       "      <th>3</th>\n",
       "      <td>2</td>\n",
       "      <td>engineer</td>\n",
       "      <td>20</td>\n",
       "      <td>298000.0</td>\n",
       "      <td>2013-04-08</td>\n",
       "      <td>2015-01-30</td>\n",
       "      <td>0.0</td>\n",
       "      <td>662</td>\n",
       "      <td>3.0</td>\n",
       "    </tr>\n",
       "    <tr>\n",
       "      <th>5</th>\n",
       "      <td>5</td>\n",
       "      <td>marketing</td>\n",
       "      <td>20</td>\n",
       "      <td>180000.0</td>\n",
       "      <td>2014-06-30</td>\n",
       "      <td>2015-12-13</td>\n",
       "      <td>1.0</td>\n",
       "      <td>531</td>\n",
       "      <td>3.0</td>\n",
       "    </tr>\n",
       "    <tr>\n",
       "      <th>6</th>\n",
       "      <td>3</td>\n",
       "      <td>customer_service</td>\n",
       "      <td>18</td>\n",
       "      <td>119000.0</td>\n",
       "      <td>2012-07-02</td>\n",
       "      <td>2014-03-28</td>\n",
       "      <td>0.0</td>\n",
       "      <td>634</td>\n",
       "      <td>3.0</td>\n",
       "    </tr>\n",
       "  </tbody>\n",
       "</table>\n",
       "</div>"
      ],
      "text/plain": [
       "  company_id              dept  seniority    salary  join_date  quit_date  \\\n",
       "1          8            design         21  191000.0 2011-05-17 2012-03-16   \n",
       "2          3            design          9   90000.0 2012-03-26 2015-04-10   \n",
       "3          2          engineer         20  298000.0 2013-04-08 2015-01-30   \n",
       "5          5         marketing         20  180000.0 2014-06-30 2015-12-13   \n",
       "6          3  customer_service         18  119000.0 2012-07-02 2014-03-28   \n",
       "\n",
       "   cont  duration  seniority_cat  \n",
       "1   0.0       304            3.0  \n",
       "2   0.0      1110            2.0  \n",
       "3   0.0       662            3.0  \n",
       "5   1.0       531            3.0  \n",
       "6   0.0       634            3.0  "
      ]
     },
     "execution_count": 42,
     "metadata": {},
     "output_type": "execute_result"
    }
   ],
   "source": [
    "df.head(5)"
   ]
  },
  {
   "cell_type": "code",
   "execution_count": 43,
   "metadata": {
    "collapsed": true
   },
   "outputs": [],
   "source": [
    "grouped = df.groupby(['company_id','dept'])"
   ]
  },
  {
   "cell_type": "code",
   "execution_count": 44,
   "metadata": {
    "collapsed": false
   },
   "outputs": [
    {
     "name": "stdout",
     "output_type": "stream",
     "text": [
      "                             seniority         salary      cont    duration  \\\n",
      "company_id dept                                                               \n",
      "1          customer_service  14.173218   90598.913391  0.427613  560.250240   \n",
      "           data_science      14.472897  230817.757009  0.474766  627.201869   \n",
      "           design            14.036660  150002.036660  0.460285  576.572301   \n",
      "           engineer          13.915593  223950.386598  0.524485  608.849227   \n",
      "           marketing         14.160149  151010.242086  0.429236  571.587523   \n",
      "           sales             14.008249  151031.164070  0.439047  545.616865   \n",
      "2          customer_service  14.344444   91958.169935  0.458824  560.652941   \n",
      "           data_science      14.608541  234768.683274  0.528470  634.508897   \n",
      "           design            14.587444  154556.053812  0.434978  628.430493   \n",
      "           engineer          14.287105  227978.102190  0.537713  618.128954   \n",
      "           marketing         13.945794  148885.981308  0.456075  563.115888   \n",
      "           sales             14.169291  152257.874016  0.427165  550.517717   \n",
      "3          customer_service  13.948000   72241.000000  0.462000  566.251000   \n",
      "           data_science      13.715942  176559.420290  0.440580  563.084058   \n",
      "           design            14.255319  121404.255319  0.425532  542.482270   \n",
      "           engineer          14.324219  184861.328125  0.431641  569.572266   \n",
      "           marketing         14.326975  122062.670300  0.419619  561.512262   \n",
      "           sales             13.980501  119470.752089  0.434540  554.545961   \n",
      "4          customer_service  13.884265   72859.557867  0.464239  566.169051   \n",
      "           data_science      14.220217  182281.588448  0.425993  590.259928   \n",
      "           design            13.132075  114330.188679  0.433962  578.820755   \n",
      "           engineer          14.362667  186936.000000  0.445333  591.013333   \n",
      "           marketing         13.566540  118562.737643  0.418251  515.262357   \n",
      "           sales             14.599206  123329.365079  0.404762  526.166667   \n",
      "5          customer_service  14.437401   73811.410460  0.440571  552.270998   \n",
      "           data_science      15.234742  188173.708920  0.469484  600.380282   \n",
      "           design            14.962617  129327.102804  0.345794  585.644860   \n",
      "           engineer          14.726688  184170.418006  0.427653  608.176849   \n",
      "           marketing         13.464286  116732.142857  0.491071  540.973214   \n",
      "           sales             14.488189  121562.992126  0.417323  576.653543   \n",
      "...                                ...            ...       ...         ...   \n",
      "8          customer_service  14.306878   73621.693122  0.436508  539.677249   \n",
      "           data_science      13.783217  183321.678322  0.454545  565.153846   \n",
      "           design            13.924528  120264.150943  0.547170  477.754717   \n",
      "           engineer          14.947368  188926.315789  0.463158  604.315789   \n",
      "           marketing         13.280303  115742.424242  0.492424  561.181818   \n",
      "           sales             11.830882  107977.941176  0.382353  601.132353   \n",
      "9          customer_service  13.697947   72193.548387  0.454545  583.114370   \n",
      "           data_science      13.368421  181526.315789  0.473684  601.721805   \n",
      "           design            14.551724  125724.137931  0.327586  501.637931   \n",
      "           engineer          13.989189  180210.810811  0.437838  555.286486   \n",
      "           marketing         13.467742  120959.677419  0.500000  574.903226   \n",
      "           sales             14.247788  121106.194690  0.442478  547.079646   \n",
      "10         customer_service  14.351351   74105.105105  0.432432  563.459459   \n",
      "           data_science      12.398148  170546.296296  0.527778  573.212963   \n",
      "           design            12.317073  112658.536585  0.439024  515.829268   \n",
      "           engineer          14.176471  182670.588235  0.452941  623.364706   \n",
      "           marketing         15.260417  128854.166667  0.416667  523.906250   \n",
      "           sales             13.309091  116918.181818  0.418182  568.600000   \n",
      "11         customer_service  10.166667   42833.333333  0.500000  522.666667   \n",
      "           data_science      16.500000  153500.000000  0.000000  693.000000   \n",
      "           design                  NaN            NaN       NaN         NaN   \n",
      "           engineer          15.000000  156666.666667  0.166667  607.666667   \n",
      "           marketing         23.000000  124500.000000  0.000000  843.500000   \n",
      "           sales                   NaN            NaN       NaN         NaN   \n",
      "12         customer_service  10.181818   44727.272727  0.363636  513.545455   \n",
      "           data_science      14.750000  131250.000000  0.500000  608.000000   \n",
      "           design            11.000000   82000.000000  1.000000  699.000000   \n",
      "           engineer           9.750000   80000.000000  0.750000  602.250000   \n",
      "           marketing         18.000000  117000.000000  1.000000  726.000000   \n",
      "           sales             13.500000   98500.000000  0.000000  592.000000   \n",
      "\n",
      "                             seniority_cat  \n",
      "company_id dept                             \n",
      "1          customer_service       2.324704  \n",
      "           data_science           2.364486  \n",
      "           design                 2.315682  \n",
      "           engineer               2.299613  \n",
      "           marketing              2.327747  \n",
      "           sales                  2.328139  \n",
      "2          customer_service       2.348366  \n",
      "           data_science           2.387900  \n",
      "           design                 2.349776  \n",
      "           engineer               2.344282  \n",
      "           marketing              2.319626  \n",
      "           sales                  2.338583  \n",
      "3          customer_service       2.306000  \n",
      "           data_science           2.295652  \n",
      "           design                 2.333333  \n",
      "           engineer               2.359375  \n",
      "           marketing              2.310627  \n",
      "           sales                  2.298050  \n",
      "4          customer_service       2.323797  \n",
      "           data_science           2.332130  \n",
      "           design                 2.216981  \n",
      "           engineer               2.386667  \n",
      "           marketing              2.273764  \n",
      "           sales                  2.369048  \n",
      "5          customer_service       2.359746  \n",
      "           data_science           2.408451  \n",
      "           design                 2.476636  \n",
      "           engineer               2.366559  \n",
      "           marketing              2.254464  \n",
      "           sales                  2.322835  \n",
      "...                                    ...  \n",
      "8          customer_service       2.341270  \n",
      "           data_science           2.328671  \n",
      "           design                 2.320755  \n",
      "           engineer               2.394737  \n",
      "           marketing              2.280303  \n",
      "           sales                  2.110294  \n",
      "9          customer_service       2.296188  \n",
      "           data_science           2.323308  \n",
      "           design                 2.396552  \n",
      "           engineer               2.302703  \n",
      "           marketing              2.282258  \n",
      "           sales                  2.300885  \n",
      "10         customer_service       2.375375  \n",
      "           data_science           2.222222  \n",
      "           design                 2.219512  \n",
      "           engineer               2.323529  \n",
      "           marketing              2.447917  \n",
      "           sales                  2.236364  \n",
      "11         customer_service       1.833333  \n",
      "           data_science           2.500000  \n",
      "           design                      NaN  \n",
      "           engineer               2.500000  \n",
      "           marketing              3.000000  \n",
      "           sales                       NaN  \n",
      "12         customer_service       2.000000  \n",
      "           data_science           2.250000  \n",
      "           design                 2.000000  \n",
      "           engineer               1.500000  \n",
      "           marketing              3.000000  \n",
      "           sales                  2.500000  \n",
      "\n",
      "[72 rows x 5 columns]\n",
      "                             seniority        salary      cont    duration  \\\n",
      "company_id dept                                                              \n",
      "1          customer_service   8.128526  33865.036196  0.494811  354.461545   \n",
      "           data_science       8.186022  81845.010057  0.499596  384.002977   \n",
      "           design             8.019280  53700.701131  0.498929  354.460021   \n",
      "           engineer           8.089679  84364.072322  0.499561  377.804381   \n",
      "           marketing          8.219068  54616.487917  0.495198  353.524541   \n",
      "           sales              7.949088  54512.173040  0.496498  341.556907   \n",
      "2          customer_service   8.039368  32737.428981  0.498465  358.518635   \n",
      "           data_science       7.825171  79066.748227  0.499634  393.859301   \n",
      "           design             8.230914  57251.501783  0.496869  353.801356   \n",
      "           engineer           8.078501  82891.338156  0.498879  397.631796   \n",
      "           marketing          7.910718  53844.310951  0.498533  369.584616   \n",
      "           sales              8.182755  54231.682453  0.495154  338.620332   \n",
      "3          customer_service   8.037406  27307.996002  0.498803  367.040866   \n",
      "           data_science       7.758372  63116.656296  0.497178  335.025106   \n",
      "           design             8.044878  43347.265316  0.496186  348.061399   \n",
      "           engineer           7.999533  66183.980572  0.495789  356.033919   \n",
      "           marketing          8.207481  45385.824999  0.494170  348.443972   \n",
      "           sales              8.130717  44943.957744  0.496388  344.890781   \n",
      "4          customer_service   7.960245  26707.784842  0.499044  350.248056   \n",
      "           data_science       7.927106  65163.007313  0.495388  375.132736   \n",
      "           design             8.378061  46860.628555  0.497974  355.974418   \n",
      "           engineer           7.877178  62550.994469  0.497667  365.326617   \n",
      "           marketing          8.131220  44782.711820  0.494212  350.020920   \n",
      "           sales              8.015056  43375.671238  0.491823  333.680233   \n",
      "5          customer_service   7.971704  25426.163186  0.496849  352.153945   \n",
      "           data_science       8.169277  65860.364465  0.500244  369.761704   \n",
      "           design             7.435160  40057.453008  0.477865  356.754110   \n",
      "           engineer           8.102522  63298.065196  0.495536  385.964202   \n",
      "           marketing          8.360089  46884.072686  0.501040  343.703725   \n",
      "           sales              8.134119  45083.168297  0.494091  350.901929   \n",
      "...                                ...           ...       ...         ...   \n",
      "8          customer_service   8.206939  26706.326162  0.496610  357.965703   \n",
      "           data_science       7.479681  63681.270756  0.499680  374.651412   \n",
      "           design             8.299326  46187.806809  0.502533  325.632397   \n",
      "           engineer           7.560505  58564.980797  0.499958  377.492963   \n",
      "           marketing          7.920709  45636.235304  0.501847  321.864317   \n",
      "           sales              7.818833  44817.732422  0.487759  362.563768   \n",
      "9          customer_service   8.203996  27753.708062  0.498661  376.331044   \n",
      "           data_science       7.761086  69134.429758  0.501195  348.840728   \n",
      "           design             7.995991  48129.136634  0.473432  307.216919   \n",
      "           engineer           8.493597  69374.251989  0.497467  379.514176   \n",
      "           marketing          7.932065  44633.903624  0.502028  371.840936   \n",
      "           sales              9.027271  49824.757693  0.498893  325.052994   \n",
      "10         customer_service   7.666995  25085.835856  0.496159  353.329306   \n",
      "           data_science       8.127420  71840.995801  0.501555  368.053558   \n",
      "           design             8.153033  48056.014065  0.502433  306.920259   \n",
      "           engineer           8.052603  64455.000262  0.499251  379.967699   \n",
      "           marketing          8.090599  43043.913725  0.495595  369.610608   \n",
      "           sales              8.089800  45723.166155  0.495518  363.751004   \n",
      "11         customer_service   7.139094  22999.275351  0.547723  256.463383   \n",
      "           data_science      12.020815  54447.222151  0.000000  222.031529   \n",
      "           design                  NaN           NaN       NaN         NaN   \n",
      "           engineer           9.380832  61516.393479  0.408248  404.912665   \n",
      "           marketing          0.000000  14849.242405  0.000000   30.405592   \n",
      "           sales                   NaN           NaN       NaN         NaN   \n",
      "12         customer_service   5.862051  21656.827603  0.504525  299.488685   \n",
      "           data_science      10.657548  65489.821092  0.577350  254.740391   \n",
      "           design                  NaN           NaN       NaN         NaN   \n",
      "           engineer          12.175796  69363.775368  0.500000  295.174948   \n",
      "           marketing               NaN           NaN       NaN         NaN   \n",
      "           sales             12.020815  14849.242405  0.000000  366.281313   \n",
      "\n",
      "                             seniority_cat  \n",
      "company_id dept                             \n",
      "1          customer_service       0.730260  \n",
      "           data_science           0.708000  \n",
      "           design                 0.697033  \n",
      "           engineer               0.727856  \n",
      "           marketing              0.720252  \n",
      "           sales                  0.705500  \n",
      "2          customer_service       0.700985  \n",
      "           data_science           0.680041  \n",
      "           design                 0.731275  \n",
      "           engineer               0.721657  \n",
      "           marketing              0.721972  \n",
      "           sales                  0.710257  \n",
      "3          customer_service       0.727250  \n",
      "           data_science           0.694336  \n",
      "           design                 0.713809  \n",
      "           engineer               0.704855  \n",
      "           marketing              0.710169  \n",
      "           sales                  0.730632  \n",
      "4          customer_service       0.723827  \n",
      "           data_science           0.705681  \n",
      "           design                 0.755988  \n",
      "           engineer               0.683912  \n",
      "           marketing              0.721240  \n",
      "           sales                  0.699113  \n",
      "5          customer_service       0.684682  \n",
      "           data_science           0.718570  \n",
      "           design                 0.634627  \n",
      "           engineer               0.686769  \n",
      "           marketing              0.770812  \n",
      "           sales                  0.721021  \n",
      "...                                    ...  \n",
      "8          customer_service       0.696669  \n",
      "           data_science           0.689726  \n",
      "           design                 0.753800  \n",
      "           engineer               0.639919  \n",
      "           marketing              0.734269  \n",
      "           sales                  0.706298  \n",
      "9          customer_service       0.741788  \n",
      "           data_science           0.723511  \n",
      "           design                 0.747854  \n",
      "           engineer               0.741065  \n",
      "           marketing              0.704924  \n",
      "           sales                  0.777874  \n",
      "10         customer_service       0.685649  \n",
      "           data_science           0.777407  \n",
      "           design                 0.790955  \n",
      "           engineer               0.701671  \n",
      "           marketing              0.693880  \n",
      "           sales                  0.728544  \n",
      "11         customer_service       0.752773  \n",
      "           data_science           0.707107  \n",
      "           design                      NaN  \n",
      "           engineer               0.836660  \n",
      "           marketing              0.000000  \n",
      "           sales                       NaN  \n",
      "12         customer_service       0.774597  \n",
      "           data_science           0.957427  \n",
      "           design                      NaN  \n",
      "           engineer               1.000000  \n",
      "           marketing                   NaN  \n",
      "           sales                  0.707107  \n",
      "\n",
      "[72 rows x 5 columns]\n"
     ]
    }
   ],
   "source": [
    "print(grouped.mean())\n",
    "print(grouped.std())"
   ]
  },
  {
   "cell_type": "code",
   "execution_count": 45,
   "metadata": {
    "collapsed": false
   },
   "outputs": [
    {
     "ename": "KeyError",
     "evalue": "'dept'",
     "output_type": "error",
     "traceback": [
      "\u001b[0;31m---------------------------------------------------------------------------\u001b[0m",
      "\u001b[0;31mKeyError\u001b[0m                                  Traceback (most recent call last)",
      "\u001b[0;32m<ipython-input-45-6a2ec959ceab>\u001b[0m in \u001b[0;36m<module>\u001b[0;34m()\u001b[0m\n\u001b[0;32m----> 1\u001b[0;31m \u001b[0mdf\u001b[0m\u001b[0;34m[\u001b[0m\u001b[0;34m'norm_salary_dept_comp'\u001b[0m\u001b[0;34m]\u001b[0m\u001b[0;34m=\u001b[0m\u001b[0mdf\u001b[0m\u001b[0;34m[\u001b[0m\u001b[0;34m'salary'\u001b[0m\u001b[0;34m]\u001b[0m\u001b[0;34m.\u001b[0m\u001b[0mgroupby\u001b[0m\u001b[0;34m(\u001b[0m\u001b[0;34m[\u001b[0m\u001b[0;34m'dept'\u001b[0m\u001b[0;34m,\u001b[0m\u001b[0;34m'company_id'\u001b[0m\u001b[0;34m]\u001b[0m\u001b[0;34m)\u001b[0m\u001b[0;34m.\u001b[0m\u001b[0mtransform\u001b[0m\u001b[0;34m(\u001b[0m\u001b[0;32mlambda\u001b[0m \u001b[0mx\u001b[0m\u001b[0;34m:\u001b[0m \u001b[0;34m(\u001b[0m\u001b[0mx\u001b[0m \u001b[0;34m-\u001b[0m \u001b[0mx\u001b[0m\u001b[0;34m.\u001b[0m\u001b[0mmean\u001b[0m\u001b[0;34m(\u001b[0m\u001b[0;34m)\u001b[0m\u001b[0;34m)\u001b[0m \u001b[0;34m/\u001b[0m \u001b[0mx\u001b[0m\u001b[0;34m.\u001b[0m\u001b[0mstd\u001b[0m\u001b[0;34m(\u001b[0m\u001b[0;34m)\u001b[0m\u001b[0;34m)\u001b[0m\u001b[0;34m\u001b[0m\u001b[0m\n\u001b[0m\u001b[1;32m      2\u001b[0m \u001b[0;31m#df['norm_salary_senior']=df['salary'].groupby(df['seniority']).transform(lambda x: (x - x.mean()) / x.std())\u001b[0m\u001b[0;34m\u001b[0m\u001b[0;34m\u001b[0m\u001b[0m\n\u001b[1;32m      3\u001b[0m \u001b[0;31m#df['norm_salary_company']=df['salary'].groupby(df['seniority']).transform(lambda x: (x - x.mean()) / x.std())\u001b[0m\u001b[0;34m\u001b[0m\u001b[0;34m\u001b[0m\u001b[0m\n",
      "\u001b[0;32m~/anaconda3/envs/insight/lib/python3.6/site-packages/pandas/core/generic.py\u001b[0m in \u001b[0;36mgroupby\u001b[0;34m(self, by, axis, level, as_index, sort, group_keys, squeeze, observed, **kwargs)\u001b[0m\n\u001b[1;32m   6663\u001b[0m         return groupby(self, by=by, axis=axis, level=level, as_index=as_index,\n\u001b[1;32m   6664\u001b[0m                        \u001b[0msort\u001b[0m\u001b[0;34m=\u001b[0m\u001b[0msort\u001b[0m\u001b[0;34m,\u001b[0m \u001b[0mgroup_keys\u001b[0m\u001b[0;34m=\u001b[0m\u001b[0mgroup_keys\u001b[0m\u001b[0;34m,\u001b[0m \u001b[0msqueeze\u001b[0m\u001b[0;34m=\u001b[0m\u001b[0msqueeze\u001b[0m\u001b[0;34m,\u001b[0m\u001b[0;34m\u001b[0m\u001b[0m\n\u001b[0;32m-> 6665\u001b[0;31m                        observed=observed, **kwargs)\n\u001b[0m\u001b[1;32m   6666\u001b[0m \u001b[0;34m\u001b[0m\u001b[0m\n\u001b[1;32m   6667\u001b[0m     def asfreq(self, freq, method=None, how=None, normalize=False,\n",
      "\u001b[0;32m~/anaconda3/envs/insight/lib/python3.6/site-packages/pandas/core/groupby/groupby.py\u001b[0m in \u001b[0;36mgroupby\u001b[0;34m(obj, by, **kwds)\u001b[0m\n\u001b[1;32m   2150\u001b[0m         \u001b[0;32mraise\u001b[0m \u001b[0mTypeError\u001b[0m\u001b[0;34m(\u001b[0m\u001b[0;34m'invalid type: %s'\u001b[0m \u001b[0;34m%\u001b[0m \u001b[0mtype\u001b[0m\u001b[0;34m(\u001b[0m\u001b[0mobj\u001b[0m\u001b[0;34m)\u001b[0m\u001b[0;34m)\u001b[0m\u001b[0;34m\u001b[0m\u001b[0m\n\u001b[1;32m   2151\u001b[0m \u001b[0;34m\u001b[0m\u001b[0m\n\u001b[0;32m-> 2152\u001b[0;31m     \u001b[0;32mreturn\u001b[0m \u001b[0mklass\u001b[0m\u001b[0;34m(\u001b[0m\u001b[0mobj\u001b[0m\u001b[0;34m,\u001b[0m \u001b[0mby\u001b[0m\u001b[0;34m,\u001b[0m \u001b[0;34m**\u001b[0m\u001b[0mkwds\u001b[0m\u001b[0;34m)\u001b[0m\u001b[0;34m\u001b[0m\u001b[0m\n\u001b[0m\u001b[1;32m   2153\u001b[0m \u001b[0;34m\u001b[0m\u001b[0m\n\u001b[1;32m   2154\u001b[0m \u001b[0;34m\u001b[0m\u001b[0m\n",
      "\u001b[0;32m~/anaconda3/envs/insight/lib/python3.6/site-packages/pandas/core/groupby/groupby.py\u001b[0m in \u001b[0;36m__init__\u001b[0;34m(self, obj, keys, axis, level, grouper, exclusions, selection, as_index, sort, group_keys, squeeze, observed, **kwargs)\u001b[0m\n\u001b[1;32m    597\u001b[0m                                                     \u001b[0msort\u001b[0m\u001b[0;34m=\u001b[0m\u001b[0msort\u001b[0m\u001b[0;34m,\u001b[0m\u001b[0;34m\u001b[0m\u001b[0m\n\u001b[1;32m    598\u001b[0m                                                     \u001b[0mobserved\u001b[0m\u001b[0;34m=\u001b[0m\u001b[0mobserved\u001b[0m\u001b[0;34m,\u001b[0m\u001b[0;34m\u001b[0m\u001b[0m\n\u001b[0;32m--> 599\u001b[0;31m                                                     mutated=self.mutated)\n\u001b[0m\u001b[1;32m    600\u001b[0m \u001b[0;34m\u001b[0m\u001b[0m\n\u001b[1;32m    601\u001b[0m         \u001b[0mself\u001b[0m\u001b[0;34m.\u001b[0m\u001b[0mobj\u001b[0m \u001b[0;34m=\u001b[0m \u001b[0mobj\u001b[0m\u001b[0;34m\u001b[0m\u001b[0m\n",
      "\u001b[0;32m~/anaconda3/envs/insight/lib/python3.6/site-packages/pandas/core/groupby/groupby.py\u001b[0m in \u001b[0;36m_get_grouper\u001b[0;34m(obj, key, axis, level, sort, observed, mutated, validate)\u001b[0m\n\u001b[1;32m   3289\u001b[0m                 \u001b[0min_axis\u001b[0m\u001b[0;34m,\u001b[0m \u001b[0mname\u001b[0m\u001b[0;34m,\u001b[0m \u001b[0mlevel\u001b[0m\u001b[0;34m,\u001b[0m \u001b[0mgpr\u001b[0m \u001b[0;34m=\u001b[0m \u001b[0;32mFalse\u001b[0m\u001b[0;34m,\u001b[0m \u001b[0;32mNone\u001b[0m\u001b[0;34m,\u001b[0m \u001b[0mgpr\u001b[0m\u001b[0;34m,\u001b[0m \u001b[0;32mNone\u001b[0m\u001b[0;34m\u001b[0m\u001b[0m\n\u001b[1;32m   3290\u001b[0m             \u001b[0;32melse\u001b[0m\u001b[0;34m:\u001b[0m\u001b[0;34m\u001b[0m\u001b[0m\n\u001b[0;32m-> 3291\u001b[0;31m                 \u001b[0;32mraise\u001b[0m \u001b[0mKeyError\u001b[0m\u001b[0;34m(\u001b[0m\u001b[0mgpr\u001b[0m\u001b[0;34m)\u001b[0m\u001b[0;34m\u001b[0m\u001b[0m\n\u001b[0m\u001b[1;32m   3292\u001b[0m         \u001b[0;32melif\u001b[0m \u001b[0misinstance\u001b[0m\u001b[0;34m(\u001b[0m\u001b[0mgpr\u001b[0m\u001b[0;34m,\u001b[0m \u001b[0mGrouper\u001b[0m\u001b[0;34m)\u001b[0m \u001b[0;32mand\u001b[0m \u001b[0mgpr\u001b[0m\u001b[0;34m.\u001b[0m\u001b[0mkey\u001b[0m \u001b[0;32mis\u001b[0m \u001b[0;32mnot\u001b[0m \u001b[0;32mNone\u001b[0m\u001b[0;34m:\u001b[0m\u001b[0;34m\u001b[0m\u001b[0m\n\u001b[1;32m   3293\u001b[0m             \u001b[0;31m# Add key to exclusions\u001b[0m\u001b[0;34m\u001b[0m\u001b[0;34m\u001b[0m\u001b[0m\n",
      "\u001b[0;31mKeyError\u001b[0m: 'dept'"
     ]
    }
   ],
   "source": [
    "df['norm_salary_dept_comp']=df['salary'].groupby(['dept','company_id']).transform(lambda x: (x - x.mean()) / x.std())\n",
    "#df['norm_salary_senior']=df['salary'].groupby(df['seniority']).transform(lambda x: (x - x.mean()) / x.std())\n",
    "#df['norm_salary_company']=df['salary'].groupby(df['seniority']).transform(lambda x: (x - x.mean()) / x.std())"
   ]
  },
  {
   "cell_type": "code",
   "execution_count": null,
   "metadata": {
    "collapsed": true
   },
   "outputs": [],
   "source": [
    "sns.catplot(x='cont',y='norm_salary_senior',kind='box',data=df)\n",
    "# categorizing seniority into three instead of previous experiences in years make the data cleaner"
   ]
  },
  {
   "cell_type": "code",
   "execution_count": 46,
   "metadata": {
    "collapsed": false
   },
   "outputs": [
    {
     "data": {
      "text/html": [
       "<div>\n",
       "<style scoped>\n",
       "    .dataframe tbody tr th:only-of-type {\n",
       "        vertical-align: middle;\n",
       "    }\n",
       "\n",
       "    .dataframe tbody tr th {\n",
       "        vertical-align: top;\n",
       "    }\n",
       "\n",
       "    .dataframe thead th {\n",
       "        text-align: right;\n",
       "    }\n",
       "</style>\n",
       "<table border=\"1\" class=\"dataframe\">\n",
       "  <thead>\n",
       "    <tr style=\"text-align: right;\">\n",
       "      <th></th>\n",
       "      <th>company_id</th>\n",
       "      <th>dept</th>\n",
       "      <th>seniority</th>\n",
       "      <th>salary</th>\n",
       "      <th>join_date</th>\n",
       "      <th>quit_date</th>\n",
       "      <th>cont</th>\n",
       "      <th>duration</th>\n",
       "      <th>seniority_cat</th>\n",
       "    </tr>\n",
       "  </thead>\n",
       "  <tbody>\n",
       "    <tr>\n",
       "      <th>1</th>\n",
       "      <td>8</td>\n",
       "      <td>design</td>\n",
       "      <td>21</td>\n",
       "      <td>191000.0</td>\n",
       "      <td>2011-05-17</td>\n",
       "      <td>2012-03-16</td>\n",
       "      <td>0.0</td>\n",
       "      <td>304</td>\n",
       "      <td>3.0</td>\n",
       "    </tr>\n",
       "    <tr>\n",
       "      <th>2</th>\n",
       "      <td>3</td>\n",
       "      <td>design</td>\n",
       "      <td>9</td>\n",
       "      <td>90000.0</td>\n",
       "      <td>2012-03-26</td>\n",
       "      <td>2015-04-10</td>\n",
       "      <td>0.0</td>\n",
       "      <td>1110</td>\n",
       "      <td>2.0</td>\n",
       "    </tr>\n",
       "    <tr>\n",
       "      <th>3</th>\n",
       "      <td>2</td>\n",
       "      <td>engineer</td>\n",
       "      <td>20</td>\n",
       "      <td>298000.0</td>\n",
       "      <td>2013-04-08</td>\n",
       "      <td>2015-01-30</td>\n",
       "      <td>0.0</td>\n",
       "      <td>662</td>\n",
       "      <td>3.0</td>\n",
       "    </tr>\n",
       "    <tr>\n",
       "      <th>5</th>\n",
       "      <td>5</td>\n",
       "      <td>marketing</td>\n",
       "      <td>20</td>\n",
       "      <td>180000.0</td>\n",
       "      <td>2014-06-30</td>\n",
       "      <td>2015-12-13</td>\n",
       "      <td>1.0</td>\n",
       "      <td>531</td>\n",
       "      <td>3.0</td>\n",
       "    </tr>\n",
       "    <tr>\n",
       "      <th>6</th>\n",
       "      <td>3</td>\n",
       "      <td>customer_service</td>\n",
       "      <td>18</td>\n",
       "      <td>119000.0</td>\n",
       "      <td>2012-07-02</td>\n",
       "      <td>2014-03-28</td>\n",
       "      <td>0.0</td>\n",
       "      <td>634</td>\n",
       "      <td>3.0</td>\n",
       "    </tr>\n",
       "  </tbody>\n",
       "</table>\n",
       "</div>"
      ],
      "text/plain": [
       "  company_id              dept  seniority    salary  join_date  quit_date  \\\n",
       "1          8            design         21  191000.0 2011-05-17 2012-03-16   \n",
       "2          3            design          9   90000.0 2012-03-26 2015-04-10   \n",
       "3          2          engineer         20  298000.0 2013-04-08 2015-01-30   \n",
       "5          5         marketing         20  180000.0 2014-06-30 2015-12-13   \n",
       "6          3  customer_service         18  119000.0 2012-07-02 2014-03-28   \n",
       "\n",
       "   cont  duration  seniority_cat  \n",
       "1   0.0       304            3.0  \n",
       "2   0.0      1110            2.0  \n",
       "3   0.0       662            3.0  \n",
       "5   1.0       531            3.0  \n",
       "6   0.0       634            3.0  "
      ]
     },
     "execution_count": 46,
     "metadata": {},
     "output_type": "execute_result"
    }
   ],
   "source": [
    "df.head(5)"
   ]
  },
  {
   "cell_type": "code",
   "execution_count": 47,
   "metadata": {
    "collapsed": false
   },
   "outputs": [
    {
     "data": {
      "text/plain": [
       "<matplotlib.axes._subplots.AxesSubplot at 0x7fb5cc5367f0>"
      ]
     },
     "execution_count": 47,
     "metadata": {},
     "output_type": "execute_result"
    },
    {
     "data": {
      "image/png": "[encoded data removed]",
      "text/plain": [
       "<Figure size 432x288 with 1 Axes>"
      ]
     },
     "metadata": {
      "needs_background": "light"
     },
     "output_type": "display_data"
    }
   ],
   "source": [
    "df['join_date'].loc[df['cont']==0].groupby([df[\"join_date\"].dt.month]).count().plot(kind=\"bar\")"
   ]
  },
  {
   "cell_type": "code",
   "execution_count": 48,
   "metadata": {
    "collapsed": true
   },
   "outputs": [],
   "source": [
    "df['join_month'] = df['join_date'].map(lambda x: x.month)\n",
    "df[\"join_month\"] = df[\"join_month\"].astype('category')"
   ]
  },
  {
   "cell_type": "code",
   "execution_count": 49,
   "metadata": {
    "collapsed": true
   },
   "outputs": [],
   "source": [
    "df['join_year'] = df['join_date'].map(lambda x: x.year)\n",
    "df[\"join_year\"] = df[\"join_year\"].astype('category')"
   ]
  },
  {
   "cell_type": "code",
   "execution_count": 50,
   "metadata": {
    "collapsed": false
   },
   "outputs": [
    {
     "name": "stderr",
     "output_type": "stream",
     "text": [
      "/home/ijee/anaconda3/envs/insight/lib/python3.6/site-packages/seaborn/categorical.py:3692: UserWarning: The `size` paramter has been renamed to `height`; please update your code.\n",
      "  warnings.warn(msg, UserWarning)\n",
      "/home/ijee/anaconda3/envs/insight/lib/python3.6/site-packages/scipy/stats/stats.py:1713: FutureWarning: Using a non-tuple sequence for multidimensional indexing is deprecated; use `arr[tuple(seq)]` instead of `arr[seq]`. In the future this will be interpreted as an array index, `arr[np.array(seq)]`, which will result either in an error or a different result.\n",
      "  return np.add.reduce(sorted[indexer] * weights, axis=axis) / sumval\n"
     ]
    },
    {
     "data": {
      "text/plain": [
       "<seaborn.axisgrid.FacetGrid at 0x7fb5ccb78240>"
      ]
     },
     "execution_count": 50,
     "metadata": {},
     "output_type": "execute_result"
    },
    {
     "data": {
      "image/png": "[encoded data removed]",
      "text/plain": [
       "<Figure size 360x360 with 1 Axes>"
      ]
     },
     "metadata": {
      "needs_background": "light"
     },
     "output_type": "display_data"
    }
   ],
   "source": [
    "sns.catplot(x='join_month',y='cont',kind=\"bar\",data=df,size=5, aspect=1)"
   ]
  },
  {
   "cell_type": "code",
   "execution_count": 51,
   "metadata": {
    "collapsed": false
   },
   "outputs": [
    {
     "name": "stderr",
     "output_type": "stream",
     "text": [
      "/home/ijee/anaconda3/envs/insight/lib/python3.6/site-packages/seaborn/categorical.py:3692: UserWarning: The `size` paramter has been renamed to `height`; please update your code.\n",
      "  warnings.warn(msg, UserWarning)\n",
      "/home/ijee/anaconda3/envs/insight/lib/python3.6/site-packages/scipy/stats/stats.py:1713: FutureWarning: Using a non-tuple sequence for multidimensional indexing is deprecated; use `arr[tuple(seq)]` instead of `arr[seq]`. In the future this will be interpreted as an array index, `arr[np.array(seq)]`, which will result either in an error or a different result.\n",
      "  return np.add.reduce(sorted[indexer] * weights, axis=axis) / sumval\n"
     ]
    },
    {
     "data": {
      "text/plain": [
       "<seaborn.axisgrid.FacetGrid at 0x7fb5cc2ce0f0>"
      ]
     },
     "execution_count": 51,
     "metadata": {},
     "output_type": "execute_result"
    },
    {
     "data": {
      "image/png": "[encoded data removed]",
      "text/plain": [
       "<Figure size 360x360 with 1 Axes>"
      ]
     },
     "metadata": {
      "needs_background": "light"
     },
     "output_type": "display_data"
    }
   ],
   "source": [
    "sns.catplot(x='join_year',y='cont',kind=\"bar\",data=df,size=5, aspect=1)\n",
    "# this is kinda trivial. People who recently joined are less likely to have left.\n",
    "# I can look into people who have left and join year to see if there's difference in duration of stay."
   ]
  },
  {
   "cell_type": "markdown",
   "metadata": {},
   "source": [
    "From the above analysis, there are a few factors affecting the retention rate. First, the size of the company does seem to affect the retention, especially for employees in engineer and data science department. This may partially be through salary. Second, while the new employees (career less than 5 years) and the most senior employees (with career longer than 15 years) tend to stay, people with previous career of 5-15 years tend to stay the least.  "
   ]
  },
  {
   "cell_type": "code",
   "execution_count": 52,
   "metadata": {
    "collapsed": true
   },
   "outputs": [],
   "source": [
    "y = df['cont']\n",
    "X = df.drop(['cont'],axis=1)"
   ]
  },
  {
   "cell_type": "code",
   "execution_count": 53,
   "metadata": {
    "collapsed": true,
    "scrolled": true
   },
   "outputs": [],
   "source": [
    "X=pd.get_dummies( data=X,columns =['dept'] )"
   ]
  },
  {
   "cell_type": "code",
   "execution_count": 54,
   "metadata": {
    "collapsed": true
   },
   "outputs": [],
   "source": [
    "X = X.drop(['join_date','quit_date','duration'],axis=1)"
   ]
  },
  {
   "cell_type": "code",
   "execution_count": 55,
   "metadata": {
    "collapsed": false
   },
   "outputs": [
    {
     "data": {
      "text/html": [
       "<div>\n",
       "<style scoped>\n",
       "    .dataframe tbody tr th:only-of-type {\n",
       "        vertical-align: middle;\n",
       "    }\n",
       "\n",
       "    .dataframe tbody tr th {\n",
       "        vertical-align: top;\n",
       "    }\n",
       "\n",
       "    .dataframe thead th {\n",
       "        text-align: right;\n",
       "    }\n",
       "</style>\n",
       "<table border=\"1\" class=\"dataframe\">\n",
       "  <thead>\n",
       "    <tr style=\"text-align: right;\">\n",
       "      <th></th>\n",
       "      <th>company_id</th>\n",
       "      <th>seniority</th>\n",
       "      <th>salary</th>\n",
       "      <th>seniority_cat</th>\n",
       "      <th>join_month</th>\n",
       "      <th>join_year</th>\n",
       "      <th>dept_customer_service</th>\n",
       "      <th>dept_data_science</th>\n",
       "      <th>dept_design</th>\n",
       "      <th>dept_engineer</th>\n",
       "      <th>dept_marketing</th>\n",
       "      <th>dept_sales</th>\n",
       "    </tr>\n",
       "  </thead>\n",
       "  <tbody>\n",
       "    <tr>\n",
       "      <th>1</th>\n",
       "      <td>8</td>\n",
       "      <td>21</td>\n",
       "      <td>191000.0</td>\n",
       "      <td>3.0</td>\n",
       "      <td>5</td>\n",
       "      <td>2011</td>\n",
       "      <td>0</td>\n",
       "      <td>0</td>\n",
       "      <td>1</td>\n",
       "      <td>0</td>\n",
       "      <td>0</td>\n",
       "      <td>0</td>\n",
       "    </tr>\n",
       "    <tr>\n",
       "      <th>2</th>\n",
       "      <td>3</td>\n",
       "      <td>9</td>\n",
       "      <td>90000.0</td>\n",
       "      <td>2.0</td>\n",
       "      <td>3</td>\n",
       "      <td>2012</td>\n",
       "      <td>0</td>\n",
       "      <td>0</td>\n",
       "      <td>1</td>\n",
       "      <td>0</td>\n",
       "      <td>0</td>\n",
       "      <td>0</td>\n",
       "    </tr>\n",
       "    <tr>\n",
       "      <th>3</th>\n",
       "      <td>2</td>\n",
       "      <td>20</td>\n",
       "      <td>298000.0</td>\n",
       "      <td>3.0</td>\n",
       "      <td>4</td>\n",
       "      <td>2013</td>\n",
       "      <td>0</td>\n",
       "      <td>0</td>\n",
       "      <td>0</td>\n",
       "      <td>1</td>\n",
       "      <td>0</td>\n",
       "      <td>0</td>\n",
       "    </tr>\n",
       "    <tr>\n",
       "      <th>5</th>\n",
       "      <td>5</td>\n",
       "      <td>20</td>\n",
       "      <td>180000.0</td>\n",
       "      <td>3.0</td>\n",
       "      <td>6</td>\n",
       "      <td>2014</td>\n",
       "      <td>0</td>\n",
       "      <td>0</td>\n",
       "      <td>0</td>\n",
       "      <td>0</td>\n",
       "      <td>1</td>\n",
       "      <td>0</td>\n",
       "    </tr>\n",
       "    <tr>\n",
       "      <th>6</th>\n",
       "      <td>3</td>\n",
       "      <td>18</td>\n",
       "      <td>119000.0</td>\n",
       "      <td>3.0</td>\n",
       "      <td>7</td>\n",
       "      <td>2012</td>\n",
       "      <td>1</td>\n",
       "      <td>0</td>\n",
       "      <td>0</td>\n",
       "      <td>0</td>\n",
       "      <td>0</td>\n",
       "      <td>0</td>\n",
       "    </tr>\n",
       "  </tbody>\n",
       "</table>\n",
       "</div>"
      ],
      "text/plain": [
       "  company_id  seniority    salary  seniority_cat join_month join_year  \\\n",
       "1          8         21  191000.0            3.0          5      2011   \n",
       "2          3          9   90000.0            2.0          3      2012   \n",
       "3          2         20  298000.0            3.0          4      2013   \n",
       "5          5         20  180000.0            3.0          6      2014   \n",
       "6          3         18  119000.0            3.0          7      2012   \n",
       "\n",
       "   dept_customer_service  dept_data_science  dept_design  dept_engineer  \\\n",
       "1                      0                  0            1              0   \n",
       "2                      0                  0            1              0   \n",
       "3                      0                  0            0              1   \n",
       "5                      0                  0            0              0   \n",
       "6                      1                  0            0              0   \n",
       "\n",
       "   dept_marketing  dept_sales  \n",
       "1               0           0  \n",
       "2               0           0  \n",
       "3               0           0  \n",
       "5               1           0  \n",
       "6               0           0  "
      ]
     },
     "execution_count": 55,
     "metadata": {},
     "output_type": "execute_result"
    }
   ],
   "source": [
    "X.head()"
   ]
  },
  {
   "cell_type": "code",
   "execution_count": 57,
   "metadata": {
    "collapsed": true
   },
   "outputs": [],
   "source": [
    "#X = X.drop(['dept_temp_contractor'],axis=1)"
   ]
  },
  {
   "cell_type": "code",
   "execution_count": 58,
   "metadata": {
    "collapsed": true,
    "scrolled": true
   },
   "outputs": [],
   "source": [
    "from sklearn.model_selection import train_test_split"
   ]
  },
  {
   "cell_type": "code",
   "execution_count": 59,
   "metadata": {
    "collapsed": true
   },
   "outputs": [],
   "source": [
    "X_train, X_test, y_train, y_test = train_test_split(X, y, test_size=0.25, random_state=42)"
   ]
  },
  {
   "cell_type": "markdown",
   "metadata": {},
   "source": [
    "let's use RF to perform classification to classify."
   ]
  },
  {
   "cell_type": "code",
   "execution_count": 60,
   "metadata": {
    "collapsed": false
   },
   "outputs": [
    {
     "name": "stderr",
     "output_type": "stream",
     "text": [
      "/home/ijee/anaconda3/envs/insight/lib/python3.6/site-packages/sklearn/ensemble/weight_boosting.py:29: DeprecationWarning: numpy.core.umath_tests is an internal NumPy module and should not be imported. It will be removed in a future NumPy release.\n",
      "  from numpy.core.umath_tests import inner1d\n"
     ]
    }
   ],
   "source": [
    "from sklearn.ensemble import RandomForestClassifier\n",
    "from sklearn.metrics import classification_report,confusion_matrix\n",
    "from sklearn.metrics import accuracy_score"
   ]
  },
  {
   "cell_type": "code",
   "execution_count": 61,
   "metadata": {
    "collapsed": false
   },
   "outputs": [
    {
     "name": "stdout",
     "output_type": "stream",
     "text": [
      "             precision    recall  f1-score   support\n",
      "\n",
      "        0.0       0.78      0.85      0.81      3271\n",
      "        1.0       0.81      0.72      0.76      2845\n",
      "\n",
      "avg / total       0.79      0.79      0.79      6116\n",
      "\n",
      "[[2796  475]\n",
      " [ 795 2050]]\n",
      "0.7923479398299542\n"
     ]
    }
   ],
   "source": [
    "rfc = RandomForestClassifier(n_estimators=500,max_depth=15)\n",
    "rfc.fit(X_train, y_train)\n",
    "rfc_pred = rfc.predict(X_test)\n",
    "print(classification_report(y_test,rfc_pred))\n",
    "print(confusion_matrix(y_test,rfc_pred))\n",
    "print(rfc.score(X_test,y_test))"
   ]
  },
  {
   "cell_type": "code",
   "execution_count": 83,
   "metadata": {
    "collapsed": false
   },
   "outputs": [
    {
     "ename": "ValueError",
     "evalue": "Number of features of the model must match the input. Model n_features is 12 and input n_features is 7 ",
     "output_type": "error",
     "traceback": [
      "\u001b[0;31m---------------------------------------------------------------------------\u001b[0m",
      "\u001b[0;31mValueError\u001b[0m                                Traceback (most recent call last)",
      "\u001b[0;32m<ipython-input-83-0310ac590863>\u001b[0m in \u001b[0;36m<module>\u001b[0;34m()\u001b[0m\n\u001b[0;32m----> 1\u001b[0;31m \u001b[0mprint\u001b[0m\u001b[0;34m(\u001b[0m\u001b[0mrfc\u001b[0m\u001b[0;34m.\u001b[0m\u001b[0mscore\u001b[0m\u001b[0;34m(\u001b[0m\u001b[0mX_test\u001b[0m\u001b[0;34m,\u001b[0m\u001b[0my_test\u001b[0m\u001b[0;34m)\u001b[0m\u001b[0;34m)\u001b[0m\u001b[0;34m\u001b[0m\u001b[0m\n\u001b[0m\u001b[1;32m      2\u001b[0m \u001b[0mprint\u001b[0m\u001b[0;34m(\u001b[0m\u001b[0mrfc\u001b[0m\u001b[0;34m.\u001b[0m\u001b[0mscore\u001b[0m\u001b[0;34m(\u001b[0m\u001b[0mX_train\u001b[0m\u001b[0;34m,\u001b[0m\u001b[0my_train\u001b[0m\u001b[0;34m)\u001b[0m\u001b[0;34m)\u001b[0m\u001b[0;34m\u001b[0m\u001b[0m\n",
      "\u001b[0;32m~/anaconda3/envs/insight/lib/python3.6/site-packages/sklearn/base.py\u001b[0m in \u001b[0;36mscore\u001b[0;34m(self, X, y, sample_weight)\u001b[0m\n\u001b[1;32m    347\u001b[0m         \"\"\"\n\u001b[1;32m    348\u001b[0m         \u001b[0;32mfrom\u001b[0m \u001b[0;34m.\u001b[0m\u001b[0mmetrics\u001b[0m \u001b[0;32mimport\u001b[0m \u001b[0maccuracy_score\u001b[0m\u001b[0;34m\u001b[0m\u001b[0m\n\u001b[0;32m--> 349\u001b[0;31m         \u001b[0;32mreturn\u001b[0m \u001b[0maccuracy_score\u001b[0m\u001b[0;34m(\u001b[0m\u001b[0my\u001b[0m\u001b[0;34m,\u001b[0m \u001b[0mself\u001b[0m\u001b[0;34m.\u001b[0m\u001b[0mpredict\u001b[0m\u001b[0;34m(\u001b[0m\u001b[0mX\u001b[0m\u001b[0;34m)\u001b[0m\u001b[0;34m,\u001b[0m \u001b[0msample_weight\u001b[0m\u001b[0;34m=\u001b[0m\u001b[0msample_weight\u001b[0m\u001b[0;34m)\u001b[0m\u001b[0;34m\u001b[0m\u001b[0m\n\u001b[0m\u001b[1;32m    350\u001b[0m \u001b[0;34m\u001b[0m\u001b[0m\n\u001b[1;32m    351\u001b[0m \u001b[0;34m\u001b[0m\u001b[0m\n",
      "\u001b[0;32m~/anaconda3/envs/insight/lib/python3.6/site-packages/sklearn/ensemble/forest.py\u001b[0m in \u001b[0;36mpredict\u001b[0;34m(self, X)\u001b[0m\n\u001b[1;32m    536\u001b[0m             \u001b[0mThe\u001b[0m \u001b[0mpredicted\u001b[0m \u001b[0mclasses\u001b[0m\u001b[0;34m.\u001b[0m\u001b[0;34m\u001b[0m\u001b[0m\n\u001b[1;32m    537\u001b[0m         \"\"\"\n\u001b[0;32m--> 538\u001b[0;31m         \u001b[0mproba\u001b[0m \u001b[0;34m=\u001b[0m \u001b[0mself\u001b[0m\u001b[0;34m.\u001b[0m\u001b[0mpredict_proba\u001b[0m\u001b[0;34m(\u001b[0m\u001b[0mX\u001b[0m\u001b[0;34m)\u001b[0m\u001b[0;34m\u001b[0m\u001b[0m\n\u001b[0m\u001b[1;32m    539\u001b[0m \u001b[0;34m\u001b[0m\u001b[0m\n\u001b[1;32m    540\u001b[0m         \u001b[0;32mif\u001b[0m \u001b[0mself\u001b[0m\u001b[0;34m.\u001b[0m\u001b[0mn_outputs_\u001b[0m \u001b[0;34m==\u001b[0m \u001b[0;36m1\u001b[0m\u001b[0;34m:\u001b[0m\u001b[0;34m\u001b[0m\u001b[0m\n",
      "\u001b[0;32m~/anaconda3/envs/insight/lib/python3.6/site-packages/sklearn/ensemble/forest.py\u001b[0m in \u001b[0;36mpredict_proba\u001b[0;34m(self, X)\u001b[0m\n\u001b[1;32m    576\u001b[0m         \u001b[0mcheck_is_fitted\u001b[0m\u001b[0;34m(\u001b[0m\u001b[0mself\u001b[0m\u001b[0;34m,\u001b[0m \u001b[0;34m'estimators_'\u001b[0m\u001b[0;34m)\u001b[0m\u001b[0;34m\u001b[0m\u001b[0m\n\u001b[1;32m    577\u001b[0m         \u001b[0;31m# Check data\u001b[0m\u001b[0;34m\u001b[0m\u001b[0;34m\u001b[0m\u001b[0m\n\u001b[0;32m--> 578\u001b[0;31m         \u001b[0mX\u001b[0m \u001b[0;34m=\u001b[0m \u001b[0mself\u001b[0m\u001b[0;34m.\u001b[0m\u001b[0m_validate_X_predict\u001b[0m\u001b[0;34m(\u001b[0m\u001b[0mX\u001b[0m\u001b[0;34m)\u001b[0m\u001b[0;34m\u001b[0m\u001b[0m\n\u001b[0m\u001b[1;32m    579\u001b[0m \u001b[0;34m\u001b[0m\u001b[0m\n\u001b[1;32m    580\u001b[0m         \u001b[0;31m# Assign chunk of trees to jobs\u001b[0m\u001b[0;34m\u001b[0m\u001b[0;34m\u001b[0m\u001b[0m\n",
      "\u001b[0;32m~/anaconda3/envs/insight/lib/python3.6/site-packages/sklearn/ensemble/forest.py\u001b[0m in \u001b[0;36m_validate_X_predict\u001b[0;34m(self, X)\u001b[0m\n\u001b[1;32m    355\u001b[0m                                  \"call `fit` before exploiting the model.\")\n\u001b[1;32m    356\u001b[0m \u001b[0;34m\u001b[0m\u001b[0m\n\u001b[0;32m--> 357\u001b[0;31m         \u001b[0;32mreturn\u001b[0m \u001b[0mself\u001b[0m\u001b[0;34m.\u001b[0m\u001b[0mestimators_\u001b[0m\u001b[0;34m[\u001b[0m\u001b[0;36m0\u001b[0m\u001b[0;34m]\u001b[0m\u001b[0;34m.\u001b[0m\u001b[0m_validate_X_predict\u001b[0m\u001b[0;34m(\u001b[0m\u001b[0mX\u001b[0m\u001b[0;34m,\u001b[0m \u001b[0mcheck_input\u001b[0m\u001b[0;34m=\u001b[0m\u001b[0;32mTrue\u001b[0m\u001b[0;34m)\u001b[0m\u001b[0;34m\u001b[0m\u001b[0m\n\u001b[0m\u001b[1;32m    358\u001b[0m \u001b[0;34m\u001b[0m\u001b[0m\n\u001b[1;32m    359\u001b[0m     \u001b[0;34m@\u001b[0m\u001b[0mproperty\u001b[0m\u001b[0;34m\u001b[0m\u001b[0m\n",
      "\u001b[0;32m~/anaconda3/envs/insight/lib/python3.6/site-packages/sklearn/tree/tree.py\u001b[0m in \u001b[0;36m_validate_X_predict\u001b[0;34m(self, X, check_input)\u001b[0m\n\u001b[1;32m    382\u001b[0m                              \u001b[0;34m\"match the input. Model n_features is %s and \"\u001b[0m\u001b[0;34m\u001b[0m\u001b[0m\n\u001b[1;32m    383\u001b[0m                              \u001b[0;34m\"input n_features is %s \"\u001b[0m\u001b[0;34m\u001b[0m\u001b[0m\n\u001b[0;32m--> 384\u001b[0;31m                              % (self.n_features_, n_features))\n\u001b[0m\u001b[1;32m    385\u001b[0m \u001b[0;34m\u001b[0m\u001b[0m\n\u001b[1;32m    386\u001b[0m         \u001b[0;32mreturn\u001b[0m \u001b[0mX\u001b[0m\u001b[0;34m\u001b[0m\u001b[0m\n",
      "\u001b[0;31mValueError\u001b[0m: Number of features of the model must match the input. Model n_features is 12 and input n_features is 7 "
     ]
    }
   ],
   "source": [
    "#print(rfc.score(X_train,y_train))"
   ]
  },
  {
   "cell_type": "code",
   "execution_count": 62,
   "metadata": {
    "collapsed": false
   },
   "outputs": [
    {
     "name": "stdout",
     "output_type": "stream",
     "text": [
      "Feature ranking:\n",
      "1. feature 5 (0.582620)\n",
      "2. feature 2 (0.153836)\n",
      "3. feature 1 (0.088440)\n",
      "4. feature 4 (0.077620)\n",
      "5. feature 0 (0.063121)\n",
      "6. feature 3 (0.006569)\n",
      "7. feature 9 (0.005010)\n",
      "8. feature 10 (0.004911)\n",
      "9. feature 7 (0.004782)\n",
      "10. feature 11 (0.004729)\n",
      "11. feature 8 (0.004426)\n",
      "12. feature 6 (0.003937)\n"
     ]
    },
    {
     "data": {
      "text/plain": [
       "(-1, 12)"
      ]
     },
     "execution_count": 62,
     "metadata": {},
     "output_type": "execute_result"
    },
    {
     "data": {
      "image/png": "[encoded data removed]",
      "text/plain": [
       "<Figure size 864x432 with 1 Axes>"
      ]
     },
     "metadata": {
      "needs_background": "light"
     },
     "output_type": "display_data"
    }
   ],
   "source": [
    "importances = rfc.feature_importances_\n",
    "features = X.columns.values\n",
    "\n",
    "std = np.std([rfc.feature_importances_ for tree in rfc.estimators_],\n",
    "             axis=0)\n",
    "indices = np.argsort(importances)[::-1]\n",
    "\n",
    "# Print the feature ranking\n",
    "print(\"Feature ranking:\")\n",
    "\n",
    "for f in range(X.shape[1]):\n",
    "    print(\"%d. feature %d (%f)\" % (f + 1, indices[f], importances[indices[f]]))\n",
    "\n",
    "# Plot the feature importances of the forest\n",
    "plt.figure(figsize=(12, 6))\n",
    "plt.title(\"Feature importances\")\n",
    "plt.bar(range(X.shape[1]), importances[indices],\n",
    "       color=\"b\", yerr=std[indices], align=\"center\")\n",
    "#plt.xticks(range(X.shape[1]), indices)\n",
    "plt.xticks(range(len(indices)), features[indices])\n",
    "plt.xlim([-1, X.shape[1]])"
   ]
  },
  {
   "cell_type": "code",
   "execution_count": 63,
   "metadata": {
    "collapsed": true
   },
   "outputs": [],
   "source": [
    "from sklearn.svm import SVC"
   ]
  },
  {
   "cell_type": "code",
   "execution_count": 64,
   "metadata": {
    "collapsed": false
   },
   "outputs": [
    {
     "name": "stdout",
     "output_type": "stream",
     "text": [
      "             precision    recall  f1-score   support\n",
      "\n",
      "        0.0       0.70      0.70      0.70      3271\n",
      "        1.0       0.65      0.65      0.65      2845\n",
      "\n",
      "avg / total       0.68      0.68      0.68      6116\n",
      "\n",
      "[[2280  991]\n",
      " [ 996 1849]]\n",
      "0.6751144538914323\n"
     ]
    }
   ],
   "source": [
    "SVMmodel = SVC(class_weight='balanced')\n",
    "SVMmodel.fit(X_train,y_train)\n",
    "predictions = SVMmodel.predict(X_test)\n",
    "print(classification_report(y_test,predictions))\n",
    "print(confusion_matrix(y_test,predictions))\n",
    "print(SVMmodel.score(X_test,y_test))"
   ]
  },
  {
   "cell_type": "code",
   "execution_count": 65,
   "metadata": {
    "collapsed": true
   },
   "outputs": [],
   "source": [
    "from sklearn.linear_model import LogisticRegression"
   ]
  },
  {
   "cell_type": "code",
   "execution_count": 66,
   "metadata": {
    "collapsed": false
   },
   "outputs": [
    {
     "name": "stdout",
     "output_type": "stream",
     "text": [
      "             precision    recall  f1-score   support\n",
      "\n",
      "        0.0       0.56      0.53      0.54      3271\n",
      "        1.0       0.49      0.53      0.51      2845\n",
      "\n",
      "avg / total       0.53      0.53      0.53      6116\n",
      "\n",
      "[[1721 1550]\n",
      " [1346 1499]]\n",
      "0.52648790058862\n"
     ]
    }
   ],
   "source": [
    "logmodel = LogisticRegression(class_weight='balanced')\n",
    "logmodel.fit(X_train,y_train)\n",
    "predictions = logmodel.predict(X_test)\n",
    "print(classification_report(y_test,predictions))\n",
    "print(confusion_matrix(y_test,predictions))\n",
    "print(logmodel.score(X_test,y_test))"
   ]
  },
  {
   "cell_type": "markdown",
   "metadata": {},
   "source": [
    "# Survival analysis using python lifelines package\n",
    "We probably all have noticed that there is an intrinsic problem in the data: the 'stay' group is not providing the full information, as it is truncated at the current time. We treated it as a classification problem which is using partial information of them but the full analysis (assuming that the two groups have the same characteristics) should be more of a regression problem where we first estimate the duration of the stay given the features we think is important, and from the regression predict the churn at the current period.\n",
    "\n",
    "This type of problem is known as survival analysis, and there's a python package, lifelines (https://lifelines.readthedocs.io/en/latest), which does the work for us (install it using Conda first). The key concepts are as follows.\n",
    "\n",
    "## Survival function\n",
    "Survival function $S(t) = Pr(T>t)$ defines the probability of not death (= employees staying) at time t, which is the observable from the data. However, again, this is a superposition truncated distribution of employees who is staying (in survival analysis, this type of data is called **right-censored**, as the information is truncated on the right side of the current time). \n",
    "\n",
    "## Hazard function\n",
    "Hazard function gives the probability of death (employee churn in our case) to occur at time t. This can be expressed as $\\lambda(t) = -\\frac{S'(t)}{S(t)}$, which yields a simple solution<br>\n",
    "$S(t) = exp(-\\int^t_0 \\lambda(x)dx)$.<br>\n",
    "\n",
    "What Lifeline does is to estimate the survival function using various estimates, such as Kaplan-Meier (non-parametric, feature : duration), Cox model (parametric, multiplicative), Aalen's additive model (parametric, additive). Let's try to use this and see how the prediction changes."
   ]
  },
  {
   "cell_type": "code",
   "execution_count": null,
   "metadata": {
    "collapsed": true
   },
   "outputs": [],
   "source": []
  },
  {
   "cell_type": "code",
   "execution_count": 67,
   "metadata": {
    "collapsed": true
   },
   "outputs": [],
   "source": [
    "df.loc[emp['quit_date'].isnull(),'quit'] = 0\n",
    "df.loc[emp['quit_date'].notnull(),'quit']= 1"
   ]
  },
  {
   "cell_type": "code",
   "execution_count": 68,
   "metadata": {
    "collapsed": true
   },
   "outputs": [],
   "source": [
    "X_surv = df\n",
    "#X_surv['dept'] = X_surv['dept'].map({'customer_service':0,'data_science':1,'design':2,'engineer':3,'marketing':4,'sales':5,'temp_contractor':6})"
   ]
  },
  {
   "cell_type": "code",
   "execution_count": 69,
   "metadata": {
    "collapsed": true
   },
   "outputs": [],
   "source": [
    "#X_surv = X_surv.drop(['join_date','join_month','quit_date'],axis=1)\n",
    "X_surv['quit'] = X_surv['cont'].map({0:1,1:0})\n",
    "X_surv = X_surv.drop(['cont','join_date','quit_date','dept','seniority'],axis=1)"
   ]
  },
  {
   "cell_type": "code",
   "execution_count": 70,
   "metadata": {
    "collapsed": false
   },
   "outputs": [
    {
     "data": {
      "text/html": [
       "<div>\n",
       "<style scoped>\n",
       "    .dataframe tbody tr th:only-of-type {\n",
       "        vertical-align: middle;\n",
       "    }\n",
       "\n",
       "    .dataframe tbody tr th {\n",
       "        vertical-align: top;\n",
       "    }\n",
       "\n",
       "    .dataframe thead th {\n",
       "        text-align: right;\n",
       "    }\n",
       "</style>\n",
       "<table border=\"1\" class=\"dataframe\">\n",
       "  <thead>\n",
       "    <tr style=\"text-align: right;\">\n",
       "      <th></th>\n",
       "      <th>company_id</th>\n",
       "      <th>salary</th>\n",
       "      <th>duration</th>\n",
       "      <th>seniority_cat</th>\n",
       "      <th>join_month</th>\n",
       "      <th>join_year</th>\n",
       "      <th>quit</th>\n",
       "    </tr>\n",
       "  </thead>\n",
       "  <tbody>\n",
       "    <tr>\n",
       "      <th>1</th>\n",
       "      <td>8</td>\n",
       "      <td>191000.0</td>\n",
       "      <td>304</td>\n",
       "      <td>3.0</td>\n",
       "      <td>5</td>\n",
       "      <td>2011</td>\n",
       "      <td>1</td>\n",
       "    </tr>\n",
       "    <tr>\n",
       "      <th>2</th>\n",
       "      <td>3</td>\n",
       "      <td>90000.0</td>\n",
       "      <td>1110</td>\n",
       "      <td>2.0</td>\n",
       "      <td>3</td>\n",
       "      <td>2012</td>\n",
       "      <td>1</td>\n",
       "    </tr>\n",
       "    <tr>\n",
       "      <th>3</th>\n",
       "      <td>2</td>\n",
       "      <td>298000.0</td>\n",
       "      <td>662</td>\n",
       "      <td>3.0</td>\n",
       "      <td>4</td>\n",
       "      <td>2013</td>\n",
       "      <td>1</td>\n",
       "    </tr>\n",
       "    <tr>\n",
       "      <th>5</th>\n",
       "      <td>5</td>\n",
       "      <td>180000.0</td>\n",
       "      <td>531</td>\n",
       "      <td>3.0</td>\n",
       "      <td>6</td>\n",
       "      <td>2014</td>\n",
       "      <td>0</td>\n",
       "    </tr>\n",
       "    <tr>\n",
       "      <th>6</th>\n",
       "      <td>3</td>\n",
       "      <td>119000.0</td>\n",
       "      <td>634</td>\n",
       "      <td>3.0</td>\n",
       "      <td>7</td>\n",
       "      <td>2012</td>\n",
       "      <td>1</td>\n",
       "    </tr>\n",
       "  </tbody>\n",
       "</table>\n",
       "</div>"
      ],
      "text/plain": [
       "   company_id    salary  duration  seniority_cat  join_month  join_year  quit\n",
       "1           8  191000.0       304            3.0           5       2011     1\n",
       "2           3   90000.0      1110            2.0           3       2012     1\n",
       "3           2  298000.0       662            3.0           4       2013     1\n",
       "5           5  180000.0       531            3.0           6       2014     0\n",
       "6           3  119000.0       634            3.0           7       2012     1"
      ]
     },
     "execution_count": 70,
     "metadata": {},
     "output_type": "execute_result"
    }
   ],
   "source": [
    "X_surv.head()\n",
    "X_surv['company_id']=X_surv[\"company_id\"].astype('int64')\n",
    "X_surv['join_year']=X_surv[\"join_year\"].astype('int64')\n",
    "X_surv['join_month']=X_surv[\"join_month\"].astype('int64')\n",
    "\n",
    "#X_surv['company_id'] = X_surv['company_id'].apply(lambda x: int(x))\n",
    "X_surv.head()"
   ]
  },
  {
   "cell_type": "code",
   "execution_count": 71,
   "metadata": {
    "collapsed": true
   },
   "outputs": [],
   "source": [
    "X_train, X_test, y_train, y_test = train_test_split(X_surv, y, test_size=0.25, random_state=42)"
   ]
  },
  {
   "cell_type": "code",
   "execution_count": 72,
   "metadata": {
    "collapsed": false
   },
   "outputs": [
    {
     "name": "stdout",
     "output_type": "stream",
     "text": [
      "Iteration 1: norm_delta = 0.19025, step_size = 0.95000, ll = -88439.62804, seconds_since_start = 0.6\n",
      "Iteration 2: norm_delta = 0.01044, step_size = 0.95000, ll = -88361.89020, seconds_since_start = 1.1\n",
      "Iteration 3: norm_delta = 0.00056, step_size = 0.95000, ll = -88361.51545, seconds_since_start = 1.7\n",
      "Iteration 4: norm_delta = 0.00003, step_size = 0.95000, ll = -88361.51436, seconds_since_start = 2.2\n",
      "Iteration 5: norm_delta = 0.00000, step_size = 0.95000, ll = -88361.51436, seconds_since_start = 2.8\n",
      "Convergence completed after 5 iterations.\n",
      "n=18345, number of events=10106\n",
      "\n",
      "                 coef  exp(coef)  se(coef)        z      p  lower 0.95  upper 0.95     \n",
      "company_id    -0.0038     0.9962    0.0037  -1.0149 0.3102     -0.0111      0.0035     \n",
      "salary        -0.0000     1.0000    0.0000 -12.1323 0.0000     -0.0000     -0.0000  ***\n",
      "seniority_cat  0.1707     1.1861    0.0181   9.4263 0.0000      0.1352      0.2061  ***\n",
      "join_month    -0.0026     0.9974    0.0030  -0.8891 0.3740     -0.0085      0.0032     \n",
      "join_year      0.0049     1.0049    0.0105   0.4673 0.6403     -0.0157      0.0255     \n",
      "---\n",
      "Signif. codes:  0 '***' 0.001 '**' 0.01 '*' 0.05 '.' 0.1 ' ' 1 \n",
      "\n",
      "Concordance = 0.538\n",
      "Likelihood ratio test = 156.227 on 5 df, p=0.00000\n"
     ]
    },
    {
     "data": {
      "text/plain": [
       "<matplotlib.axes._subplots.AxesSubplot at 0x7fb5c803c978>"
      ]
     },
     "execution_count": 72,
     "metadata": {},
     "output_type": "execute_result"
    },
    {
     "data": {
      "image/png": "[encoded data removed]",
      "text/plain": [
       "<Figure size 432x288 with 1 Axes>"
      ]
     },
     "metadata": {
      "needs_background": "light"
     },
     "output_type": "display_data"
    }
   ],
   "source": [
    "#from lifelines.datasets import load_rossi\n",
    "from lifelines import CoxPHFitter\n",
    "\n",
    "cph = CoxPHFitter()\n",
    "cph.fit(X_train, duration_col='duration', event_col='quit',show_progress=True)\n",
    "\n",
    "cph.print_summary()\n",
    "cph.plot()"
   ]
  },
  {
   "cell_type": "code",
   "execution_count": 73,
   "metadata": {
    "collapsed": true
   },
   "outputs": [],
   "source": [
    "#cph.plot_covariate_groups('dept', [ 0,1, 2, 3,4,5,6])"
   ]
  },
  {
   "cell_type": "code",
   "execution_count": 74,
   "metadata": {
    "collapsed": false
   },
   "outputs": [
    {
     "data": {
      "text/plain": [
       "<matplotlib.axes._subplots.AxesSubplot at 0x7fb5c7f88b70>"
      ]
     },
     "execution_count": 74,
     "metadata": {},
     "output_type": "execute_result"
    },
    {
     "data": {
      "image/png": "[encoded data removed]",
      "text/plain": [
       "<Figure size 432x288 with 1 Axes>"
      ]
     },
     "metadata": {
      "needs_background": "light"
     },
     "output_type": "display_data"
    }
   ],
   "source": [
    "cph.plot_covariate_groups('seniority_cat', [ 1,2, 3])"
   ]
  },
  {
   "cell_type": "code",
   "execution_count": 75,
   "metadata": {
    "collapsed": false
   },
   "outputs": [
    {
     "data": {
      "text/plain": [
       "<matplotlib.axes._subplots.AxesSubplot at 0x7fb5c8010c88>"
      ]
     },
     "execution_count": 75,
     "metadata": {},
     "output_type": "execute_result"
    },
    {
     "data": {
      "image/png": "[encoded data removed]",
      "text/plain": [
       "<Figure size 432x288 with 1 Axes>"
      ]
     },
     "metadata": {
      "needs_background": "light"
     },
     "output_type": "display_data"
    }
   ],
   "source": [
    "cph.plot_covariate_groups('salary', [ 10000, 100000, 150000, 200000])"
   ]
  },
  {
   "cell_type": "code",
   "execution_count": 76,
   "metadata": {
    "collapsed": true
   },
   "outputs": [],
   "source": [
    "y_pred = pd.DataFrame(cph.predict_expectation(X_test))"
   ]
  },
  {
   "cell_type": "code",
   "execution_count": 77,
   "metadata": {
    "collapsed": false
   },
   "outputs": [
    {
     "name": "stdout",
     "output_type": "stream",
     "text": [
      "             0\n",
      "14856  805.977\n",
      "33180  828.705\n",
      "26324  798.983\n",
      "15961  759.763\n",
      "27241  849.943\n",
      "7899    880.35\n",
      "3438   826.817\n",
      "14734  912.887\n",
      "32533  880.293\n",
      "10805  848.456\n",
      "11150   839.76\n",
      "31928  771.881\n",
      "1436   759.397\n",
      "21053  793.326\n",
      "11683  838.395\n",
      "16427  833.846\n",
      "14693  867.454\n",
      "31695  823.701\n",
      "22267  830.624\n",
      "11536  748.739\n",
      "23466  737.413\n",
      "16393  834.061\n",
      "21723  839.584\n",
      "22986  768.499\n",
      "29322   835.42\n",
      "24129  770.944\n",
      "5752   909.429\n",
      "22580  916.514\n",
      "32137  730.555\n",
      "33834  815.507\n",
      "...        ...\n",
      "8672    788.48\n",
      "4464   791.423\n",
      "20073  853.013\n",
      "27016  821.464\n",
      "11257  897.739\n",
      "16369  810.297\n",
      "33778  870.715\n",
      "4588   850.301\n",
      "30908  906.301\n",
      "26923  861.822\n",
      "18519  816.975\n",
      "7991   746.254\n",
      "27854  833.636\n",
      "21188  845.171\n",
      "16726  753.298\n",
      "21747  839.006\n",
      "10395  783.496\n",
      "31923  815.147\n",
      "9741   832.976\n",
      "12418  842.258\n",
      "19035  738.054\n",
      "1897    765.49\n",
      "19130   808.04\n",
      "4057   830.953\n",
      "33696  816.848\n",
      "16882  778.339\n",
      "22841  811.764\n",
      "31635  799.057\n",
      "11980  841.252\n",
      "18072  758.807\n",
      "\n",
      "[6116 rows x 1 columns]\n"
     ]
    }
   ],
   "source": [
    "#y_pred.column=['prediction']\n",
    "print(y_pred)"
   ]
  },
  {
   "cell_type": "code",
   "execution_count": 78,
   "metadata": {
    "collapsed": true
   },
   "outputs": [],
   "source": [
    "y_df = pd.DataFrame(y_pred)\n",
    "y_quit = np.array(y_df.loc[X_test['quit']==1])\n",
    "y_noquit = np.array(y_df.loc[X_test['quit']==0])\n",
    "y_quit = [float(x) for [x] in y_quit]\n",
    "y_noquit = [float(x) for [x] in y_noquit]\n"
   ]
  },
  {
   "cell_type": "code",
   "execution_count": 80,
   "metadata": {
    "collapsed": false
   },
   "outputs": [
    {
     "name": "stdout",
     "output_type": "stream",
     "text": [
      "14856     305\n",
      "33180     511\n",
      "26324     662\n",
      "15961     375\n",
      "14734    1137\n",
      "32533     722\n",
      "10805     294\n",
      "31928     389\n",
      "1436      844\n",
      "21053    1404\n",
      "22267     319\n",
      "11536     340\n",
      "23466     338\n",
      "21723     725\n",
      "22986     351\n",
      "29322     325\n",
      "22580    1145\n",
      "32137     382\n",
      "12003     361\n",
      "19168     319\n",
      "28140     368\n",
      "29320     347\n",
      "12094     387\n",
      "2447      648\n",
      "20385     346\n",
      "33041     326\n",
      "32610     779\n",
      "2155      388\n",
      "31763     333\n",
      "27180     347\n",
      "         ... \n",
      "22298     291\n",
      "31874     319\n",
      "28763     332\n",
      "2107      333\n",
      "23319     332\n",
      "30179     375\n",
      "8920      780\n",
      "796      1495\n",
      "15929    1446\n",
      "9231      722\n",
      "29692     746\n",
      "28517     655\n",
      "9629      444\n",
      "16867     375\n",
      "8672      337\n",
      "4464      310\n",
      "20073     683\n",
      "11257     382\n",
      "16369    1068\n",
      "4588      704\n",
      "26923     774\n",
      "7991      361\n",
      "27854    1208\n",
      "21188     319\n",
      "16726     347\n",
      "31923     361\n",
      "19035     935\n",
      "1897      270\n",
      "4057      718\n",
      "16882     779\n",
      "Name: duration, Length: 3271, dtype: int64\n"
     ]
    }
   ],
   "source": [
    "print(X_test['duration'].loc[X_test['quit']==1])"
   ]
  },
  {
   "cell_type": "code",
   "execution_count": 81,
   "metadata": {
    "collapsed": false
   },
   "outputs": [
    {
     "data": {
      "text/plain": [
       "(6116, 1)"
      ]
     },
     "execution_count": 81,
     "metadata": {},
     "output_type": "execute_result"
    }
   ],
   "source": [
    "y_df = pd.DataFrame(y_pred)\n",
    "y_df.columns=['prediction']\n",
    "y_df.head()\n",
    "y_df.shape"
   ]
  },
  {
   "cell_type": "code",
   "execution_count": 82,
   "metadata": {
    "collapsed": false
   },
   "outputs": [
    {
     "name": "stderr",
     "output_type": "stream",
     "text": [
      "/home/ijee/anaconda3/envs/insight/lib/python3.6/site-packages/scipy/stats/stats.py:1713: FutureWarning: Using a non-tuple sequence for multidimensional indexing is deprecated; use `arr[tuple(seq)]` instead of `arr[seq]`. In the future this will be interpreted as an array index, `arr[np.array(seq)]`, which will result either in an error or a different result.\n",
      "  return np.add.reduce(sorted[indexer] * weights, axis=axis) / sumval\n"
     ]
    },
    {
     "data": {
      "text/plain": [
       "<matplotlib.axes._subplots.AxesSubplot at 0x7fb5c767d2e8>"
      ]
     },
     "execution_count": 82,
     "metadata": {},
     "output_type": "execute_result"
    },
    {
     "data": {
      "image/png": "[encoded data removed]",
      "text/plain": [
       "<Figure size 432x288 with 1 Axes>"
      ]
     },
     "metadata": {
      "needs_background": "light"
     },
     "output_type": "display_data"
    }
   ],
   "source": [
    "fig, ax = plt.subplots()\n",
    "sns.distplot(X_test['duration'].loc[X_test['quit']==1],ax=ax)\n",
    "sns.distplot(y_quit,ax=ax)\n",
    "# Cox-whatever algo is anot an appropriate model to describe the churn here, as it is multiplicative. \n",
    "# We need to find a better model to explain this rather than cox-.."
   ]
  },
  {
   "cell_type": "code",
   "execution_count": null,
   "metadata": {
    "collapsed": true
   },
   "outputs": [],
   "source": []
  },
  {
   "cell_type": "code",
   "execution_count": null,
   "metadata": {
    "collapsed": true
   },
   "outputs": [],
   "source": []
  }
 ],
 "metadata": {
  "anaconda-cloud": {},
  "kernelspec": {
   "display_name": "Python [Root]",
   "language": "python",
   "name": "Python [Root]"
  },
  "language_info": {
   "codemirror_mode": {
    "name": "ipython",
    "version": 3
   },
   "file_extension": ".py",
   "mimetype": "text/x-python",
   "name": "python",
   "nbconvert_exporter": "python",
   "pygments_lexer": "ipython3",
   "version": "3.5.2"
  }
 },
 "nbformat": 4,
 "nbformat_minor": 2
}
