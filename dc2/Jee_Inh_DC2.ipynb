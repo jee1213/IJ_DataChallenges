{
 "cells": [
  {
   "cell_type": "markdown",
   "metadata": {},
   "source": [
    "# Main questions\n",
    "\n",
    "## Should the company sell its software for \\$39 or \\$59?\n",
    ": this can be easily computed assuming we have enough sample representing the user behavior. \n",
    "We can compare the revenue rate, which is (price * converted / sample size) for test = 0,1 group and see if this test brought more revenue to the company. The assumptions are \n",
    "\n",
    "1. the test sample is randomly selected such that there is no meaningful trend, and that\n",
    "\n",
    "2. if it were not for the test, the conversion rate for all the sample would have been identical to that of test=0 group.\n",
    "\n",
    "1 can be tested by comparing the distribution of features in case of test=0 and 1. The result seems to indicate that there were more windows users who were in test=1 group than other OS. Also, we observed that more web users are tested with higher price than mobile users. Thus we would like the company to pay more attention in homogenizing the A/B testing groups.\n",
    "\n",
    "Prior to this, we checked price is marked correctly based on test and how serious the contamination is. The conclusion is that the contamination is negligible, so we used test value to fill in the wrong price values.\n",
    "<br>\n",
    "Naive answer: <br>\n",
    "revenue per visitor: 0.8269318181818182<br>\n",
    "conversion rate for test=0: 0.019903614220108817<br>\n",
    "conversion rate for test=1: 0.015542678810936857<br>\n",
    "total revenue: 261972.0<br>\n",
    "predicted revenue without price change: 245913.13441228846<br>\n",
    "Thus moving to \\$59 price will create more revenue! yay!\n",
    "\n",
    "## The VP of Product is interested in having a holistic view into user behavior, especially focusing on actionable insights that might increase conversion rate. What are your main findings looking at the data?\n",
    ": We do not know if the company has made software for each operating system, so we will take a look at them (assuming not many users have multiple operating system). If there is obvious visitor - buyer discrepancy in any of the categories, it will be the area to invest.\n",
    "<br>\n",
    "We also investigate if the source impacts the conversion behavior. It turns out that \n",
    "\n",
    "1. if a user is referred by a friend, they have the highest conversion rate by far, so it might be a good idea to start a promotion such that users referring the software to friends can get some benefit.\n",
    "\n",
    "2. Google and Facebook ads are most efficient in converting people, so I hypothesize that checking the difference in how ads are done in those platforms will help designing / targeting future ads.\n",
    "\n",
    "OS of the also exhibit distinct behavior:\n",
    "\n",
    "1. \"Apple\" users (iOS, mac) seem to convert more than the rest (android, windows). This may be due to bias in user group itself (which is beyond the scope of the work here), or it can be due to the difference in design of the app in different platforms. The company can spend some time investigating how the software differs in apple-based and other platform. \n",
    "\n",
    "To further investigate on categories, I will encode all categorical variables and calculate the covariance matrix.\n",
    "\n",
    "## The VP of Product feels that the test has been running for too long and she should have been able to get statistically significant results in a shorter time. Do you agree with her intuition? After how many days would you have stopped the test? Please, explain why.\n",
    ": This is a power analysis. However, given that all the conclusions I listed above are REALLY significant, I agree that we have enough sample. However, for future test, we need to pay more attention to homogenizing the splits (e.g. device / OS), make sure to have the mentioned category (linux),  \n",
    "<br>"
   ]
  },
  {
   "cell_type": "code",
   "execution_count": 1,
   "metadata": {
    "collapsed": true
   },
   "outputs": [],
   "source": [
    "import pandas as pd\n",
    "import seaborn as sns\n",
    "import matplotlib\n",
    "import matplotlib.pyplot as plt"
   ]
  },
  {
   "cell_type": "code",
   "execution_count": 118,
   "metadata": {
    "collapsed": true
   },
   "outputs": [],
   "source": [
    "import numpy as np"
   ]
  },
  {
   "cell_type": "code",
   "execution_count": 93,
   "metadata": {
    "collapsed": false
   },
   "outputs": [
    {
     "data": {
      "text/html": [
       "<div>\n",
       "<style scoped>\n",
       "    .dataframe tbody tr th:only-of-type {\n",
       "        vertical-align: middle;\n",
       "    }\n",
       "\n",
       "    .dataframe tbody tr th {\n",
       "        vertical-align: top;\n",
       "    }\n",
       "\n",
       "    .dataframe thead th {\n",
       "        text-align: right;\n",
       "    }\n",
       "</style>\n",
       "<table border=\"1\" class=\"dataframe\">\n",
       "  <thead>\n",
       "    <tr style=\"text-align: right;\">\n",
       "      <th></th>\n",
       "      <th>user_id</th>\n",
       "      <th>test</th>\n",
       "      <th>price</th>\n",
       "      <th>converted</th>\n",
       "    </tr>\n",
       "  </thead>\n",
       "  <tbody>\n",
       "    <tr>\n",
       "      <th>count</th>\n",
       "      <td>316800.000000</td>\n",
       "      <td>316800.000000</td>\n",
       "      <td>3.168000e+05</td>\n",
       "      <td>316800.000000</td>\n",
       "    </tr>\n",
       "    <tr>\n",
       "      <th>mean</th>\n",
       "      <td>499281.341840</td>\n",
       "      <td>0.360079</td>\n",
       "      <td>6.457590e+06</td>\n",
       "      <td>0.018333</td>\n",
       "    </tr>\n",
       "    <tr>\n",
       "      <th>std</th>\n",
       "      <td>288591.154044</td>\n",
       "      <td>0.480024</td>\n",
       "      <td>6.797307e+07</td>\n",
       "      <td>0.134154</td>\n",
       "    </tr>\n",
       "    <tr>\n",
       "      <th>min</th>\n",
       "      <td>3.000000</td>\n",
       "      <td>0.000000</td>\n",
       "      <td>3.900000e+01</td>\n",
       "      <td>0.000000</td>\n",
       "    </tr>\n",
       "    <tr>\n",
       "      <th>25%</th>\n",
       "      <td>249525.750000</td>\n",
       "      <td>0.000000</td>\n",
       "      <td>3.900000e+01</td>\n",
       "      <td>0.000000</td>\n",
       "    </tr>\n",
       "    <tr>\n",
       "      <th>50%</th>\n",
       "      <td>499021.500000</td>\n",
       "      <td>0.000000</td>\n",
       "      <td>3.900000e+01</td>\n",
       "      <td>0.000000</td>\n",
       "    </tr>\n",
       "    <tr>\n",
       "      <th>75%</th>\n",
       "      <td>749025.500000</td>\n",
       "      <td>1.000000</td>\n",
       "      <td>5.900000e+01</td>\n",
       "      <td>0.000000</td>\n",
       "    </tr>\n",
       "    <tr>\n",
       "      <th>max</th>\n",
       "      <td>1000000.000000</td>\n",
       "      <td>1.000000</td>\n",
       "      <td>9.998843e+08</td>\n",
       "      <td>1.000000</td>\n",
       "    </tr>\n",
       "  </tbody>\n",
       "</table>\n",
       "</div>"
      ],
      "text/plain": [
       "              user_id           test         price      converted\n",
       "count   316800.000000  316800.000000  3.168000e+05  316800.000000\n",
       "mean    499281.341840       0.360079  6.457590e+06       0.018333\n",
       "std     288591.154044       0.480024  6.797307e+07       0.134154\n",
       "min          3.000000       0.000000  3.900000e+01       0.000000\n",
       "25%     249525.750000       0.000000  3.900000e+01       0.000000\n",
       "50%     499021.500000       0.000000  3.900000e+01       0.000000\n",
       "75%     749025.500000       1.000000  5.900000e+01       0.000000\n",
       "max    1000000.000000       1.000000  9.998843e+08       1.000000"
      ]
     },
     "execution_count": 93,
     "metadata": {},
     "output_type": "execute_result"
    }
   ],
   "source": [
    "df1 = pd.read_csv('test_results.csv', index_col=0)\n",
    "df1.describe()\n",
    "# there seems to be weird price values: 3074 price values are contaminated \n",
    "# (with meaningless 9-digit values)\n",
    "# however, test is not contaminated, and it is \"supposed to be\" a direct measure of price: \n",
    "# test 0 == price 39, test 1 = price 59"
   ]
  },
  {
   "cell_type": "code",
   "execution_count": null,
   "metadata": {
    "collapsed": true
   },
   "outputs": [],
   "source": [
    "# test_result has 31800 users"
   ]
  },
  {
   "cell_type": "code",
   "execution_count": 121,
   "metadata": {
    "collapsed": false
   },
   "outputs": [
    {
     "name": "stderr",
     "output_type": "stream",
     "text": [
      "/home/ijee/anaconda3/envs/insight/lib/python3.6/site-packages/scipy/stats/stats.py:1713: FutureWarning: Using a non-tuple sequence for multidimensional indexing is deprecated; use `arr[tuple(seq)]` instead of `arr[seq]`. In the future this will be interpreted as an array index, `arr[np.array(seq)]`, which will result either in an error or a different result.\n",
      "  return np.add.reduce(sorted[indexer] * weights, axis=axis) / sumval\n"
     ]
    },
    {
     "data": {
      "text/plain": [
       "<seaborn.axisgrid.FacetGrid at 0x7f64492eebe0>"
      ]
     },
     "execution_count": 121,
     "metadata": {},
     "output_type": "execute_result"
    },
    {
     "data": {
      "image/png": "[encoded data removed]",
      "text/plain": [
       "<Figure size 402.375x360 with 1 Axes>"
      ]
     },
     "metadata": {
      "needs_background": "light"
     },
     "output_type": "display_data"
    }
   ],
   "source": [
    "sns.catplot(x=\"price\", y=\"converted\", hue=\"test\", kind=\"bar\", data=df1.loc[df1['price']<60.0])"
   ]
  },
  {
   "cell_type": "markdown",
   "metadata": {},
   "source": [
    "The above plot shows that there are small but incorrectly labeled data for both test 0 and 1. Let's find out how big they are, and fix them if necessary."
   ]
  },
  {
   "cell_type": "code",
   "execution_count": 122,
   "metadata": {
    "collapsed": false
   },
   "outputs": [
    {
     "data": {
      "text/plain": [
       "200593"
      ]
     },
     "execution_count": 122,
     "metadata": {},
     "output_type": "execute_result"
    }
   ],
   "source": [
    "# 5808 users decided to purchase the software\n",
    "# among them 1773 users were the test users\n",
    "len(df1['test'].loc[(df1['test']==0) & (df1['price']==39)])\n",
    "# there are 154 users where test = 1 and price = 39 (correctly 1 labeled, 200593)\n",
    "# there are 209 users where test = 0 and price = 59 (correctly 0 labeled, 112770)\n",
    "# since this is a very small fraction of contamination (~1%), let's proceed and correct the\n",
    "# odd price values following their test label."
   ]
  },
  {
   "cell_type": "code",
   "execution_count": 123,
   "metadata": {
    "collapsed": false
   },
   "outputs": [
    {
     "name": "stderr",
     "output_type": "stream",
     "text": [
      "/home/ijee/anaconda3/envs/insight/lib/python3.6/site-packages/pandas/core/indexing.py:189: SettingWithCopyWarning: \n",
      "A value is trying to be set on a copy of a slice from a DataFrame\n",
      "\n",
      "See the caveats in the documentation: http://pandas.pydata.org/pandas-docs/stable/indexing.html#indexing-view-versus-copy\n",
      "  self._setitem_with_indexer(indexer, value)\n"
     ]
    },
    {
     "data": {
      "text/plain": [
       "array([39., 59.])"
      ]
     },
     "execution_count": 123,
     "metadata": {},
     "output_type": "execute_result"
    }
   ],
   "source": [
    "df1['price'].loc[(df1['price']>60) & (df1['test']==0)] = 39.0\n",
    "df1['price'].loc[(df1['price']>60) & (df1['test']==1)] = 59.0\n",
    "df1['price'].unique()"
   ]
  },
  {
   "cell_type": "code",
   "execution_count": 125,
   "metadata": {
    "collapsed": false
   },
   "outputs": [
    {
     "name": "stderr",
     "output_type": "stream",
     "text": [
      "/home/ijee/anaconda3/envs/insight/lib/python3.6/site-packages/scipy/stats/stats.py:1713: FutureWarning: Using a non-tuple sequence for multidimensional indexing is deprecated; use `arr[tuple(seq)]` instead of `arr[seq]`. In the future this will be interpreted as an array index, `arr[np.array(seq)]`, which will result either in an error or a different result.\n",
      "  return np.add.reduce(sorted[indexer] * weights, axis=axis) / sumval\n"
     ]
    },
    {
     "data": {
      "text/plain": [
       "<seaborn.axisgrid.FacetGrid at 0x7f644928bfd0>"
      ]
     },
     "execution_count": 125,
     "metadata": {},
     "output_type": "execute_result"
    },
    {
     "data": {
      "image/png": "[encoded data removed]",
      "text/plain": [
       "<Figure size 360x360 with 1 Axes>"
      ]
     },
     "metadata": {
      "needs_background": "light"
     },
     "output_type": "display_data"
    }
   ],
   "source": [
    "sns.catplot(x=\"test\", y=\"converted\", kind=\"bar\", data=df1)"
   ]
  },
  {
   "cell_type": "markdown",
   "metadata": {},
   "source": [
    "The above plot provides conversion rate for each group with 95% confidence interval: It does show that there is decrease in purchase as the price went up by \\$20, as expected. This can be interpreted into net revenue based on the market size. "
   ]
  },
  {
   "cell_type": "code",
   "execution_count": 139,
   "metadata": {
    "collapsed": false
   },
   "outputs": [
    {
     "name": "stdout",
     "output_type": "stream",
     "text": [
      "total revenue: 261972.0\n",
      "revenue per visitor: 0.8269318181818182\n",
      "conversion rate for test=0: 0.019903614220108817\n",
      "conversion rate for test=1: 0.015542678810936857\n",
      "predicted revenue without price change: 245913.13441228846\n"
     ]
    }
   ],
   "source": [
    "vals=df1.groupby('test').sum().reset_index()\n",
    "print('total revenue:', vals['converted'][0]*39.+vals['converted'][1]*59.)\n",
    "print('revenue per visitor:', (vals['converted'][0]*39.+vals['converted'][1]*59.)/len(df1))\n",
    "print('conversion rate for test=0:', vals['converted'][0]/len(df.loc[df['test']==0]))\n",
    "print('conversion rate for test=1:', vals['converted'][1]/len(df.loc[df['test']==1]))\n",
    "print('predicted revenue without price change:', len(df)*vals['converted'][0]/len(df.loc[df['test']==0])*39.0)"
   ]
  },
  {
   "cell_type": "markdown",
   "metadata": {},
   "source": [
    "So it does seem like that using test group, the company achieved about 6.5% higher revenue. yay! <br>\n",
    "Now let's test the distribution to make sure the A/B splitting is truely done random."
   ]
  },
  {
   "cell_type": "code",
   "execution_count": 140,
   "metadata": {
    "collapsed": false
   },
   "outputs": [
    {
     "data": {
      "text/plain": [
       "array(['iOS', 'android', 'mac', 'windows', nan, 'i0S', 'apple'],\n",
       "      dtype=object)"
      ]
     },
     "execution_count": 140,
     "metadata": {},
     "output_type": "execute_result"
    }
   ],
   "source": [
    "# They claimed they got linux, but they actually did not! instead they have nan... :<\n",
    "df1['operative_system'].unique()"
   ]
  },
  {
   "cell_type": "code",
   "execution_count": 99,
   "metadata": {
    "collapsed": false
   },
   "outputs": [
    {
     "name": "stderr",
     "output_type": "stream",
     "text": [
      "/home/ijee/anaconda3/envs/insight/lib/python3.6/site-packages/pandas/core/indexing.py:189: SettingWithCopyWarning: \n",
      "A value is trying to be set on a copy of a slice from a DataFrame\n",
      "\n",
      "See the caveats in the documentation: http://pandas.pydata.org/pandas-docs/stable/indexing.html#indexing-view-versus-copy\n",
      "  self._setitem_with_indexer(indexer, value)\n"
     ]
    }
   ],
   "source": [
    "# correcting typos\n",
    "df1['operative_system'].loc[df1['operative_system']=='wnddows'] = df1['operative_system'].loc[df1['operative_system']=='wnddows'].map({'wnddows':'windows'})\n",
    "df1['operative_system'].loc[df1['operative_system']=='anroid'] = df1['operative_system'].loc[df1['operative_system']=='anroid'].map({'anroid':'android'})"
   ]
  },
  {
   "cell_type": "code",
   "execution_count": 142,
   "metadata": {
    "collapsed": false
   },
   "outputs": [
    {
     "name": "stderr",
     "output_type": "stream",
     "text": [
      "/home/ijee/anaconda3/envs/insight/lib/python3.6/site-packages/pandas/core/indexing.py:189: SettingWithCopyWarning: \n",
      "A value is trying to be set on a copy of a slice from a DataFrame\n",
      "\n",
      "See the caveats in the documentation: http://pandas.pydata.org/pandas-docs/stable/indexing.html#indexing-view-versus-copy\n",
      "  self._setitem_with_indexer(indexer, value)\n"
     ]
    }
   ],
   "source": [
    "df1['operative_system'].loc[df1['operative_system']=='i0S'] = df1['operative_system'].loc[df1['operative_system']=='i0S'].map({'i0S':'iOS'})"
   ]
  },
  {
   "cell_type": "code",
   "execution_count": 143,
   "metadata": {
    "collapsed": false
   },
   "outputs": [
    {
     "data": {
      "text/plain": [
       "array(['iOS', 'android', 'mac', 'windows', nan, 'apple'], dtype=object)"
      ]
     },
     "execution_count": 143,
     "metadata": {},
     "output_type": "execute_result"
    }
   ],
   "source": [
    "df1['operative_system'].unique()"
   ]
  },
  {
   "cell_type": "code",
   "execution_count": 152,
   "metadata": {
    "collapsed": false
   },
   "outputs": [
    {
     "data": {
      "text/plain": [
       "29"
      ]
     },
     "execution_count": 152,
     "metadata": {},
     "output_type": "execute_result"
    }
   ],
   "source": [
    "len(df1['operative_system'].loc[df1['operative_system']=='apple'])\n",
    "# there are 29 'apple' users... we can maybe use device info to put them into mac / iOS, \n",
    "# although it would not be statistically significant in any case."
   ]
  },
  {
   "cell_type": "code",
   "execution_count": 163,
   "metadata": {
    "collapsed": false
   },
   "outputs": [
    {
     "data": {
      "text/plain": [
       "100976"
      ]
     },
     "execution_count": 163,
     "metadata": {},
     "output_type": "execute_result"
    }
   ],
   "source": [
    "len(df1['operative_system'].loc[df1['operative_system']=='windows'])\n",
    "# there are 29 'apple' users... we can maybe use device info to put them into mac / iOS, \n",
    "# although it would not be statistically significant in any case."
   ]
  },
  {
   "cell_type": "code",
   "execution_count": 161,
   "metadata": {
    "collapsed": false
   },
   "outputs": [
    {
     "data": {
      "text/plain": [
       "20368"
      ]
     },
     "execution_count": 161,
     "metadata": {},
     "output_type": "execute_result"
    }
   ],
   "source": [
    "df1['operative_system'].isnull().sum()\n",
    "# there are 20368 nan values!!!!! AND WHERE IS LINUX!!!!"
   ]
  },
  {
   "cell_type": "code",
   "execution_count": 164,
   "metadata": {
    "collapsed": false
   },
   "outputs": [
    {
     "data": {
      "text/plain": [
       "16071"
      ]
     },
     "execution_count": 164,
     "metadata": {},
     "output_type": "execute_result"
    }
   ],
   "source": [
    "df1['operative_system'].loc[df1['device']=='mobile'].isnull().sum()\n",
    "# most of the missing values are from mobile\n",
    "# I was hoping that this will be all web and that it can be used as an arguement claiming that\n",
    "# the missing values are for linux, but I guess I cannot........"
   ]
  },
  {
   "cell_type": "code",
   "execution_count": 153,
   "metadata": {
    "collapsed": false
   },
   "outputs": [
    {
     "name": "stderr",
     "output_type": "stream",
     "text": [
      "/home/ijee/anaconda3/envs/insight/lib/python3.6/site-packages/pandas/core/indexing.py:189: SettingWithCopyWarning: \n",
      "A value is trying to be set on a copy of a slice from a DataFrame\n",
      "\n",
      "See the caveats in the documentation: http://pandas.pydata.org/pandas-docs/stable/indexing.html#indexing-view-versus-copy\n",
      "  self._setitem_with_indexer(indexer, value)\n"
     ]
    }
   ],
   "source": [
    "df1['operative_system'].loc[df1['operative_system']=='apple'] = df1['operative_system'].loc[(df1['operative_system']=='apple')&(df1['device']=='mobile')].map({'apple':'iOS'})\n",
    "df1['operative_system'].loc[df1['operative_system']=='apple'] = df1['operative_system'].loc[(df1['operative_system']=='apple')&(df1['device']=='web')].map({'apple':'mac'})"
   ]
  },
  {
   "cell_type": "code",
   "execution_count": 154,
   "metadata": {
    "collapsed": false
   },
   "outputs": [
    {
     "name": "stderr",
     "output_type": "stream",
     "text": [
      "/home/ijee/anaconda3/envs/insight/lib/python3.6/site-packages/scipy/stats/stats.py:1713: FutureWarning: Using a non-tuple sequence for multidimensional indexing is deprecated; use `arr[tuple(seq)]` instead of `arr[seq]`. In the future this will be interpreted as an array index, `arr[np.array(seq)]`, which will result either in an error or a different result.\n",
      "  return np.add.reduce(sorted[indexer] * weights, axis=axis) / sumval\n"
     ]
    },
    {
     "data": {
      "text/plain": [
       "<seaborn.axisgrid.FacetGrid at 0x7f64493c2f60>"
      ]
     },
     "execution_count": 154,
     "metadata": {},
     "output_type": "execute_result"
    },
    {
     "data": {
      "image/png": "[encoded data removed]",
      "text/plain": [
       "<Figure size 360x360 with 1 Axes>"
      ]
     },
     "metadata": {
      "needs_background": "light"
     },
     "output_type": "display_data"
    }
   ],
   "source": [
    "sns.catplot(x=\"operative_system\", y=\"test\", kind=\"bar\", data=df1)\n",
    "# There seems to be quite significantly more windows users sampled toward test=1"
   ]
  },
  {
   "cell_type": "code",
   "execution_count": 149,
   "metadata": {
    "collapsed": false
   },
   "outputs": [
    {
     "name": "stderr",
     "output_type": "stream",
     "text": [
      "/home/ijee/anaconda3/envs/insight/lib/python3.6/site-packages/scipy/stats/stats.py:1713: FutureWarning: Using a non-tuple sequence for multidimensional indexing is deprecated; use `arr[tuple(seq)]` instead of `arr[seq]`. In the future this will be interpreted as an array index, `arr[np.array(seq)]`, which will result either in an error or a different result.\n",
      "  return np.add.reduce(sorted[indexer] * weights, axis=axis) / sumval\n"
     ]
    },
    {
     "data": {
      "text/plain": [
       "<seaborn.axisgrid.FacetGrid at 0x7f6449427d68>"
      ]
     },
     "execution_count": 149,
     "metadata": {},
     "output_type": "execute_result"
    },
    {
     "data": {
      "image/png": "[encoded data removed]",
      "text/plain": [
       "<Figure size 360x360 with 1 Axes>"
      ]
     },
     "metadata": {
      "needs_background": "light"
     },
     "output_type": "display_data"
    }
   ],
   "source": [
    "sns.catplot(x=\"device\", y=\"test\", kind=\"bar\", data=df1)"
   ]
  },
  {
   "cell_type": "code",
   "execution_count": 150,
   "metadata": {
    "collapsed": false
   },
   "outputs": [
    {
     "name": "stderr",
     "output_type": "stream",
     "text": [
      "/home/ijee/anaconda3/envs/insight/lib/python3.6/site-packages/seaborn/categorical.py:3692: UserWarning: The `size` paramter has been renamed to `height`; please update your code.\n",
      "  warnings.warn(msg, UserWarning)\n",
      "/home/ijee/anaconda3/envs/insight/lib/python3.6/site-packages/scipy/stats/stats.py:1713: FutureWarning: Using a non-tuple sequence for multidimensional indexing is deprecated; use `arr[tuple(seq)]` instead of `arr[seq]`. In the future this will be interpreted as an array index, `arr[np.array(seq)]`, which will result either in an error or a different result.\n",
      "  return np.add.reduce(sorted[indexer] * weights, axis=axis) / sumval\n"
     ]
    },
    {
     "data": {
      "text/plain": [
       "<seaborn.axisgrid.FacetGrid at 0x7f6443a565f8>"
      ]
     },
     "execution_count": 150,
     "metadata": {},
     "output_type": "execute_result"
    },
    {
     "data": {
      "image/png": "[encoded data removed]",
      "text/plain": [
       "<Figure size 1080x1080 with 1 Axes>"
      ]
     },
     "metadata": {
      "needs_background": "light"
     },
     "output_type": "display_data"
    }
   ],
   "source": [
    "sns.catplot(x=\"source\", y=\"test\", kind=\"bar\", data=df1, size = 15, aspect=1)\n",
    "# there is slight undersampling in Seo-Google induced visitors in test=1 group, but the rest\n",
    "# of the sources are fairly well distributed within 95% CI"
   ]
  },
  {
   "cell_type": "code",
   "execution_count": 102,
   "metadata": {
    "collapsed": false
   },
   "outputs": [
    {
     "data": {
      "text/plain": [
       "array(['ads_facebook', 'seo-google', 'ads-bing', 'direct_traffic',\n",
       "       'ads-google', 'seo_facebook', 'friend_referral', 'ads_other',\n",
       "       'ads-yahoo', 'seo-yahoo', 'seo-bing', 'seo-other', nan],\n",
       "      dtype=object)"
      ]
     },
     "execution_count": 102,
     "metadata": {},
     "output_type": "execute_result"
    }
   ],
   "source": [
    "# They claimed they got linux, but they actually did not! :<\n",
    "df1['source'].unique()"
   ]
  },
  {
   "cell_type": "code",
   "execution_count": 155,
   "metadata": {
    "collapsed": false
   },
   "outputs": [
    {
     "name": "stderr",
     "output_type": "stream",
     "text": [
      "/home/ijee/anaconda3/envs/insight/lib/python3.6/site-packages/seaborn/categorical.py:3692: UserWarning: The `size` paramter has been renamed to `height`; please update your code.\n",
      "  warnings.warn(msg, UserWarning)\n",
      "/home/ijee/anaconda3/envs/insight/lib/python3.6/site-packages/scipy/stats/stats.py:1713: FutureWarning: Using a non-tuple sequence for multidimensional indexing is deprecated; use `arr[tuple(seq)]` instead of `arr[seq]`. In the future this will be interpreted as an array index, `arr[np.array(seq)]`, which will result either in an error or a different result.\n",
      "  return np.add.reduce(sorted[indexer] * weights, axis=axis) / sumval\n"
     ]
    },
    {
     "data": {
      "image/png": "[encoded data removed]",
      "text/plain": [
       "<Figure size 864x864 with 1 Axes>"
      ]
     },
     "metadata": {
      "needs_background": "light"
     },
     "output_type": "display_data"
    }
   ],
   "source": [
    "sns.catplot(x=\"source\", kind=\"bar\",y='converted', palette=\"ch:.25\", data=df1,size=12, aspect=1);"
   ]
  },
  {
   "cell_type": "markdown",
   "metadata": {},
   "source": [
    "This is GREAT! friend referral seems to show the highest conversion rate! Thus promoting users as they refer the software to friends might be a way to increase the conversion rate surely. While search engine results tend to be more-or-less the same given 95% interval, some ads turns out to be more effective than others in converting the users: e.g. Google and FB. It will be worth tracking what is different from Google / FB ads and the rest of the ads to see what is going on."
   ]
  },
  {
   "cell_type": "code",
   "execution_count": 156,
   "metadata": {
    "collapsed": false
   },
   "outputs": [
    {
     "name": "stderr",
     "output_type": "stream",
     "text": [
      "/home/ijee/anaconda3/envs/insight/lib/python3.6/site-packages/scipy/stats/stats.py:1713: FutureWarning: Using a non-tuple sequence for multidimensional indexing is deprecated; use `arr[tuple(seq)]` instead of `arr[seq]`. In the future this will be interpreted as an array index, `arr[np.array(seq)]`, which will result either in an error or a different result.\n",
      "  return np.add.reduce(sorted[indexer] * weights, axis=axis) / sumval\n"
     ]
    },
    {
     "data": {
      "image/png": "[encoded data removed]",
      "text/plain": [
       "<Figure size 360x360 with 1 Axes>"
      ]
     },
     "metadata": {
      "needs_background": "light"
     },
     "output_type": "display_data"
    }
   ],
   "source": [
    "sns.catplot(x=\"device\", kind=\"bar\", y='converted', palette=\"ch:.25\", data=df1);"
   ]
  },
  {
   "cell_type": "code",
   "execution_count": 158,
   "metadata": {
    "collapsed": false
   },
   "outputs": [
    {
     "name": "stderr",
     "output_type": "stream",
     "text": [
      "/home/ijee/anaconda3/envs/insight/lib/python3.6/site-packages/scipy/stats/stats.py:1713: FutureWarning: Using a non-tuple sequence for multidimensional indexing is deprecated; use `arr[tuple(seq)]` instead of `arr[seq]`. In the future this will be interpreted as an array index, `arr[np.array(seq)]`, which will result either in an error or a different result.\n",
      "  return np.add.reduce(sorted[indexer] * weights, axis=axis) / sumval\n"
     ]
    },
    {
     "data": {
      "image/png": "[encoded data removed]",
      "text/plain": [
       "<Figure size 360x360 with 1 Axes>"
      ]
     },
     "metadata": {
      "needs_background": "light"
     },
     "output_type": "display_data"
    }
   ],
   "source": [
    "sns.catplot(x=\"operative_system\", kind=\"bar\",y='converted', palette=\"ch:.25\", data=df1)"
   ]
  },
  {
   "cell_type": "markdown",
   "metadata": {},
   "source": [
    "The software appears to be more appealing to 'apple' users (iOS for mobile, mac for web). This may be due to the difference in user (there must be market studies showing apple users tend to be... and windows/ android users tend to be... type of study, which is beyond the scope of 4 hr DC so we leave it for future work (which means it will never be touched)), or due to the design of the software in different OS, and thus it is worth investigating. "
   ]
  },
  {
   "cell_type": "markdown",
   "metadata": {},
   "source": [
    "Let's look at the correlation...."
   ]
  },
  {
   "cell_type": "code",
   "execution_count": 166,
   "metadata": {
    "collapsed": false
   },
   "outputs": [
    {
     "data": {
      "text/plain": [
       "<matplotlib.axes._subplots.AxesSubplot at 0x7f6448197d30>"
      ]
     },
     "execution_count": 166,
     "metadata": {},
     "output_type": "execute_result"
    },
    {
     "data": {
      "image/png": "[encoded data removed]",
      "text/plain": [
       "<Figure size 432x288 with 2 Axes>"
      ]
     },
     "metadata": {
      "needs_background": "light"
     },
     "output_type": "display_data"
    }
   ],
   "source": [
    "sns.heatmap(pd.crosstab(df1.operative_system, df.source))"
   ]
  },
  {
   "cell_type": "code",
   "execution_count": null,
   "metadata": {
    "collapsed": true
   },
   "outputs": [],
   "source": []
  },
  {
   "cell_type": "code",
   "execution_count": 35,
   "metadata": {
    "collapsed": false
   },
   "outputs": [
    {
     "data": {
      "text/html": [
       "<div>\n",
       "<style scoped>\n",
       "    .dataframe tbody tr th:only-of-type {\n",
       "        vertical-align: middle;\n",
       "    }\n",
       "\n",
       "    .dataframe tbody tr th {\n",
       "        vertical-align: top;\n",
       "    }\n",
       "\n",
       "    .dataframe thead th {\n",
       "        text-align: right;\n",
       "    }\n",
       "</style>\n",
       "<table border=\"1\" class=\"dataframe\">\n",
       "  <thead>\n",
       "    <tr style=\"text-align: right;\">\n",
       "      <th></th>\n",
       "      <th>user_id</th>\n",
       "      <th>timestamp</th>\n",
       "      <th>source</th>\n",
       "      <th>device</th>\n",
       "      <th>operative_system</th>\n",
       "      <th>test</th>\n",
       "      <th>price</th>\n",
       "      <th>converted</th>\n",
       "      <th>city</th>\n",
       "      <th>country</th>\n",
       "      <th>lat</th>\n",
       "      <th>long</th>\n",
       "    </tr>\n",
       "  </thead>\n",
       "  <tbody>\n",
       "    <tr>\n",
       "      <th>94</th>\n",
       "      <td>713483</td>\n",
       "      <td>2015-05-01 22:14:32</td>\n",
       "      <td>direct_traffic</td>\n",
       "      <td>0</td>\n",
       "      <td>1.0</td>\n",
       "      <td>0</td>\n",
       "      <td>760350245.0</td>\n",
       "      <td>0</td>\n",
       "      <td>Cleveland</td>\n",
       "      <td>USA</td>\n",
       "      <td>41.48</td>\n",
       "      <td>-81.68</td>\n",
       "    </tr>\n",
       "    <tr>\n",
       "      <th>163</th>\n",
       "      <td>813855</td>\n",
       "      <td>2015-03-13 19:52:42</td>\n",
       "      <td>ads-bing</td>\n",
       "      <td>1</td>\n",
       "      <td>4.0</td>\n",
       "      <td>1</td>\n",
       "      <td>880279005.0</td>\n",
       "      <td>0</td>\n",
       "      <td>NaN</td>\n",
       "      <td>NaN</td>\n",
       "      <td>NaN</td>\n",
       "      <td>NaN</td>\n",
       "    </tr>\n",
       "    <tr>\n",
       "      <th>201</th>\n",
       "      <td>34593</td>\n",
       "      <td>2015-03-30 08:14:44</td>\n",
       "      <td>ads_other</td>\n",
       "      <td>0</td>\n",
       "      <td>2.0</td>\n",
       "      <td>0</td>\n",
       "      <td>630429505.0</td>\n",
       "      <td>0</td>\n",
       "      <td>Sacramento</td>\n",
       "      <td>USA</td>\n",
       "      <td>38.57</td>\n",
       "      <td>-121.47</td>\n",
       "    </tr>\n",
       "    <tr>\n",
       "      <th>271</th>\n",
       "      <td>878231</td>\n",
       "      <td>2015-03-20 01:08:07</td>\n",
       "      <td>ads-bing</td>\n",
       "      <td>1</td>\n",
       "      <td>3.0</td>\n",
       "      <td>0</td>\n",
       "      <td>991021920.0</td>\n",
       "      <td>0</td>\n",
       "      <td>Houston</td>\n",
       "      <td>USA</td>\n",
       "      <td>29.77</td>\n",
       "      <td>-95.39</td>\n",
       "    </tr>\n",
       "    <tr>\n",
       "      <th>289</th>\n",
       "      <td>951988</td>\n",
       "      <td>2015-05-02 13:20:25</td>\n",
       "      <td>ads_facebook</td>\n",
       "      <td>0</td>\n",
       "      <td>2.0</td>\n",
       "      <td>0</td>\n",
       "      <td>532089148.0</td>\n",
       "      <td>0</td>\n",
       "      <td>Jacksonville</td>\n",
       "      <td>USA</td>\n",
       "      <td>30.33</td>\n",
       "      <td>-81.66</td>\n",
       "    </tr>\n",
       "    <tr>\n",
       "      <th>403</th>\n",
       "      <td>839013</td>\n",
       "      <td>2015-03-06 10:52:08</td>\n",
       "      <td>ads_facebook</td>\n",
       "      <td>1</td>\n",
       "      <td>3.0</td>\n",
       "      <td>1</td>\n",
       "      <td>586982279.0</td>\n",
       "      <td>1</td>\n",
       "      <td>Eldersburg</td>\n",
       "      <td>USA</td>\n",
       "      <td>39.41</td>\n",
       "      <td>-76.94</td>\n",
       "    </tr>\n",
       "    <tr>\n",
       "      <th>425</th>\n",
       "      <td>589975</td>\n",
       "      <td>2015-04-26 08:54:42</td>\n",
       "      <td>ads_facebook</td>\n",
       "      <td>1</td>\n",
       "      <td>3.0</td>\n",
       "      <td>0</td>\n",
       "      <td>838114695.0</td>\n",
       "      <td>0</td>\n",
       "      <td>Rancho Cucamonga</td>\n",
       "      <td>USA</td>\n",
       "      <td>34.12</td>\n",
       "      <td>-117.57</td>\n",
       "    </tr>\n",
       "    <tr>\n",
       "      <th>517</th>\n",
       "      <td>298770</td>\n",
       "      <td>2015-05-18 12:54:04</td>\n",
       "      <td>ads-bing</td>\n",
       "      <td>1</td>\n",
       "      <td>4.0</td>\n",
       "      <td>0</td>\n",
       "      <td>991024673.0</td>\n",
       "      <td>0</td>\n",
       "      <td>Winston-Salem</td>\n",
       "      <td>USA</td>\n",
       "      <td>36.10</td>\n",
       "      <td>-80.26</td>\n",
       "    </tr>\n",
       "    <tr>\n",
       "      <th>548</th>\n",
       "      <td>165419</td>\n",
       "      <td>2015-04-10 04:29:28</td>\n",
       "      <td>friend_referral</td>\n",
       "      <td>0</td>\n",
       "      <td>2.0</td>\n",
       "      <td>0</td>\n",
       "      <td>731608106.0</td>\n",
       "      <td>0</td>\n",
       "      <td>Detroit</td>\n",
       "      <td>USA</td>\n",
       "      <td>42.38</td>\n",
       "      <td>-83.10</td>\n",
       "    </tr>\n",
       "    <tr>\n",
       "      <th>600</th>\n",
       "      <td>53480</td>\n",
       "      <td>2015-05-22 06:54:28</td>\n",
       "      <td>ads_facebook</td>\n",
       "      <td>0</td>\n",
       "      <td>2.0</td>\n",
       "      <td>0</td>\n",
       "      <td>582513317.0</td>\n",
       "      <td>0</td>\n",
       "      <td>Kennewick</td>\n",
       "      <td>USA</td>\n",
       "      <td>46.20</td>\n",
       "      <td>-119.17</td>\n",
       "    </tr>\n",
       "    <tr>\n",
       "      <th>651</th>\n",
       "      <td>322747</td>\n",
       "      <td>2015-04-23 08:07:10</td>\n",
       "      <td>seo-yahoo</td>\n",
       "      <td>1</td>\n",
       "      <td>4.0</td>\n",
       "      <td>0</td>\n",
       "      <td>578296316.0</td>\n",
       "      <td>0</td>\n",
       "      <td>Overland Park</td>\n",
       "      <td>USA</td>\n",
       "      <td>38.91</td>\n",
       "      <td>-94.68</td>\n",
       "    </tr>\n",
       "    <tr>\n",
       "      <th>811</th>\n",
       "      <td>527300</td>\n",
       "      <td>2015-04-11 09:22:28</td>\n",
       "      <td>ads-google</td>\n",
       "      <td>1</td>\n",
       "      <td>3.0</td>\n",
       "      <td>1</td>\n",
       "      <td>639769749.0</td>\n",
       "      <td>0</td>\n",
       "      <td>Appleton</td>\n",
       "      <td>USA</td>\n",
       "      <td>44.27</td>\n",
       "      <td>-88.40</td>\n",
       "    </tr>\n",
       "    <tr>\n",
       "      <th>850</th>\n",
       "      <td>311783</td>\n",
       "      <td>2015-04-10 06:13:52</td>\n",
       "      <td>ads_facebook</td>\n",
       "      <td>1</td>\n",
       "      <td>NaN</td>\n",
       "      <td>0</td>\n",
       "      <td>983658002.0</td>\n",
       "      <td>0</td>\n",
       "      <td>NaN</td>\n",
       "      <td>NaN</td>\n",
       "      <td>NaN</td>\n",
       "      <td>NaN</td>\n",
       "    </tr>\n",
       "    <tr>\n",
       "      <th>1017</th>\n",
       "      <td>779307</td>\n",
       "      <td>2015-03-24 14:04:05</td>\n",
       "      <td>direct_traffic</td>\n",
       "      <td>1</td>\n",
       "      <td>3.0</td>\n",
       "      <td>0</td>\n",
       "      <td>347323137.0</td>\n",
       "      <td>0</td>\n",
       "      <td>New York</td>\n",
       "      <td>USA</td>\n",
       "      <td>40.67</td>\n",
       "      <td>-73.94</td>\n",
       "    </tr>\n",
       "    <tr>\n",
       "      <th>1029</th>\n",
       "      <td>955937</td>\n",
       "      <td>2015-05-03 04:12:27</td>\n",
       "      <td>ads_facebook</td>\n",
       "      <td>1</td>\n",
       "      <td>4.0</td>\n",
       "      <td>0</td>\n",
       "      <td>787757839.0</td>\n",
       "      <td>1</td>\n",
       "      <td>Fort Lauderdale</td>\n",
       "      <td>USA</td>\n",
       "      <td>26.14</td>\n",
       "      <td>-80.14</td>\n",
       "    </tr>\n",
       "    <tr>\n",
       "      <th>1063</th>\n",
       "      <td>78918</td>\n",
       "      <td>2015-05-21 10:32:21</td>\n",
       "      <td>direct_traffic</td>\n",
       "      <td>0</td>\n",
       "      <td>2.0</td>\n",
       "      <td>0</td>\n",
       "      <td>933404723.0</td>\n",
       "      <td>0</td>\n",
       "      <td>Brandon</td>\n",
       "      <td>USA</td>\n",
       "      <td>27.93</td>\n",
       "      <td>-82.29</td>\n",
       "    </tr>\n",
       "    <tr>\n",
       "      <th>1102</th>\n",
       "      <td>37369</td>\n",
       "      <td>2015-04-04 08:32:16</td>\n",
       "      <td>ads_other</td>\n",
       "      <td>1</td>\n",
       "      <td>3.0</td>\n",
       "      <td>0</td>\n",
       "      <td>479427734.0</td>\n",
       "      <td>0</td>\n",
       "      <td>Las Vegas</td>\n",
       "      <td>USA</td>\n",
       "      <td>36.21</td>\n",
       "      <td>-115.22</td>\n",
       "    </tr>\n",
       "    <tr>\n",
       "      <th>1343</th>\n",
       "      <td>709245</td>\n",
       "      <td>2015-05-08 10:21:55</td>\n",
       "      <td>seo_facebook</td>\n",
       "      <td>1</td>\n",
       "      <td>4.0</td>\n",
       "      <td>0</td>\n",
       "      <td>845102739.0</td>\n",
       "      <td>0</td>\n",
       "      <td>NaN</td>\n",
       "      <td>NaN</td>\n",
       "      <td>NaN</td>\n",
       "      <td>NaN</td>\n",
       "    </tr>\n",
       "    <tr>\n",
       "      <th>1389</th>\n",
       "      <td>865013</td>\n",
       "      <td>2015-05-09 10:20:24</td>\n",
       "      <td>seo-google</td>\n",
       "      <td>1</td>\n",
       "      <td>4.0</td>\n",
       "      <td>0</td>\n",
       "      <td>755470912.0</td>\n",
       "      <td>0</td>\n",
       "      <td>NaN</td>\n",
       "      <td>NaN</td>\n",
       "      <td>NaN</td>\n",
       "      <td>NaN</td>\n",
       "    </tr>\n",
       "    <tr>\n",
       "      <th>1486</th>\n",
       "      <td>576751</td>\n",
       "      <td>2015-03-14 11:28:15</td>\n",
       "      <td>seo_facebook</td>\n",
       "      <td>0</td>\n",
       "      <td>2.0</td>\n",
       "      <td>0</td>\n",
       "      <td>898428703.0</td>\n",
       "      <td>0</td>\n",
       "      <td>Rochester</td>\n",
       "      <td>USA</td>\n",
       "      <td>43.17</td>\n",
       "      <td>-77.62</td>\n",
       "    </tr>\n",
       "    <tr>\n",
       "      <th>1577</th>\n",
       "      <td>136959</td>\n",
       "      <td>2015-04-24 17:53:37</td>\n",
       "      <td>seo_facebook</td>\n",
       "      <td>1</td>\n",
       "      <td>3.0</td>\n",
       "      <td>0</td>\n",
       "      <td>686165034.0</td>\n",
       "      <td>1</td>\n",
       "      <td>Mesa</td>\n",
       "      <td>USA</td>\n",
       "      <td>33.42</td>\n",
       "      <td>-111.74</td>\n",
       "    </tr>\n",
       "    <tr>\n",
       "      <th>1618</th>\n",
       "      <td>756774</td>\n",
       "      <td>2015-04-24 12:34:22</td>\n",
       "      <td>seo-google</td>\n",
       "      <td>0</td>\n",
       "      <td>2.0</td>\n",
       "      <td>0</td>\n",
       "      <td>879263308.0</td>\n",
       "      <td>0</td>\n",
       "      <td>NaN</td>\n",
       "      <td>NaN</td>\n",
       "      <td>NaN</td>\n",
       "      <td>NaN</td>\n",
       "    </tr>\n",
       "    <tr>\n",
       "      <th>1633</th>\n",
       "      <td>635973</td>\n",
       "      <td>2015-03-30 15:52:51</td>\n",
       "      <td>seo_facebook</td>\n",
       "      <td>1</td>\n",
       "      <td>NaN</td>\n",
       "      <td>0</td>\n",
       "      <td>985403918.0</td>\n",
       "      <td>0</td>\n",
       "      <td>Hillsboro</td>\n",
       "      <td>USA</td>\n",
       "      <td>45.53</td>\n",
       "      <td>-122.94</td>\n",
       "    </tr>\n",
       "    <tr>\n",
       "      <th>1656</th>\n",
       "      <td>420101</td>\n",
       "      <td>2015-04-18 18:45:30</td>\n",
       "      <td>friend_referral</td>\n",
       "      <td>1</td>\n",
       "      <td>4.0</td>\n",
       "      <td>0</td>\n",
       "      <td>758765625.0</td>\n",
       "      <td>0</td>\n",
       "      <td>Eau Claire</td>\n",
       "      <td>USA</td>\n",
       "      <td>44.82</td>\n",
       "      <td>-91.49</td>\n",
       "    </tr>\n",
       "    <tr>\n",
       "      <th>1699</th>\n",
       "      <td>384184</td>\n",
       "      <td>2015-03-21 06:04:45</td>\n",
       "      <td>direct_traffic</td>\n",
       "      <td>0</td>\n",
       "      <td>2.0</td>\n",
       "      <td>1</td>\n",
       "      <td>835915925.0</td>\n",
       "      <td>0</td>\n",
       "      <td>Torrance</td>\n",
       "      <td>USA</td>\n",
       "      <td>33.83</td>\n",
       "      <td>-118.34</td>\n",
       "    </tr>\n",
       "    <tr>\n",
       "      <th>1729</th>\n",
       "      <td>855004</td>\n",
       "      <td>2015-03-06 11:37:44</td>\n",
       "      <td>ads-google</td>\n",
       "      <td>1</td>\n",
       "      <td>4.0</td>\n",
       "      <td>1</td>\n",
       "      <td>463001165.0</td>\n",
       "      <td>0</td>\n",
       "      <td>Memphis</td>\n",
       "      <td>USA</td>\n",
       "      <td>35.11</td>\n",
       "      <td>-90.01</td>\n",
       "    </tr>\n",
       "    <tr>\n",
       "      <th>1857</th>\n",
       "      <td>457657</td>\n",
       "      <td>2015-05-07 10:57:08</td>\n",
       "      <td>seo-yahoo</td>\n",
       "      <td>1</td>\n",
       "      <td>NaN</td>\n",
       "      <td>0</td>\n",
       "      <td>807940842.0</td>\n",
       "      <td>0</td>\n",
       "      <td>Cicero</td>\n",
       "      <td>USA</td>\n",
       "      <td>41.84</td>\n",
       "      <td>-87.76</td>\n",
       "    </tr>\n",
       "    <tr>\n",
       "      <th>1922</th>\n",
       "      <td>609939</td>\n",
       "      <td>2015-05-02 12:16:31</td>\n",
       "      <td>direct_traffic</td>\n",
       "      <td>1</td>\n",
       "      <td>3.0</td>\n",
       "      <td>0</td>\n",
       "      <td>490994162.0</td>\n",
       "      <td>0</td>\n",
       "      <td>New York</td>\n",
       "      <td>USA</td>\n",
       "      <td>40.67</td>\n",
       "      <td>-73.94</td>\n",
       "    </tr>\n",
       "    <tr>\n",
       "      <th>1975</th>\n",
       "      <td>222257</td>\n",
       "      <td>2015-03-05 09:04:55</td>\n",
       "      <td>ads-bing</td>\n",
       "      <td>1</td>\n",
       "      <td>NaN</td>\n",
       "      <td>0</td>\n",
       "      <td>928087468.0</td>\n",
       "      <td>0</td>\n",
       "      <td>Warner Robins</td>\n",
       "      <td>USA</td>\n",
       "      <td>32.61</td>\n",
       "      <td>-83.63</td>\n",
       "    </tr>\n",
       "    <tr>\n",
       "      <th>2042</th>\n",
       "      <td>685873</td>\n",
       "      <td>2015-05-09 15:54:03</td>\n",
       "      <td>ads-google</td>\n",
       "      <td>0</td>\n",
       "      <td>2.0</td>\n",
       "      <td>0</td>\n",
       "      <td>671954313.0</td>\n",
       "      <td>0</td>\n",
       "      <td>New York</td>\n",
       "      <td>USA</td>\n",
       "      <td>40.67</td>\n",
       "      <td>-73.94</td>\n",
       "    </tr>\n",
       "    <tr>\n",
       "      <th>...</th>\n",
       "      <td>...</td>\n",
       "      <td>...</td>\n",
       "      <td>...</td>\n",
       "      <td>...</td>\n",
       "      <td>...</td>\n",
       "      <td>...</td>\n",
       "      <td>...</td>\n",
       "      <td>...</td>\n",
       "      <td>...</td>\n",
       "      <td>...</td>\n",
       "      <td>...</td>\n",
       "      <td>...</td>\n",
       "    </tr>\n",
       "    <tr>\n",
       "      <th>313691</th>\n",
       "      <td>724776</td>\n",
       "      <td>2015-05-22 15:17:22</td>\n",
       "      <td>ads-yahoo</td>\n",
       "      <td>1</td>\n",
       "      <td>3.0</td>\n",
       "      <td>1</td>\n",
       "      <td>783984780.0</td>\n",
       "      <td>0</td>\n",
       "      <td>Nashville</td>\n",
       "      <td>USA</td>\n",
       "      <td>36.17</td>\n",
       "      <td>-86.78</td>\n",
       "    </tr>\n",
       "    <tr>\n",
       "      <th>313765</th>\n",
       "      <td>411541</td>\n",
       "      <td>2015-03-06 08:13:31</td>\n",
       "      <td>ads-google</td>\n",
       "      <td>0</td>\n",
       "      <td>2.0</td>\n",
       "      <td>0</td>\n",
       "      <td>796039559.0</td>\n",
       "      <td>0</td>\n",
       "      <td>Weston</td>\n",
       "      <td>USA</td>\n",
       "      <td>26.10</td>\n",
       "      <td>-80.40</td>\n",
       "    </tr>\n",
       "    <tr>\n",
       "      <th>313799</th>\n",
       "      <td>892158</td>\n",
       "      <td>2015-05-24 23:57:23</td>\n",
       "      <td>direct_traffic</td>\n",
       "      <td>0</td>\n",
       "      <td>2.0</td>\n",
       "      <td>0</td>\n",
       "      <td>652612063.0</td>\n",
       "      <td>0</td>\n",
       "      <td>Teaneck</td>\n",
       "      <td>USA</td>\n",
       "      <td>40.89</td>\n",
       "      <td>-74.01</td>\n",
       "    </tr>\n",
       "    <tr>\n",
       "      <th>313827</th>\n",
       "      <td>36099</td>\n",
       "      <td>2015-05-08 10:45:14</td>\n",
       "      <td>direct_traffic</td>\n",
       "      <td>1</td>\n",
       "      <td>4.0</td>\n",
       "      <td>0</td>\n",
       "      <td>971783075.0</td>\n",
       "      <td>0</td>\n",
       "      <td>Miramar</td>\n",
       "      <td>USA</td>\n",
       "      <td>25.98</td>\n",
       "      <td>-80.33</td>\n",
       "    </tr>\n",
       "    <tr>\n",
       "      <th>313961</th>\n",
       "      <td>842755</td>\n",
       "      <td>2015-04-06 18:11:11</td>\n",
       "      <td>ads_facebook</td>\n",
       "      <td>1</td>\n",
       "      <td>NaN</td>\n",
       "      <td>1</td>\n",
       "      <td>838952313.0</td>\n",
       "      <td>0</td>\n",
       "      <td>Corpus Christi</td>\n",
       "      <td>USA</td>\n",
       "      <td>27.71</td>\n",
       "      <td>-97.29</td>\n",
       "    </tr>\n",
       "    <tr>\n",
       "      <th>314086</th>\n",
       "      <td>49172</td>\n",
       "      <td>2015-05-01 12:16:48</td>\n",
       "      <td>ads-google</td>\n",
       "      <td>1</td>\n",
       "      <td>4.0</td>\n",
       "      <td>0</td>\n",
       "      <td>357815205.0</td>\n",
       "      <td>0</td>\n",
       "      <td>Andover</td>\n",
       "      <td>USA</td>\n",
       "      <td>42.65</td>\n",
       "      <td>-71.14</td>\n",
       "    </tr>\n",
       "    <tr>\n",
       "      <th>314482</th>\n",
       "      <td>112</td>\n",
       "      <td>2015-03-08 08:46:26</td>\n",
       "      <td>ads_other</td>\n",
       "      <td>1</td>\n",
       "      <td>4.0</td>\n",
       "      <td>0</td>\n",
       "      <td>842038745.0</td>\n",
       "      <td>0</td>\n",
       "      <td>Seattle</td>\n",
       "      <td>USA</td>\n",
       "      <td>47.62</td>\n",
       "      <td>-122.35</td>\n",
       "    </tr>\n",
       "    <tr>\n",
       "      <th>314542</th>\n",
       "      <td>518373</td>\n",
       "      <td>2015-04-05 18:06:27</td>\n",
       "      <td>ads-bing</td>\n",
       "      <td>1</td>\n",
       "      <td>3.0</td>\n",
       "      <td>1</td>\n",
       "      <td>836041159.0</td>\n",
       "      <td>0</td>\n",
       "      <td>Houston</td>\n",
       "      <td>USA</td>\n",
       "      <td>29.77</td>\n",
       "      <td>-95.39</td>\n",
       "    </tr>\n",
       "    <tr>\n",
       "      <th>314555</th>\n",
       "      <td>319798</td>\n",
       "      <td>2015-04-05 02:51:30</td>\n",
       "      <td>ads_other</td>\n",
       "      <td>0</td>\n",
       "      <td>NaN</td>\n",
       "      <td>1</td>\n",
       "      <td>789898648.0</td>\n",
       "      <td>0</td>\n",
       "      <td>Dearborn Heights</td>\n",
       "      <td>USA</td>\n",
       "      <td>42.33</td>\n",
       "      <td>-83.27</td>\n",
       "    </tr>\n",
       "    <tr>\n",
       "      <th>314720</th>\n",
       "      <td>462515</td>\n",
       "      <td>2015-04-19 16:28:08</td>\n",
       "      <td>ads-google</td>\n",
       "      <td>0</td>\n",
       "      <td>2.0</td>\n",
       "      <td>0</td>\n",
       "      <td>454849450.0</td>\n",
       "      <td>0</td>\n",
       "      <td>Oakland</td>\n",
       "      <td>USA</td>\n",
       "      <td>37.77</td>\n",
       "      <td>-122.22</td>\n",
       "    </tr>\n",
       "    <tr>\n",
       "      <th>314750</th>\n",
       "      <td>726830</td>\n",
       "      <td>2015-03-06 20:07:11</td>\n",
       "      <td>ads-google</td>\n",
       "      <td>1</td>\n",
       "      <td>3.0</td>\n",
       "      <td>0</td>\n",
       "      <td>825640627.0</td>\n",
       "      <td>0</td>\n",
       "      <td>Tacoma</td>\n",
       "      <td>USA</td>\n",
       "      <td>47.25</td>\n",
       "      <td>-122.46</td>\n",
       "    </tr>\n",
       "    <tr>\n",
       "      <th>314773</th>\n",
       "      <td>275859</td>\n",
       "      <td>2015-04-25 13:33:42</td>\n",
       "      <td>ads_facebook</td>\n",
       "      <td>1</td>\n",
       "      <td>3.0</td>\n",
       "      <td>1</td>\n",
       "      <td>715112008.0</td>\n",
       "      <td>0</td>\n",
       "      <td>Allen</td>\n",
       "      <td>USA</td>\n",
       "      <td>33.11</td>\n",
       "      <td>-96.67</td>\n",
       "    </tr>\n",
       "    <tr>\n",
       "      <th>314780</th>\n",
       "      <td>153049</td>\n",
       "      <td>2015-04-18 11:44:53</td>\n",
       "      <td>seo-google</td>\n",
       "      <td>1</td>\n",
       "      <td>4.0</td>\n",
       "      <td>1</td>\n",
       "      <td>782988885.0</td>\n",
       "      <td>0</td>\n",
       "      <td>Miami</td>\n",
       "      <td>USA</td>\n",
       "      <td>25.78</td>\n",
       "      <td>-80.21</td>\n",
       "    </tr>\n",
       "    <tr>\n",
       "      <th>314815</th>\n",
       "      <td>500051</td>\n",
       "      <td>2015-04-03 09:47:57</td>\n",
       "      <td>ads_facebook</td>\n",
       "      <td>0</td>\n",
       "      <td>2.0</td>\n",
       "      <td>0</td>\n",
       "      <td>987349428.0</td>\n",
       "      <td>0</td>\n",
       "      <td>NaN</td>\n",
       "      <td>NaN</td>\n",
       "      <td>NaN</td>\n",
       "      <td>NaN</td>\n",
       "    </tr>\n",
       "    <tr>\n",
       "      <th>314848</th>\n",
       "      <td>732831</td>\n",
       "      <td>2015-03-02 16:55:25</td>\n",
       "      <td>seo_facebook</td>\n",
       "      <td>0</td>\n",
       "      <td>2.0</td>\n",
       "      <td>0</td>\n",
       "      <td>656148766.0</td>\n",
       "      <td>0</td>\n",
       "      <td>Surprise</td>\n",
       "      <td>USA</td>\n",
       "      <td>33.66</td>\n",
       "      <td>-112.47</td>\n",
       "    </tr>\n",
       "    <tr>\n",
       "      <th>314936</th>\n",
       "      <td>105600</td>\n",
       "      <td>2015-03-27 14:24:30</td>\n",
       "      <td>seo-google</td>\n",
       "      <td>1</td>\n",
       "      <td>3.0</td>\n",
       "      <td>0</td>\n",
       "      <td>361357237.0</td>\n",
       "      <td>0</td>\n",
       "      <td>Los Angeles</td>\n",
       "      <td>USA</td>\n",
       "      <td>34.11</td>\n",
       "      <td>-118.41</td>\n",
       "    </tr>\n",
       "    <tr>\n",
       "      <th>315010</th>\n",
       "      <td>167163</td>\n",
       "      <td>2015-04-18 01:43:30</td>\n",
       "      <td>direct_traffic</td>\n",
       "      <td>1</td>\n",
       "      <td>4.0</td>\n",
       "      <td>0</td>\n",
       "      <td>481540548.0</td>\n",
       "      <td>0</td>\n",
       "      <td>Billerica</td>\n",
       "      <td>USA</td>\n",
       "      <td>42.56</td>\n",
       "      <td>-71.26</td>\n",
       "    </tr>\n",
       "    <tr>\n",
       "      <th>315024</th>\n",
       "      <td>29354</td>\n",
       "      <td>2015-05-15 18:11:47</td>\n",
       "      <td>ads_facebook</td>\n",
       "      <td>1</td>\n",
       "      <td>4.0</td>\n",
       "      <td>0</td>\n",
       "      <td>555642542.0</td>\n",
       "      <td>0</td>\n",
       "      <td>NaN</td>\n",
       "      <td>NaN</td>\n",
       "      <td>NaN</td>\n",
       "      <td>NaN</td>\n",
       "    </tr>\n",
       "    <tr>\n",
       "      <th>315046</th>\n",
       "      <td>762551</td>\n",
       "      <td>2015-04-12 11:60:53</td>\n",
       "      <td>ads-google</td>\n",
       "      <td>0</td>\n",
       "      <td>1.0</td>\n",
       "      <td>0</td>\n",
       "      <td>612152917.0</td>\n",
       "      <td>0</td>\n",
       "      <td>Irving</td>\n",
       "      <td>USA</td>\n",
       "      <td>32.86</td>\n",
       "      <td>-96.97</td>\n",
       "    </tr>\n",
       "    <tr>\n",
       "      <th>315348</th>\n",
       "      <td>633627</td>\n",
       "      <td>2015-03-13 01:32:03</td>\n",
       "      <td>ads-google</td>\n",
       "      <td>1</td>\n",
       "      <td>NaN</td>\n",
       "      <td>0</td>\n",
       "      <td>538351129.0</td>\n",
       "      <td>0</td>\n",
       "      <td>Virginia Beach</td>\n",
       "      <td>USA</td>\n",
       "      <td>36.74</td>\n",
       "      <td>-76.04</td>\n",
       "    </tr>\n",
       "    <tr>\n",
       "      <th>315593</th>\n",
       "      <td>197819</td>\n",
       "      <td>2015-05-30 11:01:36</td>\n",
       "      <td>ads-yahoo</td>\n",
       "      <td>1</td>\n",
       "      <td>4.0</td>\n",
       "      <td>0</td>\n",
       "      <td>454461447.0</td>\n",
       "      <td>0</td>\n",
       "      <td>Colton</td>\n",
       "      <td>USA</td>\n",
       "      <td>34.06</td>\n",
       "      <td>-117.32</td>\n",
       "    </tr>\n",
       "    <tr>\n",
       "      <th>315639</th>\n",
       "      <td>298250</td>\n",
       "      <td>2015-05-02 21:49:02</td>\n",
       "      <td>direct_traffic</td>\n",
       "      <td>1</td>\n",
       "      <td>4.0</td>\n",
       "      <td>1</td>\n",
       "      <td>876622876.0</td>\n",
       "      <td>0</td>\n",
       "      <td>NaN</td>\n",
       "      <td>NaN</td>\n",
       "      <td>NaN</td>\n",
       "      <td>NaN</td>\n",
       "    </tr>\n",
       "    <tr>\n",
       "      <th>315775</th>\n",
       "      <td>867074</td>\n",
       "      <td>2015-04-12 17:04:33</td>\n",
       "      <td>direct_traffic</td>\n",
       "      <td>1</td>\n",
       "      <td>NaN</td>\n",
       "      <td>1</td>\n",
       "      <td>528080665.0</td>\n",
       "      <td>0</td>\n",
       "      <td>Louisville</td>\n",
       "      <td>USA</td>\n",
       "      <td>38.22</td>\n",
       "      <td>-85.74</td>\n",
       "    </tr>\n",
       "    <tr>\n",
       "      <th>315941</th>\n",
       "      <td>516341</td>\n",
       "      <td>2015-05-12 01:37:45</td>\n",
       "      <td>ads_facebook</td>\n",
       "      <td>0</td>\n",
       "      <td>2.0</td>\n",
       "      <td>1</td>\n",
       "      <td>598746304.0</td>\n",
       "      <td>0</td>\n",
       "      <td>New York</td>\n",
       "      <td>USA</td>\n",
       "      <td>40.67</td>\n",
       "      <td>-73.94</td>\n",
       "    </tr>\n",
       "    <tr>\n",
       "      <th>316027</th>\n",
       "      <td>247915</td>\n",
       "      <td>NaN</td>\n",
       "      <td>ads-google</td>\n",
       "      <td>1</td>\n",
       "      <td>3.0</td>\n",
       "      <td>0</td>\n",
       "      <td>848064501.0</td>\n",
       "      <td>0</td>\n",
       "      <td>New York</td>\n",
       "      <td>USA</td>\n",
       "      <td>40.67</td>\n",
       "      <td>-73.94</td>\n",
       "    </tr>\n",
       "    <tr>\n",
       "      <th>316126</th>\n",
       "      <td>771380</td>\n",
       "      <td>2015-03-21 17:03:16</td>\n",
       "      <td>seo-google</td>\n",
       "      <td>1</td>\n",
       "      <td>3.0</td>\n",
       "      <td>0</td>\n",
       "      <td>851063629.0</td>\n",
       "      <td>0</td>\n",
       "      <td>NaN</td>\n",
       "      <td>NaN</td>\n",
       "      <td>NaN</td>\n",
       "      <td>NaN</td>\n",
       "    </tr>\n",
       "    <tr>\n",
       "      <th>316231</th>\n",
       "      <td>900492</td>\n",
       "      <td>2015-03-06 09:30:31</td>\n",
       "      <td>friend_referral</td>\n",
       "      <td>1</td>\n",
       "      <td>3.0</td>\n",
       "      <td>0</td>\n",
       "      <td>615716571.0</td>\n",
       "      <td>0</td>\n",
       "      <td>Denver</td>\n",
       "      <td>USA</td>\n",
       "      <td>39.77</td>\n",
       "      <td>-104.87</td>\n",
       "    </tr>\n",
       "    <tr>\n",
       "      <th>316278</th>\n",
       "      <td>254172</td>\n",
       "      <td>2015-05-06 06:18:08</td>\n",
       "      <td>friend_referral</td>\n",
       "      <td>1</td>\n",
       "      <td>3.0</td>\n",
       "      <td>0</td>\n",
       "      <td>808182142.0</td>\n",
       "      <td>0</td>\n",
       "      <td>New York</td>\n",
       "      <td>USA</td>\n",
       "      <td>40.67</td>\n",
       "      <td>-73.94</td>\n",
       "    </tr>\n",
       "    <tr>\n",
       "      <th>316317</th>\n",
       "      <td>714378</td>\n",
       "      <td>2015-03-20 15:05:57</td>\n",
       "      <td>ads_facebook</td>\n",
       "      <td>1</td>\n",
       "      <td>3.0</td>\n",
       "      <td>1</td>\n",
       "      <td>655179349.0</td>\n",
       "      <td>0</td>\n",
       "      <td>Virginia Beach</td>\n",
       "      <td>USA</td>\n",
       "      <td>36.74</td>\n",
       "      <td>-76.04</td>\n",
       "    </tr>\n",
       "    <tr>\n",
       "      <th>316386</th>\n",
       "      <td>281069</td>\n",
       "      <td>2015-05-24 10:47:13</td>\n",
       "      <td>ads-google</td>\n",
       "      <td>1</td>\n",
       "      <td>NaN</td>\n",
       "      <td>1</td>\n",
       "      <td>621407779.0</td>\n",
       "      <td>0</td>\n",
       "      <td>Folsom</td>\n",
       "      <td>USA</td>\n",
       "      <td>38.68</td>\n",
       "      <td>-121.15</td>\n",
       "    </tr>\n",
       "  </tbody>\n",
       "</table>\n",
       "<p>3074 rows × 12 columns</p>\n",
       "</div>"
      ],
      "text/plain": [
       "        user_id            timestamp           source  device  \\\n",
       "94       713483  2015-05-01 22:14:32   direct_traffic       0   \n",
       "163      813855  2015-03-13 19:52:42         ads-bing       1   \n",
       "201       34593  2015-03-30 08:14:44        ads_other       0   \n",
       "271      878231  2015-03-20 01:08:07         ads-bing       1   \n",
       "289      951988  2015-05-02 13:20:25     ads_facebook       0   \n",
       "403      839013  2015-03-06 10:52:08     ads_facebook       1   \n",
       "425      589975  2015-04-26 08:54:42     ads_facebook       1   \n",
       "517      298770  2015-05-18 12:54:04         ads-bing       1   \n",
       "548      165419  2015-04-10 04:29:28  friend_referral       0   \n",
       "600       53480  2015-05-22 06:54:28     ads_facebook       0   \n",
       "651      322747  2015-04-23 08:07:10        seo-yahoo       1   \n",
       "811      527300  2015-04-11 09:22:28       ads-google       1   \n",
       "850      311783  2015-04-10 06:13:52     ads_facebook       1   \n",
       "1017     779307  2015-03-24 14:04:05   direct_traffic       1   \n",
       "1029     955937  2015-05-03 04:12:27     ads_facebook       1   \n",
       "1063      78918  2015-05-21 10:32:21   direct_traffic       0   \n",
       "1102      37369  2015-04-04 08:32:16        ads_other       1   \n",
       "1343     709245  2015-05-08 10:21:55     seo_facebook       1   \n",
       "1389     865013  2015-05-09 10:20:24       seo-google       1   \n",
       "1486     576751  2015-03-14 11:28:15     seo_facebook       0   \n",
       "1577     136959  2015-04-24 17:53:37     seo_facebook       1   \n",
       "1618     756774  2015-04-24 12:34:22       seo-google       0   \n",
       "1633     635973  2015-03-30 15:52:51     seo_facebook       1   \n",
       "1656     420101  2015-04-18 18:45:30  friend_referral       1   \n",
       "1699     384184  2015-03-21 06:04:45   direct_traffic       0   \n",
       "1729     855004  2015-03-06 11:37:44       ads-google       1   \n",
       "1857     457657  2015-05-07 10:57:08        seo-yahoo       1   \n",
       "1922     609939  2015-05-02 12:16:31   direct_traffic       1   \n",
       "1975     222257  2015-03-05 09:04:55         ads-bing       1   \n",
       "2042     685873  2015-05-09 15:54:03       ads-google       0   \n",
       "...         ...                  ...              ...     ...   \n",
       "313691   724776  2015-05-22 15:17:22        ads-yahoo       1   \n",
       "313765   411541  2015-03-06 08:13:31       ads-google       0   \n",
       "313799   892158  2015-05-24 23:57:23   direct_traffic       0   \n",
       "313827    36099  2015-05-08 10:45:14   direct_traffic       1   \n",
       "313961   842755  2015-04-06 18:11:11     ads_facebook       1   \n",
       "314086    49172  2015-05-01 12:16:48       ads-google       1   \n",
       "314482      112  2015-03-08 08:46:26        ads_other       1   \n",
       "314542   518373  2015-04-05 18:06:27         ads-bing       1   \n",
       "314555   319798  2015-04-05 02:51:30        ads_other       0   \n",
       "314720   462515  2015-04-19 16:28:08       ads-google       0   \n",
       "314750   726830  2015-03-06 20:07:11       ads-google       1   \n",
       "314773   275859  2015-04-25 13:33:42     ads_facebook       1   \n",
       "314780   153049  2015-04-18 11:44:53       seo-google       1   \n",
       "314815   500051  2015-04-03 09:47:57     ads_facebook       0   \n",
       "314848   732831  2015-03-02 16:55:25     seo_facebook       0   \n",
       "314936   105600  2015-03-27 14:24:30       seo-google       1   \n",
       "315010   167163  2015-04-18 01:43:30   direct_traffic       1   \n",
       "315024    29354  2015-05-15 18:11:47     ads_facebook       1   \n",
       "315046   762551  2015-04-12 11:60:53       ads-google       0   \n",
       "315348   633627  2015-03-13 01:32:03       ads-google       1   \n",
       "315593   197819  2015-05-30 11:01:36        ads-yahoo       1   \n",
       "315639   298250  2015-05-02 21:49:02   direct_traffic       1   \n",
       "315775   867074  2015-04-12 17:04:33   direct_traffic       1   \n",
       "315941   516341  2015-05-12 01:37:45     ads_facebook       0   \n",
       "316027   247915                  NaN       ads-google       1   \n",
       "316126   771380  2015-03-21 17:03:16       seo-google       1   \n",
       "316231   900492  2015-03-06 09:30:31  friend_referral       1   \n",
       "316278   254172  2015-05-06 06:18:08  friend_referral       1   \n",
       "316317   714378  2015-03-20 15:05:57     ads_facebook       1   \n",
       "316386   281069  2015-05-24 10:47:13       ads-google       1   \n",
       "\n",
       "        operative_system  test        price  converted              city  \\\n",
       "94                   1.0     0  760350245.0          0         Cleveland   \n",
       "163                  4.0     1  880279005.0          0               NaN   \n",
       "201                  2.0     0  630429505.0          0        Sacramento   \n",
       "271                  3.0     0  991021920.0          0           Houston   \n",
       "289                  2.0     0  532089148.0          0      Jacksonville   \n",
       "403                  3.0     1  586982279.0          1        Eldersburg   \n",
       "425                  3.0     0  838114695.0          0  Rancho Cucamonga   \n",
       "517                  4.0     0  991024673.0          0     Winston-Salem   \n",
       "548                  2.0     0  731608106.0          0           Detroit   \n",
       "600                  2.0     0  582513317.0          0         Kennewick   \n",
       "651                  4.0     0  578296316.0          0     Overland Park   \n",
       "811                  3.0     1  639769749.0          0          Appleton   \n",
       "850                  NaN     0  983658002.0          0               NaN   \n",
       "1017                 3.0     0  347323137.0          0          New York   \n",
       "1029                 4.0     0  787757839.0          1   Fort Lauderdale   \n",
       "1063                 2.0     0  933404723.0          0           Brandon   \n",
       "1102                 3.0     0  479427734.0          0         Las Vegas   \n",
       "1343                 4.0     0  845102739.0          0               NaN   \n",
       "1389                 4.0     0  755470912.0          0               NaN   \n",
       "1486                 2.0     0  898428703.0          0         Rochester   \n",
       "1577                 3.0     0  686165034.0          1              Mesa   \n",
       "1618                 2.0     0  879263308.0          0               NaN   \n",
       "1633                 NaN     0  985403918.0          0         Hillsboro   \n",
       "1656                 4.0     0  758765625.0          0        Eau Claire   \n",
       "1699                 2.0     1  835915925.0          0          Torrance   \n",
       "1729                 4.0     1  463001165.0          0           Memphis   \n",
       "1857                 NaN     0  807940842.0          0            Cicero   \n",
       "1922                 3.0     0  490994162.0          0          New York   \n",
       "1975                 NaN     0  928087468.0          0     Warner Robins   \n",
       "2042                 2.0     0  671954313.0          0          New York   \n",
       "...                  ...   ...          ...        ...               ...   \n",
       "313691               3.0     1  783984780.0          0         Nashville   \n",
       "313765               2.0     0  796039559.0          0            Weston   \n",
       "313799               2.0     0  652612063.0          0           Teaneck   \n",
       "313827               4.0     0  971783075.0          0           Miramar   \n",
       "313961               NaN     1  838952313.0          0    Corpus Christi   \n",
       "314086               4.0     0  357815205.0          0           Andover   \n",
       "314482               4.0     0  842038745.0          0           Seattle   \n",
       "314542               3.0     1  836041159.0          0           Houston   \n",
       "314555               NaN     1  789898648.0          0  Dearborn Heights   \n",
       "314720               2.0     0  454849450.0          0           Oakland   \n",
       "314750               3.0     0  825640627.0          0            Tacoma   \n",
       "314773               3.0     1  715112008.0          0             Allen   \n",
       "314780               4.0     1  782988885.0          0             Miami   \n",
       "314815               2.0     0  987349428.0          0               NaN   \n",
       "314848               2.0     0  656148766.0          0          Surprise   \n",
       "314936               3.0     0  361357237.0          0       Los Angeles   \n",
       "315010               4.0     0  481540548.0          0         Billerica   \n",
       "315024               4.0     0  555642542.0          0               NaN   \n",
       "315046               1.0     0  612152917.0          0            Irving   \n",
       "315348               NaN     0  538351129.0          0    Virginia Beach   \n",
       "315593               4.0     0  454461447.0          0            Colton   \n",
       "315639               4.0     1  876622876.0          0               NaN   \n",
       "315775               NaN     1  528080665.0          0        Louisville   \n",
       "315941               2.0     1  598746304.0          0          New York   \n",
       "316027               3.0     0  848064501.0          0          New York   \n",
       "316126               3.0     0  851063629.0          0               NaN   \n",
       "316231               3.0     0  615716571.0          0            Denver   \n",
       "316278               3.0     0  808182142.0          0          New York   \n",
       "316317               3.0     1  655179349.0          0    Virginia Beach   \n",
       "316386               NaN     1  621407779.0          0            Folsom   \n",
       "\n",
       "       country    lat    long  \n",
       "94         USA  41.48  -81.68  \n",
       "163        NaN    NaN     NaN  \n",
       "201        USA  38.57 -121.47  \n",
       "271        USA  29.77  -95.39  \n",
       "289        USA  30.33  -81.66  \n",
       "403        USA  39.41  -76.94  \n",
       "425        USA  34.12 -117.57  \n",
       "517        USA  36.10  -80.26  \n",
       "548        USA  42.38  -83.10  \n",
       "600        USA  46.20 -119.17  \n",
       "651        USA  38.91  -94.68  \n",
       "811        USA  44.27  -88.40  \n",
       "850        NaN    NaN     NaN  \n",
       "1017       USA  40.67  -73.94  \n",
       "1029       USA  26.14  -80.14  \n",
       "1063       USA  27.93  -82.29  \n",
       "1102       USA  36.21 -115.22  \n",
       "1343       NaN    NaN     NaN  \n",
       "1389       NaN    NaN     NaN  \n",
       "1486       USA  43.17  -77.62  \n",
       "1577       USA  33.42 -111.74  \n",
       "1618       NaN    NaN     NaN  \n",
       "1633       USA  45.53 -122.94  \n",
       "1656       USA  44.82  -91.49  \n",
       "1699       USA  33.83 -118.34  \n",
       "1729       USA  35.11  -90.01  \n",
       "1857       USA  41.84  -87.76  \n",
       "1922       USA  40.67  -73.94  \n",
       "1975       USA  32.61  -83.63  \n",
       "2042       USA  40.67  -73.94  \n",
       "...        ...    ...     ...  \n",
       "313691     USA  36.17  -86.78  \n",
       "313765     USA  26.10  -80.40  \n",
       "313799     USA  40.89  -74.01  \n",
       "313827     USA  25.98  -80.33  \n",
       "313961     USA  27.71  -97.29  \n",
       "314086     USA  42.65  -71.14  \n",
       "314482     USA  47.62 -122.35  \n",
       "314542     USA  29.77  -95.39  \n",
       "314555     USA  42.33  -83.27  \n",
       "314720     USA  37.77 -122.22  \n",
       "314750     USA  47.25 -122.46  \n",
       "314773     USA  33.11  -96.67  \n",
       "314780     USA  25.78  -80.21  \n",
       "314815     NaN    NaN     NaN  \n",
       "314848     USA  33.66 -112.47  \n",
       "314936     USA  34.11 -118.41  \n",
       "315010     USA  42.56  -71.26  \n",
       "315024     NaN    NaN     NaN  \n",
       "315046     USA  32.86  -96.97  \n",
       "315348     USA  36.74  -76.04  \n",
       "315593     USA  34.06 -117.32  \n",
       "315639     NaN    NaN     NaN  \n",
       "315775     USA  38.22  -85.74  \n",
       "315941     USA  40.67  -73.94  \n",
       "316027     USA  40.67  -73.94  \n",
       "316126     NaN    NaN     NaN  \n",
       "316231     USA  39.77 -104.87  \n",
       "316278     USA  40.67  -73.94  \n",
       "316317     USA  36.74  -76.04  \n",
       "316386     USA  38.68 -121.15  \n",
       "\n",
       "[3074 rows x 12 columns]"
      ]
     },
     "execution_count": 35,
     "metadata": {},
     "output_type": "execute_result"
    }
   ],
   "source": [
    "df.loc[df['price']>60]"
   ]
  },
  {
   "cell_type": "code",
   "execution_count": 17,
   "metadata": {
    "collapsed": false
   },
   "outputs": [
    {
     "data": {
      "text/html": [
       "<div>\n",
       "<style scoped>\n",
       "    .dataframe tbody tr th:only-of-type {\n",
       "        vertical-align: middle;\n",
       "    }\n",
       "\n",
       "    .dataframe tbody tr th {\n",
       "        vertical-align: top;\n",
       "    }\n",
       "\n",
       "    .dataframe thead th {\n",
       "        text-align: right;\n",
       "    }\n",
       "</style>\n",
       "<table border=\"1\" class=\"dataframe\">\n",
       "  <thead>\n",
       "    <tr style=\"text-align: right;\">\n",
       "      <th></th>\n",
       "      <th>user_id</th>\n",
       "      <th>city</th>\n",
       "      <th>country</th>\n",
       "      <th>lat</th>\n",
       "      <th>long</th>\n",
       "    </tr>\n",
       "  </thead>\n",
       "  <tbody>\n",
       "    <tr>\n",
       "      <th>0</th>\n",
       "      <td>510335</td>\n",
       "      <td>Peabody</td>\n",
       "      <td>USA</td>\n",
       "      <td>42.53</td>\n",
       "      <td>-70.97</td>\n",
       "    </tr>\n",
       "    <tr>\n",
       "      <th>1</th>\n",
       "      <td>89568</td>\n",
       "      <td>Reno</td>\n",
       "      <td>USA</td>\n",
       "      <td>39.54</td>\n",
       "      <td>-119.82</td>\n",
       "    </tr>\n",
       "    <tr>\n",
       "      <th>2</th>\n",
       "      <td>434134</td>\n",
       "      <td>Rialto</td>\n",
       "      <td>USA</td>\n",
       "      <td>34.11</td>\n",
       "      <td>-117.39</td>\n",
       "    </tr>\n",
       "    <tr>\n",
       "      <th>3</th>\n",
       "      <td>289769</td>\n",
       "      <td>Carson City</td>\n",
       "      <td>USA</td>\n",
       "      <td>39.15</td>\n",
       "      <td>-119.74</td>\n",
       "    </tr>\n",
       "    <tr>\n",
       "      <th>4</th>\n",
       "      <td>939586</td>\n",
       "      <td>Chicago</td>\n",
       "      <td>USA</td>\n",
       "      <td>41.84</td>\n",
       "      <td>-87.68</td>\n",
       "    </tr>\n",
       "  </tbody>\n",
       "</table>\n",
       "</div>"
      ],
      "text/plain": [
       "   user_id         city country    lat    long\n",
       "0   510335      Peabody     USA  42.53  -70.97\n",
       "1    89568         Reno     USA  39.54 -119.82\n",
       "2   434134       Rialto     USA  34.11 -117.39\n",
       "3   289769  Carson City     USA  39.15 -119.74\n",
       "4   939586      Chicago     USA  41.84  -87.68"
      ]
     },
     "execution_count": 17,
     "metadata": {},
     "output_type": "execute_result"
    }
   ],
   "source": [
    "df_user = pd.read_csv('user_table.csv')"
   ]
  },
  {
   "cell_type": "code",
   "execution_count": 111,
   "metadata": {
    "collapsed": false
   },
   "outputs": [
    {
     "data": {
      "text/plain": [
       "array(['USA'], dtype=object)"
      ]
     },
     "execution_count": 111,
     "metadata": {},
     "output_type": "execute_result"
    }
   ],
   "source": [
    "df_user['country'].unique()\n",
    "# all users are in the US"
   ]
  },
  {
   "cell_type": "code",
   "execution_count": 19,
   "metadata": {
    "collapsed": false
   },
   "outputs": [
    {
     "name": "stdout",
     "output_type": "stream",
     "text": [
      "<class 'pandas.core.frame.DataFrame'>\n",
      "Int64Index: 316800 entries, 0 to 316799\n",
      "Data columns (total 12 columns):\n",
      "user_id             316800 non-null int64\n",
      "timestamp           316466 non-null object\n",
      "source              316488 non-null object\n",
      "device              316800 non-null object\n",
      "operative_system    296461 non-null object\n",
      "test                316800 non-null int64\n",
      "price               316800 non-null float64\n",
      "converted           316800 non-null int64\n",
      "city                275616 non-null object\n",
      "country             275616 non-null object\n",
      "lat                 275616 non-null float64\n",
      "long                275616 non-null float64\n",
      "dtypes: float64(3), int64(3), object(6)\n",
      "memory usage: 31.4+ MB\n"
     ]
    }
   ],
   "source": [
    "df = pd.merge(df1, df_user, on='user_id', how='left')\n",
    "df.info()"
   ]
  },
  {
   "cell_type": "code",
   "execution_count": 71,
   "metadata": {
    "collapsed": false
   },
   "outputs": [],
   "source": [
    "df['timestamp']=pd.to_datetime(df['timestamp'],errors='coerce')\n",
    "# The data is collected 2015 March - May"
   ]
  },
  {
   "cell_type": "code",
   "execution_count": 82,
   "metadata": {
    "collapsed": false
   },
   "outputs": [
    {
     "data": {
      "text/plain": [
       "<matplotlib.axes._subplots.AxesSubplot at 0x7f644cd62908>"
      ]
     },
     "execution_count": 82,
     "metadata": {},
     "output_type": "execute_result"
    },
    {
     "data": {
      "image/png": "[encoded data removed]",
      "text/plain": [
       "<Figure size 432x288 with 1 Axes>"
      ]
     },
     "metadata": {
      "needs_background": "light"
     },
     "output_type": "display_data"
    }
   ],
   "source": [
    "df['timestamp'].loc[df['converted']==1].groupby([df[\"timestamp\"].dt.month, df[\"timestamp\"].dt.day]).count().plot(kind=\"bar\")\n",
    "# seems to be a weekly variation in visitors\n",
    "# converted seem to vary more every week compared to (more or less) stable visitor number"
   ]
  },
  {
   "cell_type": "code",
   "execution_count": 61,
   "metadata": {
    "collapsed": false
   },
   "outputs": [
    {
     "data": {
      "text/plain": [
       "20658"
      ]
     },
     "execution_count": 61,
     "metadata": {},
     "output_type": "execute_result"
    }
   ],
   "source": [
    "df['operative_system'].isnull().sum()\n",
    "# about 6% of operating system info is missing (or does not make sense)"
   ]
  },
  {
   "cell_type": "code",
   "execution_count": 62,
   "metadata": {
    "collapsed": false
   },
   "outputs": [
    {
     "data": {
      "text/plain": [
       "334"
      ]
     },
     "execution_count": 62,
     "metadata": {},
     "output_type": "execute_result"
    }
   ],
   "source": [
    "df['timestamp'].isnull().sum()\n",
    "# IS THIS EVEN NECESSARY? "
   ]
  },
  {
   "cell_type": "code",
   "execution_count": 63,
   "metadata": {
    "collapsed": false
   },
   "outputs": [
    {
     "data": {
      "text/plain": [
       "312"
      ]
     },
     "execution_count": 63,
     "metadata": {},
     "output_type": "execute_result"
    }
   ],
   "source": [
    "df['source'].isnull().sum()"
   ]
  },
  {
   "cell_type": "code",
   "execution_count": 64,
   "metadata": {
    "collapsed": false
   },
   "outputs": [
    {
     "data": {
      "text/plain": [
       "41184"
      ]
     },
     "execution_count": 64,
     "metadata": {},
     "output_type": "execute_result"
    }
   ],
   "source": [
    "df['city'].isnull().sum()"
   ]
  },
  {
   "cell_type": "code",
   "execution_count": 65,
   "metadata": {
    "collapsed": false
   },
   "outputs": [
    {
     "data": {
      "text/plain": [
       "41184"
      ]
     },
     "execution_count": 65,
     "metadata": {},
     "output_type": "execute_result"
    }
   ],
   "source": [
    "df['country'].isnull().sum()"
   ]
  },
  {
   "cell_type": "code",
   "execution_count": 66,
   "metadata": {
    "collapsed": false
   },
   "outputs": [
    {
     "data": {
      "text/plain": [
       "41184"
      ]
     },
     "execution_count": 66,
     "metadata": {},
     "output_type": "execute_result"
    }
   ],
   "source": [
    "df['lat'].isnull().sum()"
   ]
  },
  {
   "cell_type": "code",
   "execution_count": 67,
   "metadata": {
    "collapsed": false
   },
   "outputs": [
    {
     "data": {
      "text/plain": [
       "41184"
      ]
     },
     "execution_count": 67,
     "metadata": {},
     "output_type": "execute_result"
    }
   ],
   "source": [
    "df['long'].isnull().sum()"
   ]
  },
  {
   "cell_type": "code",
   "execution_count": 23,
   "metadata": {
    "collapsed": true
   },
   "outputs": [],
   "source": [
    "df['device'] = df['device'].map({'web':0, 'mobile':1})\n",
    "# Do they have software developed for all the operating systems & mobile?\n",
    "# Is there any trend in e.g. no mac users bought it because they have not implemented it in mac?\n",
    "# will mobile purchase rate significantly lower / higher than web purchases?\n",
    "df['operative_system'] = df['operative_system'].map({'linux':0, 'mac':1, 'windows':2,'iOS':3,'android':4,'Other':5})"
   ]
  },
  {
   "cell_type": "code",
   "execution_count": null,
   "metadata": {
    "collapsed": true
   },
   "outputs": [],
   "source": []
  }
 ],
 "metadata": {
  "anaconda-cloud": {},
  "kernelspec": {
   "display_name": "Python 3",
   "language": "python",
   "name": "python3"
  },
  "language_info": {
   "codemirror_mode": {
    "name": "ipython",
    "version": 3
   },
   "file_extension": ".py",
   "mimetype": "text/x-python",
   "name": "python",
   "nbconvert_exporter": "python",
   "pygments_lexer": "ipython3",
   "version": "3.5.5"
  }
 },
 "nbformat": 4,
 "nbformat_minor": 2
}
